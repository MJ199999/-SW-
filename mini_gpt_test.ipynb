{
  "cells": [
    {
      "cell_type": "markdown",
      "metadata": {
        "id": "view-in-github",
        "colab_type": "text"
      },
      "source": [
        "<a href=\"https://colab.research.google.com/github/MJ199999/SW-Project/blob/master/mini_gpt_test.ipynb\" target=\"_parent\"><img src=\"https://colab.research.google.com/assets/colab-badge.svg\" alt=\"Open In Colab\"/></a>"
      ]
    },
    {
      "cell_type": "code",
      "execution_count": null,
      "metadata": {
        "id": "nQ0-ielXKbkP"
      },
      "outputs": [],
      "source": [
        "import tensorflow as tf\n",
        "from tensorflow import keras\n",
        "from tensorflow.keras import layers\n",
        "from tensorflow.keras.layers import TextVectorization\n",
        "import matplotlib.pyplot as plt\n",
        "import seaborn as sns\n",
        "import pandas as pd\n",
        "import numpy as np\n",
        "import os\n",
        "import re\n",
        "import string\n",
        "import random"
      ]
    },
    {
      "cell_type": "code",
      "execution_count": null,
      "metadata": {
        "colab": {
          "base_uri": "https://localhost:8080/"
        },
        "id": "Kwpf1bwFLAl3",
        "outputId": "c5a2e1ab-b042-487e-dfdf-da373c30e99d"
      },
      "outputs": [
        {
          "name": "stdout",
          "output_type": "stream",
          "text": [
            "문장 당 평균 길이: 3.9882862644415917\n"
          ]
        }
      ],
      "source": [
        "import pandas as pd\n",
        "df = pd.read_excel(\"https://github.com/MJ199999/SW-Project/raw/master/poem_key.xlsx\")\n",
        "\n",
        "line_num = 0\n",
        "word_num = 0\n",
        "hist_word_num = []\n",
        "df_poem = df['시']\n",
        "for i in range(0, len(df_poem)):\n",
        "  poem = df_poem.iloc[i] # 시 하나 들고오기\n",
        "  line = poem.splitlines() # 그 시를 행 기준으로 나눠서 리스트로 저장\n",
        "  for j in range(0, len(line)): # 연 나누는 빈 줄 세기\n",
        "    stanza_num = 0\n",
        "    b = (line[j] == '')\n",
        "    stanza_num += b\n",
        "  line_num += (len(line)-stanza_num) # 행 개수를 센다. 연 간의 빈 라인까지 합하기 때문에 이거 빼줘야 함.\n",
        "  p_str = ' '.join(line) # line를 다시 문자열로 만들어준다.\n",
        "  word_num += len(p_str.split()) # 시의 전체 단어 개수 센다. \n",
        "  # 히스토그램 그리기 위해 계산 코드\n",
        "  for k in range(0, len(line)):\n",
        "    hist_word_num.append(len(line[k].split()))\n",
        "word_per_line = word_num/line_num # 단어 개수 / 행 개수 = 각 행당 평균 단어 개수\n",
        "print(\"문장 당 평균 길이:\", word_per_line)"
      ]
    },
    {
      "cell_type": "code",
      "execution_count": null,
      "metadata": {
        "id": "E8bP-v-ChR-y"
      },
      "outputs": [],
      "source": [
        "plt_word_num = pd.DataFrame(hist_word_num)"
      ]
    },
    {
      "cell_type": "code",
      "execution_count": null,
      "metadata": {
        "id": "Y36XfEVVn4zT"
      },
      "outputs": [],
      "source": [
        "plt_word_num = plt_word_num.rename(columns={0: '1번'})"
      ]
    },
    {
      "cell_type": "code",
      "execution_count": null,
      "metadata": {
        "colab": {
          "base_uri": "https://localhost:8080/",
          "height": 1000
        },
        "id": "_vv0GDr0bcgQ",
        "outputId": "b6908f0d-12e7-4283-dcf7-32b1eabf253f"
      },
      "outputs": [
        {
          "data": {
            "text/plain": [
              "Text(0.5, 0, '행 당 단어 개수')"
            ]
          },
          "execution_count": 153,
          "metadata": {},
          "output_type": "execute_result"
        },
        {
          "name": "stderr",
          "output_type": "stream",
          "text": [
            "/usr/local/lib/python3.7/dist-packages/matplotlib/backends/backend_agg.py:214: RuntimeWarning: Glyph 54665 missing from current font.\n",
            "  font.set_text(s, 0.0, flags=flags)\n",
            "/usr/local/lib/python3.7/dist-packages/matplotlib/backends/backend_agg.py:214: RuntimeWarning: Glyph 45817 missing from current font.\n",
            "  font.set_text(s, 0.0, flags=flags)\n",
            "/usr/local/lib/python3.7/dist-packages/matplotlib/backends/backend_agg.py:214: RuntimeWarning: Glyph 45800 missing from current font.\n",
            "  font.set_text(s, 0.0, flags=flags)\n",
            "/usr/local/lib/python3.7/dist-packages/matplotlib/backends/backend_agg.py:214: RuntimeWarning: Glyph 50612 missing from current font.\n",
            "  font.set_text(s, 0.0, flags=flags)\n",
            "/usr/local/lib/python3.7/dist-packages/matplotlib/backends/backend_agg.py:214: RuntimeWarning: Glyph 44060 missing from current font.\n",
            "  font.set_text(s, 0.0, flags=flags)\n",
            "/usr/local/lib/python3.7/dist-packages/matplotlib/backends/backend_agg.py:214: RuntimeWarning: Glyph 49688 missing from current font.\n",
            "  font.set_text(s, 0.0, flags=flags)\n",
            "/usr/local/lib/python3.7/dist-packages/matplotlib/backends/backend_agg.py:183: RuntimeWarning: Glyph 54665 missing from current font.\n",
            "  font.set_text(s, 0, flags=flags)\n",
            "/usr/local/lib/python3.7/dist-packages/matplotlib/backends/backend_agg.py:183: RuntimeWarning: Glyph 45817 missing from current font.\n",
            "  font.set_text(s, 0, flags=flags)\n",
            "/usr/local/lib/python3.7/dist-packages/matplotlib/backends/backend_agg.py:183: RuntimeWarning: Glyph 45800 missing from current font.\n",
            "  font.set_text(s, 0, flags=flags)\n",
            "/usr/local/lib/python3.7/dist-packages/matplotlib/backends/backend_agg.py:183: RuntimeWarning: Glyph 50612 missing from current font.\n",
            "  font.set_text(s, 0, flags=flags)\n",
            "/usr/local/lib/python3.7/dist-packages/matplotlib/backends/backend_agg.py:183: RuntimeWarning: Glyph 44060 missing from current font.\n",
            "  font.set_text(s, 0, flags=flags)\n",
            "/usr/local/lib/python3.7/dist-packages/matplotlib/backends/backend_agg.py:183: RuntimeWarning: Glyph 49688 missing from current font.\n",
            "  font.set_text(s, 0, flags=flags)\n"
          ]
        },
        {
          "data": {
            "image/png": "[encoded data removed]",
            "text/plain": [
              "<Figure size 1080x1080 with 1 Axes>"
            ]
          },
          "metadata": {},
          "output_type": "display_data"
        }
      ],
      "source": [
        "ax = plt.subplots(figsize=(15, 15))\n",
        "ax = sns.countplot(x='1번', data=plt_word_num)\n",
        "ax.set_xlabel('행 당 단어 개수')"
      ]
    },
    {
      "cell_type": "markdown",
      "metadata": {
        "id": "2TwVyGYp9DUV"
      },
      "source": [
        "# 시 하나 당 단어 수 세보자"
      ]
    },
    {
      "cell_type": "code",
      "execution_count": null,
      "metadata": {
        "colab": {
          "base_uri": "https://localhost:8080/"
        },
        "id": "-VwDhxTn9Cvs",
        "outputId": "5cc75c44-1a66-4ccc-dbb5-d016d0a9db0c"
      },
      "outputs": [
        {
          "name": "stdout",
          "output_type": "stream",
          "text": [
            "시 하나 당 단어 수: 170.23972602739727\n"
          ]
        }
      ],
      "source": [
        "for i in range(0, len(df_poem)):\n",
        "  word = []\n",
        "  poem = df_poem.iloc[i] # 시 하나 들고오기\n",
        "  word = poem.split()# 그 시를 단어로 split\n",
        "  word_num += len(word) # 시의 전체 단어 개수 센다. \n",
        "print('시 하나 당 단어 수:', word_num/len(df_poem))"
      ]
    },
    {
      "cell_type": "markdown",
      "metadata": {
        "id": "tDiuUkiFs3sG"
      },
      "source": [
        "# 인풋 벡터 형태로 변환 작업 수행"
      ]
    },
    {
      "cell_type": "code",
      "execution_count": null,
      "metadata": {
        "id": "7hagexebi6V-"
      },
      "outputs": [],
      "source": [
        "p_list = []\n",
        "\n",
        "for i in range(0, len(df_poem)):\n",
        "  poem = df_poem.iloc[i] # 시 하나 들고오기\n",
        "  # line = poem.splitlines() # 그 시를 행 기준으로 나눠서 리스트로 저장\n",
        "  p_list += poem\n",
        "\n",
        "\n",
        "data = tf.ragged.constant(p_list)\n",
        "text_ds = tf.data.Dataset.from_tensor_slices(p_list)\n",
        "\n",
        "batch_size = 128\n",
        "text_ds = text_ds.shuffle(buffer_size=256)\n",
        "text_ds = text_ds.batch(batch_size)\n",
        "\n",
        "vocab_size = 200000\n",
        "maxlen = 15\n",
        "\n",
        "vectorize_layer = TextVectorization(\n",
        "    max_tokens=vocab_size - 1,\n",
        "    output_mode = 'int',\n",
        "    output_sequence_length = maxlen + 1\n",
        "    )\n",
        "vectorize_layer.adapt(text_ds)\n",
        "vocab = vectorize_layer.get_vocabulary()"
      ]
    },
    {
      "cell_type": "code",
      "execution_count": null,
      "metadata": {
        "id": "sY0r7zvA32Do"
      },
      "outputs": [],
      "source": [
        "def prepare_lm_inputs_labels(text):\n",
        "    \"\"\"\n",
        "    Shift word sequences by 1 position so that the target for position (i) is\n",
        "    word at position (i+1). The model will use all words up till position (i)\n",
        "    to predict the next word.\n",
        "    \"\"\"\n",
        "    text = tf.expand_dims(text, -1)\n",
        "    tokenized_sentences = vectorize_layer(text)\n",
        "    x = tokenized_sentences[:, :-1]\n",
        "    y = tokenized_sentences[:, 1:]\n",
        "    return x, y"
      ]
    },
    {
      "cell_type": "code",
      "execution_count": null,
      "metadata": {
        "id": "4A5GXX9n5XhT"
      },
      "outputs": [],
      "source": [
        "text_ds = text_ds.map(prepare_lm_inputs_labels)\n",
        "text_ds = text_ds.prefetch(tf.data.AUTOTUNE)"
      ]
    },
    {
      "cell_type": "markdown",
      "metadata": {
        "id": "tiLbREKJ5jYv"
      },
      "source": [
        "# gpt decoder 부분 하나씩 만들기"
      ]
    },
    {
      "cell_type": "code",
      "execution_count": null,
      "metadata": {
        "id": "hPq_f0mB5ZkN"
      },
      "outputs": [],
      "source": [
        "class TokenAndPositionEmbedding(layers.Layer):\n",
        "    def __init__(self, maxlen, vocab_size, embed_dim):\n",
        "        super(TokenAndPositionEmbedding, self).__init__()\n",
        "        self.token_emb = layers.Embedding(input_dim=vocab_size, output_dim=embed_dim)\n",
        "        self.pos_emb = layers.Embedding(input_dim=maxlen, output_dim=embed_dim)\n",
        "\n",
        "    def call(self, x):\n",
        "        maxlen = tf.shape(x)[-1]\n",
        "        # token 위치에 따른 embedding을 하기위함\n",
        "        positions = tf.range(start=0, limit=maxlen, delta=1)\n",
        "        positions = self.pos_emb(positions)\n",
        "        x = self.token_emb(x)\n",
        "        return x + positions"
      ]
    },
    {
      "cell_type": "markdown",
      "metadata": {
        "id": "WDkheWcJ-ZCh"
      },
      "source": [
        "# transformer 시작"
      ]
    },
    {
      "cell_type": "code",
      "execution_count": null,
      "metadata": {
        "id": "WphFO8n85m0q"
      },
      "outputs": [],
      "source": [
        "def causal_attention_mask(batch_size, n_dest, n_src, dtype):\n",
        "    \"\"\"\n",
        "    Mask the upper half of the dot product matrix in self attention.\n",
        "    This prevents flow of information from future tokens to current token.\n",
        "    1's in the lower triangle, counting from the lower right corner.\n",
        "    \"\"\"\n",
        "    i = tf.range(n_dest)[:, None]\n",
        "    j = tf.range(n_src)\n",
        "    m = i >= j - n_src + n_dest\n",
        "    mask = tf.cast(m, dtype)\n",
        "    mask = tf.reshape(mask, [1, n_dest, n_src])\n",
        "    mult = tf.concat(\n",
        "        [tf.expand_dims(batch_size, -1), tf.constant([1, 1], dtype=tf.int32)], 0\n",
        "    )\n",
        "    return tf.tile(mask, mult)\n",
        "\n",
        "\n",
        "class TransformerBlock(layers.Layer):\n",
        "    def __init__(self, embed_dim, num_heads, ff_dim, rate=0.1):\n",
        "        super(TransformerBlock, self).__init__()\n",
        "        self.att = layers.MultiHeadAttention(num_heads, embed_dim)\n",
        "        self.ffn = keras.Sequential(\n",
        "            [layers.Dense(ff_dim, activation=\"relu\"), layers.Dense(embed_dim),]\n",
        "        )\n",
        "        self.layernorm1 = layers.LayerNormalization(epsilon=1e-6)\n",
        "        self.layernorm2 = layers.LayerNormalization(epsilon=1e-6)\n",
        "        self.dropout1 = layers.Dropout(rate)\n",
        "        self.dropout2 = layers.Dropout(rate)\n",
        "\n",
        "    def call(self, inputs):\n",
        "        input_shape = tf.shape(inputs)\n",
        "        batch_size = input_shape[0]\n",
        "        seq_len = input_shape[1]\n",
        "        causal_mask = causal_attention_mask(batch_size, seq_len, seq_len, tf.bool)\n",
        "        attention_output = self.att(inputs, inputs, attention_mask=causal_mask)\n",
        "        attention_output = self.dropout1(attention_output)\n",
        "        out1 = self.layernorm1(inputs + attention_output)\n",
        "        ffn_output = self.ffn(out1)\n",
        "        ffn_output = self.dropout2(ffn_output)\n",
        "        return self.layernorm2(out1 + ffn_output)"
      ]
    },
    {
      "cell_type": "code",
      "execution_count": null,
      "metadata": {
        "id": "Hbvgf5c75pvo"
      },
      "outputs": [],
      "source": [
        "# 변수 정의 및 모델 함수 정의\n",
        "\n",
        "embed_dim = 256  # Embedding size for each token\n",
        "num_heads = 2  # Number of attention heads\n",
        "feed_forward_dim = 256  # Hidden layer size in feed forward network inside transformer\n",
        "\n",
        "def create_model():\n",
        "    inputs = layers.Input(shape=(maxlen,), dtype=tf.int32) \n",
        "    # input 정의\n",
        "    \n",
        "    embedding_layer = TokenAndPositionEmbedding(maxlen, vocab_size, embed_dim) \n",
        "    # token Embedding + positional Embedding layer class 정의\n",
        "    \n",
        "    x = embedding_layer(inputs) \n",
        "    # 선언한 Embedding layer class 이용해 Embedding\n",
        "    \n",
        "    transformer_block = TransformerBlock(embed_dim, num_heads, feed_forward_dim) \n",
        "    # transformer block layer class 정의\n",
        "    \n",
        "    x = transformer_block(x) \n",
        "    # 선언한 transformer layer class 이용해 학습\n",
        "    \n",
        "    outputs = layers.Dense(vocab_size)(x) \n",
        "    # 압축된 결과를 vocab에 맞춰 팽창 (후보단어 선별을 위한 각 단어에 대한 결과치 도출)\n",
        "    \n",
        "    model = keras.Model(inputs=inputs, outputs=[outputs, x])  \n",
        "    # model 정의\n",
        "    \n",
        "    loss_fn = tf.keras.losses.SparseCategoricalCrossentropy(from_logits=True) \n",
        "    model.compile(\n",
        "        \"adam\", loss=[loss_fn, None],\n",
        "    )  # No loss and optimization based on word embeddings from transformer block\n",
        "    model.summary()\n",
        "    return model"
      ]
    },
    {
      "cell_type": "code",
      "execution_count": null,
      "metadata": {
        "id": "TW6CxjRZ6B4i"
      },
      "outputs": [],
      "source": [
        "class TextGenerator(keras.callbacks.Callback):\n",
        "    \"\"\"A callback to generate text from a trained model.\n",
        "    1. Feed some starting prompt to the model\n",
        "    2. Predict probabilities for the next token\n",
        "    3. Sample the next token and add it to the next input\n",
        "\n",
        "    Arguments:\n",
        "        max_tokens: Integer, the number of tokens to be generated after prompt.\n",
        "        start_tokens: List of integers, the token indices for the starting prompt.\n",
        "        index_to_word: List of strings, obtained from the TextVectorization layer.\n",
        "        top_k: Integer, sample from the `top_k` token predictions.\n",
        "        print_every: Integer, print after this many epochs.\n",
        "    \"\"\"\n",
        "\n",
        "    def __init__(\n",
        "        self, max_tokens, start_tokens, index_to_word, top_k=10, print_every=1\n",
        "    ):\n",
        "        self.max_tokens = max_tokens\n",
        "        self.start_tokens = start_tokens\n",
        "        self.index_to_word = index_to_word\n",
        "        self.print_every = print_every\n",
        "        self.k = top_k\n",
        "\n",
        "    def sample_from(self, logits):\n",
        "        logits, indices = tf.math.top_k(logits, k=self.k, sorted=True)\n",
        "        indices = np.asarray(indices).astype(\"int32\")\n",
        "        preds = keras.activations.softmax(tf.expand_dims(logits, 0))[0]\n",
        "        preds = np.asarray(preds).astype(\"float32\")\n",
        "        return np.random.choice(indices, p=preds)\n",
        "\n",
        "    def detokenize(self, number):\n",
        "        return self.index_to_word[number]\n",
        "\n",
        "    def on_epoch_end(self, epoch, logs=None):\n",
        "        start_tokens = [_ for _ in self.start_tokens]\n",
        "        if (epoch + 1) % self.print_every != 0:\n",
        "            return\n",
        "        num_tokens_generated = 0\n",
        "        tokens_generated = []\n",
        "        while num_tokens_generated <= self.max_tokens:\n",
        "            pad_len = maxlen - len(start_tokens)\n",
        "            sample_index = len(start_tokens) - 1\n",
        "            if pad_len < 0:\n",
        "                x = start_tokens[:maxlen]\n",
        "                sample_index = maxlen - 1\n",
        "            elif pad_len > 0:\n",
        "                x = start_tokens + [0] * pad_len\n",
        "            else:\n",
        "                x = start_tokens\n",
        "            x = np.array([x])\n",
        "            y, _ = self.model.predict(x)\n",
        "            sample_token = self.sample_from(y[0][sample_index])\n",
        "            tokens_generated.append(sample_token)\n",
        "            start_tokens.append(sample_token)\n",
        "            num_tokens_generated = len(tokens_generated)\n",
        "        txt = \" \".join(\n",
        "            [self.detokenize(_) for _ in self.start_tokens + tokens_generated]\n",
        "        )\n",
        "        print(f\"generated text:\\n{txt}\\n\")\n",
        "\n",
        "\n",
        "# Tokenize starting prompt\n",
        "word_to_index = {}\n",
        "for index, word in enumerate(vocab):\n",
        "    word_to_index[word] = index\n",
        "\n",
        "start_prompt = \"벚꽃\"\n",
        "start_tokens = [word_to_index.get(_, 1) for _ in start_prompt.split()]\n",
        "num_tokens_generated = 40\n",
        "text_gen_callback = TextGenerator(num_tokens_generated, start_tokens, vocab)"
      ]
    },
    {
      "cell_type": "code",
      "execution_count": null,
      "metadata": {
        "colab": {
          "background_save": true,
          "base_uri": "https://localhost:8080/"
        },
        "id": "0k9tUPDD6D_P",
        "outputId": "c7113128-f8e1-4195-f435-ee94d531a61e"
      },
      "outputs": [
        {
          "name": "stdout",
          "output_type": "stream",
          "text": [
            "Model: \"model_10\"\n",
            "_________________________________________________________________\n",
            " Layer (type)                Output Shape              Param #   \n",
            "=================================================================\n",
            " input_11 (InputLayer)       [(None, 15)]              0         \n",
            "                                                                 \n",
            " token_and_position_embeddin  (None, 15, 256)          51203840  \n",
            " g_10 (TokenAndPositionEmbed                                     \n",
            " ding)                                                           \n",
            "                                                                 \n",
            " transformer_block_10 (Trans  (None, 15, 256)          658688    \n",
            " formerBlock)                                                    \n",
            "                                                                 \n",
            " dense_32 (Dense)            (None, 15, 200000)        51400000  \n",
            "                                                                 \n",
            "=================================================================\n",
            "Total params: 103,262,528\n",
            "Trainable params: 103,262,528\n",
            "Non-trainable params: 0\n",
            "_________________________________________________________________\n",
            "Epoch 1/20\n",
            "  6/748 [..............................] - ETA: 2:05 - loss: 11.2738 - dense_32_loss: 11.2738"
          ]
        },
        {
          "name": "stderr",
          "output_type": "stream",
          "text": [
            "WARNING:tensorflow:Callback method `on_train_batch_end` is slow compared to the batch time (batch time: 0.0798s vs `on_train_batch_end` time: 0.0884s). Check your callbacks.\n"
          ]
        },
        {
          "name": "stdout",
          "output_type": "stream",
          "text": [
            "748/748 [==============================] - ETA: 0s - loss: 0.2535 - dense_32_loss: 0.2535generated text:\n",
            "[UNK]                                         \n",
            "\n",
            "748/748 [==============================] - 128s 168ms/step - loss: 0.2535 - dense_32_loss: 0.2535\n",
            "Epoch 2/20\n",
            "748/748 [==============================] - ETA: 0s - loss: 2.0241e-04 - dense_32_loss: 2.0241e-04generated text:\n",
            "[UNK]                                         \n",
            "\n",
            "748/748 [==============================] - 126s 168ms/step - loss: 2.0241e-04 - dense_32_loss: 2.0241e-04\n",
            "Epoch 3/20\n",
            "748/748 [==============================] - ETA: 0s - loss: 8.5720e-05 - dense_32_loss: 8.5720e-05generated text:\n",
            "[UNK]                                         \n",
            "\n",
            "748/748 [==============================] - 126s 169ms/step - loss: 8.5720e-05 - dense_32_loss: 8.5720e-05\n",
            "Epoch 4/20\n",
            "748/748 [==============================] - ETA: 0s - loss: 4.5025e-05 - dense_32_loss: 4.5025e-05generated text:\n",
            "[UNK]                                         \n",
            "\n",
            "748/748 [==============================] - 126s 169ms/step - loss: 4.5025e-05 - dense_32_loss: 4.5025e-05\n",
            "Epoch 5/20\n",
            "748/748 [==============================] - ETA: 0s - loss: 2.6395e-05 - dense_32_loss: 2.6395e-05generated text:\n",
            "[UNK]                                         \n",
            "\n",
            "748/748 [==============================] - 126s 169ms/step - loss: 2.6395e-05 - dense_32_loss: 2.6395e-05\n",
            "Epoch 6/20\n",
            "748/748 [==============================] - ETA: 0s - loss: 1.6387e-05 - dense_32_loss: 1.6387e-05generated text:\n",
            "[UNK]                                         \n",
            "\n",
            "748/748 [==============================] - 126s 168ms/step - loss: 1.6387e-05 - dense_32_loss: 1.6387e-05\n",
            "Epoch 7/20\n",
            "748/748 [==============================] - ETA: 0s - loss: 1.0915e-05 - dense_32_loss: 1.0915e-05generated text:\n",
            "[UNK]                                         \n",
            "\n",
            "748/748 [==============================] - 126s 168ms/step - loss: 1.0915e-05 - dense_32_loss: 1.0915e-05\n",
            "Epoch 8/20\n",
            "748/748 [==============================] - ETA: 0s - loss: 6.3948e-06 - dense_32_loss: 6.3948e-06generated text:\n",
            "[UNK]                                         \n",
            "\n",
            "748/748 [==============================] - 126s 168ms/step - loss: 6.3948e-06 - dense_32_loss: 6.3948e-06\n",
            "Epoch 9/20\n",
            "748/748 [==============================] - ETA: 0s - loss: 5.5221e-06 - dense_32_loss: 5.5221e-06generated text:\n",
            "[UNK]                                         \n",
            "\n",
            "748/748 [==============================] - 126s 168ms/step - loss: 5.5221e-06 - dense_32_loss: 5.5221e-06\n",
            "Epoch 10/20\n",
            "748/748 [==============================] - ETA: 0s - loss: 3.1035e-06 - dense_32_loss: 3.1035e-06generated text:\n",
            "[UNK]                                         \n",
            "\n",
            "748/748 [==============================] - 126s 168ms/step - loss: 3.1035e-06 - dense_32_loss: 3.1035e-06\n",
            "Epoch 11/20\n",
            "748/748 [==============================] - ETA: 0s - loss: 6.2937e-07 - dense_32_loss: 6.2937e-07generated text:\n",
            "[UNK]                                         \n",
            "\n",
            "748/748 [==============================] - 126s 168ms/step - loss: 6.2937e-07 - dense_32_loss: 6.2937e-07\n",
            "Epoch 12/20\n",
            "748/748 [==============================] - ETA: 0s - loss: 4.0106e-07 - dense_32_loss: 4.0106e-07generated text:\n",
            "[UNK]                                         \n",
            "\n",
            "748/748 [==============================] - 126s 168ms/step - loss: 4.0106e-07 - dense_32_loss: 4.0106e-07\n",
            "Epoch 13/20\n",
            "748/748 [==============================] - ETA: 0s - loss: 3.2810e-07 - dense_32_loss: 3.2810e-07generated text:\n",
            "[UNK]                                         \n",
            "\n",
            "748/748 [==============================] - 126s 168ms/step - loss: 3.2810e-07 - dense_32_loss: 3.2810e-07\n",
            "Epoch 14/20\n",
            "748/748 [==============================] - ETA: 0s - loss: 2.6284e-07 - dense_32_loss: 2.6284e-07generated text:\n",
            "[UNK]                                         \n",
            "\n",
            "748/748 [==============================] - 126s 168ms/step - loss: 2.6284e-07 - dense_32_loss: 2.6284e-07\n",
            "Epoch 15/20\n",
            "748/748 [==============================] - ETA: 0s - loss: 2.0629e-07 - dense_32_loss: 2.0629e-07generated text:\n",
            "[UNK]                                         \n",
            "\n",
            "748/748 [==============================] - 126s 168ms/step - loss: 2.0629e-07 - dense_32_loss: 2.0629e-07\n",
            "Epoch 16/20\n",
            "748/748 [==============================] - ETA: 0s - loss: 1.5639e-07 - dense_32_loss: 1.5639e-07generated text:\n",
            "[UNK]                                         \n",
            "\n",
            "748/748 [==============================] - 126s 168ms/step - loss: 1.5639e-07 - dense_32_loss: 1.5639e-07\n",
            "Epoch 17/20\n",
            "748/748 [==============================] - ETA: 0s - loss: 1.1420e-07 - dense_32_loss: 1.1420e-07generated text:\n",
            "[UNK]                                         \n",
            "\n",
            "748/748 [==============================] - 126s 168ms/step - loss: 1.1420e-07 - dense_32_loss: 1.1420e-07\n",
            "Epoch 18/20\n",
            "748/748 [==============================] - ETA: 0s - loss: 8.0831e-08 - dense_32_loss: 8.0831e-08generated text:\n",
            "[UNK]                                         \n",
            "\n",
            "748/748 [==============================] - 126s 168ms/step - loss: 8.0831e-08 - dense_32_loss: 8.0831e-08\n",
            "Epoch 19/20\n",
            "748/748 [==============================] - ETA: 0s - loss: 5.4507e-08 - dense_32_loss: 5.4507e-08generated text:\n",
            "[UNK]                                         \n",
            "\n",
            "748/748 [==============================] - 126s 169ms/step - loss: 5.4507e-08 - dense_32_loss: 5.4507e-08\n",
            "Epoch 20/20\n",
            "748/748 [==============================] - ETA: 0s - loss: 3.2773e-08 - dense_32_loss: 3.2773e-08generated text:\n",
            "[UNK]                                         \n",
            "\n",
            "748/748 [==============================] - 126s 169ms/step - loss: 3.2773e-08 - dense_32_loss: 3.2773e-08\n"
          ]
        },
        {
          "data": {
            "text/plain": [
              "<keras.callbacks.History at 0x7fe8c8f309d0>"
            ]
          },
          "execution_count": 239,
          "metadata": {},
          "output_type": "execute_result"
        }
      ],
      "source": [
        "model = create_model()\n",
        "model.fit(text_ds, verbose=1, epochs=20, callbacks=[text_gen_callback])"
      ]
    },
    {
      "cell_type": "code",
      "execution_count": null,
      "metadata": {
        "id": "sFgxtMXm6RER"
      },
      "outputs": [],
      "source": []
    }
  ],
  "metadata": {
    "accelerator": "GPU",
    "colab": {
      "collapsed_sections": [],
      "machine_shape": "hm",
      "name": "mini-gpt_test.ipynb",
      "provenance": [],
      "authorship_tag": "ABX9TyNyztOA/sRKQ01gNbRPnoeI",
      "include_colab_link": true
    },
    "gpuClass": "standard",
    "kernelspec": {
      "display_name": "Python 3",
      "name": "python3"
    },
    "language_info": {
      "name": "python"
    }
  },
  "nbformat": 4,
  "nbformat_minor": 0
}