{
  "nbformat": 4,
  "nbformat_minor": 0,
  "metadata": {
    "colab": {
      "name": "poem_cralwer.ipynb",
      "provenance": [],
      "authorship_tag": "ABX9TyNe/wFXwUkQCrj4538gNDw+",
      "include_colab_link": true
    },
    "kernelspec": {
      "name": "python3",
      "display_name": "Python 3"
    },
    "language_info": {
      "name": "python"
    }
  },
  "cells": [
    {
      "cell_type": "markdown",
      "metadata": {
        "id": "view-in-github",
        "colab_type": "text"
      },
      "source": [
        "<a href=\"https://colab.research.google.com/github/MJ199999/SW-Project/blob/master/poem_cralwer.ipynb\" target=\"_parent\"><img src=\"https://colab.research.google.com/assets/colab-badge.svg\" alt=\"Open In Colab\"/></a>"
      ]
    },
    {
      "cell_type": "code",
      "execution_count": null,
      "metadata": {
        "id": "33OCkIUHy71d"
      },
      "outputs": [],
      "source": [
        "from http.client import REQUEST_HEADER_FIELDS_TOO_LARGE\n",
        "from selenium import webdriver\n",
        "from selenium.webdriver.common.keys import Keys\n",
        "import time\n",
        "import urllib.request\n",
        "from urllib.request import urlopen\n",
        "import ssl\n",
        "import requests\n",
        "from selenium import webdriver\n",
        "from selenium.webdriver.common.keys import Keys\n",
        "import time\n",
        "import urllib.request\n",
        "import ssl\n",
        "import requests\n",
        "\n",
        "import time\n",
        "import re\n",
        "from selenium import webdriver\n",
        "from bs4 import BeautifulSoup\n",
        "import time\n",
        "import re\n",
        "import time\n",
        "\n",
        "import selenium\n",
        "from selenium import webdriver as wd\n",
        "import time\n",
        "#import requests as req\n",
        "import pandas as pd\n",
        "from bs4 import BeautifulSoup\n",
        "\n",
        "import time\n",
        "import re\n",
        "ssl._create_default_https_context = ssl._create_unverified_context\n",
        "\n",
        "url = \"https://www.koreapoet.com/default/mp5/mp5_sub3.php?com_board_basic=read_form&com_board_idx=50&sub=03&&com_board_search_code=&com_board_search_value1=&com_board_search_value2=&com_board_page=1&&com_board_id=18&&com_board_id=18\"\n",
        "driver = webdriver.Chrome('chromedriver.exe')\n",
        "driver.get(url)\n",
        "time.sleep(3)\n",
        "\n",
        "\n",
        "#함수정의: 열린 페이지에서 본문 가져오기 \n",
        "def get_content(driver):\n",
        "    try:\n",
        "        html = driver.page_source\n",
        "        time.sleep(1)\n",
        "        soup = BeautifulSoup(html, \"lxml\")\n",
        "        time.sleep(1)\n",
        "        content = soup.select('#post_area').text\n",
        "        time.sleep(1)\n",
        "    except:\n",
        "        print(\"None\")\n",
        "    else:\n",
        "        print(content)\n",
        "       \n",
        "# 함수 정의 : 첫 번째 게시물 클릭 후 다음 게시물 클릭\n",
        "def move_next(driver):\n",
        "    right = driver.find_element_by_xpath('//*[@id=\"contentsArea\"]/div[2]/table/tbody/tr/td/table[7]/tbody/tr/td[1]/table/tbody/tr/td/a[1]/img')\n",
        "    right.click()\n",
        "    time.sleep(3)\n",
        "\n",
        "get_content(driver)\n",
        "move_next(driver)\n",
        "\n",
        "#크롤링 시작\n",
        "poem_list =[]\n",
        "\n",
        "while True:\n",
        "    try:\n",
        "        data = get_content(driver)\n",
        "        poem_list.append(data)\n",
        "        time.sleep(3)\n",
        "    except:\n",
        "        print(\"ERROR\")\n",
        "    else:\n",
        "        move_next(driver)\n",
        "        print(\"next\")\n",
        "        print(data)\n",
        "\n",
        "    "
      ]
    }
  ]
}