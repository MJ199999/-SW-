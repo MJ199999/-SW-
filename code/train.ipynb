{
  "cells": [
    {
      "cell_type": "markdown",
      "metadata": {
        "id": "view-in-github",
        "colab_type": "text"
      },
      "source": [
        "<a href=\"https://colab.research.google.com/github/MJ199999/SW-Project/blob/master/code/train.ipynb\" target=\"_parent\"><img src=\"https://colab.research.google.com/assets/colab-badge.svg\" alt=\"Open In Colab\"/></a>"
      ]
    },
    {
      "cell_type": "markdown",
      "metadata": {
        "id": "alM2VoXau3bm"
      },
      "source": [
        "# 1. Install"
      ]
    },
    {
      "cell_type": "code",
      "execution_count": 1,
      "metadata": {
        "colab": {
          "base_uri": "https://localhost:8080/"
        },
        "id": "LzpVhjBy-TyU",
        "outputId": "98147bbd-d80b-47f6-cf47-e0077775c911"
      },
      "outputs": [
        {
          "output_type": "stream",
          "name": "stdout",
          "text": [
            "Mounted at /gdrive\n"
          ]
        }
      ],
      "source": [
        "from google.colab import drive\n",
        "drive.mount('/gdrive')"
      ]
    },
    {
      "cell_type": "code",
      "execution_count": 2,
      "metadata": {
        "id": "ncVu4X79wc-y",
        "colab": {
          "base_uri": "https://localhost:8080/"
        },
        "outputId": "35f85f0b-1527-451d-be5d-02de961e8ab9"
      },
      "outputs": [
        {
          "output_type": "stream",
          "name": "stdout",
          "text": [
            "Installing collected packages: tokenizers, huggingface-hub, transformers\n",
            "Successfully installed huggingface-hub-0.9.1 tokenizers-0.12.1 transformers-4.21.3\n"
          ]
        }
      ],
      "source": [
        "!pip install transformers"
      ]
    },
    {
      "cell_type": "markdown",
      "metadata": {
        "id": "SKaH-251vB70"
      },
      "source": [
        "# 2. Data Load & Simple Preprocess"
      ]
    },
    {
      "cell_type": "code",
      "execution_count": null,
      "metadata": {
        "id": "Vz28DoS2P6Vx"
      },
      "outputs": [],
      "source": [
        "!wget https://github.com/MJ199999/SW-Project/raw/master/poem_key.xlsx"
      ]
    },
    {
      "cell_type": "code",
      "execution_count": 4,
      "metadata": {
        "id": "3kKfitLzwsC_"
      },
      "outputs": [],
      "source": [
        "import pandas as pd\n",
        "\n",
        "df = pd.read_excel('/content/poem_key.xlsx')"
      ]
    },
    {
      "cell_type": "code",
      "execution_count": null,
      "metadata": {
        "id": "Lj2i1m8BjB1k"
      },
      "outputs": [],
      "source": [
        "df.info()"
      ]
    },
    {
      "cell_type": "code",
      "execution_count": 5,
      "metadata": {
        "id": "FaOWk3ejZdkH"
      },
      "outputs": [],
      "source": [
        "df = df.drop('Unnamed: 0', axis=1)"
      ]
    },
    {
      "cell_type": "code",
      "execution_count": 6,
      "metadata": {
        "id": "D6vS5gMCiywC"
      },
      "outputs": [],
      "source": [
        "df = df.dropna()"
      ]
    },
    {
      "cell_type": "code",
      "execution_count": null,
      "metadata": {
        "colab": {
          "base_uri": "https://localhost:8080/",
          "height": 354
        },
        "id": "W3WCaqwnc8Cr",
        "outputId": "882cffc5-8400-4564-ba65-c7369550e70e"
      },
      "outputs": [
        {
          "data": {
            "text/html": [
              "\n",
              "  <div id=\"df-5094c409-7887-44a4-9bfe-8fdad5677ea4\">\n",
              "    <div class=\"colab-df-container\">\n",
              "      <div>\n",
              "<style scoped>\n",
              "    .dataframe tbody tr th:only-of-type {\n",
              "        vertical-align: middle;\n",
              "    }\n",
              "\n",
              "    .dataframe tbody tr th {\n",
              "        vertical-align: top;\n",
              "    }\n",
              "\n",
              "    .dataframe thead th {\n",
              "        text-align: right;\n",
              "    }\n",
              "</style>\n",
              "<table border=\"1\" class=\"dataframe\">\n",
              "  <thead>\n",
              "    <tr style=\"text-align: right;\">\n",
              "      <th></th>\n",
              "      <th>시인</th>\n",
              "      <th>제목</th>\n",
              "      <th>시</th>\n",
              "      <th>키워드 전체</th>\n",
              "      <th>키워드1</th>\n",
              "      <th>키워드2</th>\n",
              "      <th>키워드3</th>\n",
              "      <th>키워드4</th>\n",
              "      <th>키워드5</th>\n",
              "    </tr>\n",
              "  </thead>\n",
              "  <tbody>\n",
              "    <tr>\n",
              "      <th>0</th>\n",
              "      <td>강은교</td>\n",
              "      <td>우리가 물이 되어</td>\n",
              "      <td>우리가 물이 되어 만난다면\\n가문 어느 집에선들 좋아하지 않으랴.\\n우리가 키 큰 ...</td>\n",
              "      <td>강물, 처녀, 나무, 가문, 기도</td>\n",
              "      <td>강물</td>\n",
              "      <td>처녀</td>\n",
              "      <td>나무</td>\n",
              "      <td>가문</td>\n",
              "      <td>기도</td>\n",
              "    </tr>\n",
              "    <tr>\n",
              "      <th>1</th>\n",
              "      <td>김춘수</td>\n",
              "      <td>꽃을 위한 서시</td>\n",
              "      <td>나는 시방 위험한 짐승이다.\\n나의 손이 닿으면 너는 \\n미지의 까마득한 어둠이 된...</td>\n",
              "      <td>어둠, 신부, 울음, 짐승, 추억</td>\n",
              "      <td>어둠</td>\n",
              "      <td>신부</td>\n",
              "      <td>울음</td>\n",
              "      <td>짐승</td>\n",
              "      <td>추억</td>\n",
              "    </tr>\n",
              "    <tr>\n",
              "      <th>2</th>\n",
              "      <td>김춘수</td>\n",
              "      <td>꽃</td>\n",
              "      <td>내가 그의 이름을 불러 주기 전에는\\n그는 다만\\n하나의 몸짓에 지나지 않았다. \\...</td>\n",
              "      <td>향기, 무엇, 빛깔, 모두, 눈짓</td>\n",
              "      <td>향기</td>\n",
              "      <td>무엇</td>\n",
              "      <td>빛깔</td>\n",
              "      <td>모두</td>\n",
              "      <td>눈짓</td>\n",
              "    </tr>\n",
              "    <tr>\n",
              "      <th>3</th>\n",
              "      <td>김춘수</td>\n",
              "      <td>능금</td>\n",
              "      <td>그는 그리움에 산다.\\n그리움은 익어서 \\n스스로도 견디기 어려운\\n빛깔이 되고 향...</td>\n",
              "      <td>그리움, 축제, 충실, 향기, 바다</td>\n",
              "      <td>그리움</td>\n",
              "      <td>축제</td>\n",
              "      <td>충실</td>\n",
              "      <td>향기</td>\n",
              "      <td>바다</td>\n",
              "    </tr>\n",
              "    <tr>\n",
              "      <th>4</th>\n",
              "      <td>김춘수</td>\n",
              "      <td>부두에서</td>\n",
              "      <td>바다에 굽힌 사나이들\\n하루의 노동을 끝낸\\n저 사나이들의 억센 팔에 안긴\\n깨지지...</td>\n",
              "      <td>상어, 노동, 온전, 바다, 물개</td>\n",
              "      <td>상어</td>\n",
              "      <td>노동</td>\n",
              "      <td>온전</td>\n",
              "      <td>바다</td>\n",
              "      <td>물개</td>\n",
              "    </tr>\n",
              "  </tbody>\n",
              "</table>\n",
              "</div>\n",
              "      <button class=\"colab-df-convert\" onclick=\"convertToInteractive('df-5094c409-7887-44a4-9bfe-8fdad5677ea4')\"\n",
              "              title=\"Convert this dataframe to an interactive table.\"\n",
              "              style=\"display:none;\">\n",
              "        \n",
              "  <svg xmlns=\"http://www.w3.org/2000/svg\" height=\"24px\"viewBox=\"0 0 24 24\"\n",
              "       width=\"24px\">\n",
              "    <path d=\"M0 0h24v24H0V0z\" fill=\"none\"/>\n",
              "    <path d=\"M18.56 5.44l.94 2.06.94-2.06 2.06-.94-2.06-.94-.94-2.06-.94 2.06-2.06.94zm-11 1L8.5 8.5l.94-2.06 2.06-.94-2.06-.94L8.5 2.5l-.94 2.06-2.06.94zm10 10l.94 2.06.94-2.06 2.06-.94-2.06-.94-.94-2.06-.94 2.06-2.06.94z\"/><path d=\"M17.41 7.96l-1.37-1.37c-.4-.4-.92-.59-1.43-.59-.52 0-1.04.2-1.43.59L10.3 9.45l-7.72 7.72c-.78.78-.78 2.05 0 2.83L4 21.41c.39.39.9.59 1.41.59.51 0 1.02-.2 1.41-.59l7.78-7.78 2.81-2.81c.8-.78.8-2.07 0-2.86zM5.41 20L4 18.59l7.72-7.72 1.47 1.35L5.41 20z\"/>\n",
              "  </svg>\n",
              "      </button>\n",
              "      \n",
              "  <style>\n",
              "    .colab-df-container {\n",
              "      display:flex;\n",
              "      flex-wrap:wrap;\n",
              "      gap: 12px;\n",
              "    }\n",
              "\n",
              "    .colab-df-convert {\n",
              "      background-color: #E8F0FE;\n",
              "      border: none;\n",
              "      border-radius: 50%;\n",
              "      cursor: pointer;\n",
              "      display: none;\n",
              "      fill: #1967D2;\n",
              "      height: 32px;\n",
              "      padding: 0 0 0 0;\n",
              "      width: 32px;\n",
              "    }\n",
              "\n",
              "    .colab-df-convert:hover {\n",
              "      background-color: #E2EBFA;\n",
              "      box-shadow: 0px 1px 2px rgba(60, 64, 67, 0.3), 0px 1px 3px 1px rgba(60, 64, 67, 0.15);\n",
              "      fill: #174EA6;\n",
              "    }\n",
              "\n",
              "    [theme=dark] .colab-df-convert {\n",
              "      background-color: #3B4455;\n",
              "      fill: #D2E3FC;\n",
              "    }\n",
              "\n",
              "    [theme=dark] .colab-df-convert:hover {\n",
              "      background-color: #434B5C;\n",
              "      box-shadow: 0px 1px 3px 1px rgba(0, 0, 0, 0.15);\n",
              "      filter: drop-shadow(0px 1px 2px rgba(0, 0, 0, 0.3));\n",
              "      fill: #FFFFFF;\n",
              "    }\n",
              "  </style>\n",
              "\n",
              "      <script>\n",
              "        const buttonEl =\n",
              "          document.querySelector('#df-5094c409-7887-44a4-9bfe-8fdad5677ea4 button.colab-df-convert');\n",
              "        buttonEl.style.display =\n",
              "          google.colab.kernel.accessAllowed ? 'block' : 'none';\n",
              "\n",
              "        async function convertToInteractive(key) {\n",
              "          const element = document.querySelector('#df-5094c409-7887-44a4-9bfe-8fdad5677ea4');\n",
              "          const dataTable =\n",
              "            await google.colab.kernel.invokeFunction('convertToInteractive',\n",
              "                                                     [key], {});\n",
              "          if (!dataTable) return;\n",
              "\n",
              "          const docLinkHtml = 'Like what you see? Visit the ' +\n",
              "            '<a target=\"_blank\" href=https://colab.research.google.com/notebooks/data_table.ipynb>data table notebook</a>'\n",
              "            + ' to learn more about interactive tables.';\n",
              "          element.innerHTML = '';\n",
              "          dataTable['output_type'] = 'display_data';\n",
              "          await google.colab.output.renderOutput(dataTable, element);\n",
              "          const docLink = document.createElement('div');\n",
              "          docLink.innerHTML = docLinkHtml;\n",
              "          element.appendChild(docLink);\n",
              "        }\n",
              "      </script>\n",
              "    </div>\n",
              "  </div>\n",
              "  "
            ],
            "text/plain": [
              "    시인         제목                                                  시  \\\n",
              "0  강은교  우리가 물이 되어  우리가 물이 되어 만난다면\\n가문 어느 집에선들 좋아하지 않으랴.\\n우리가 키 큰 ...   \n",
              "1  김춘수   꽃을 위한 서시  나는 시방 위험한 짐승이다.\\n나의 손이 닿으면 너는 \\n미지의 까마득한 어둠이 된...   \n",
              "2  김춘수          꽃  내가 그의 이름을 불러 주기 전에는\\n그는 다만\\n하나의 몸짓에 지나지 않았다. \\...   \n",
              "3  김춘수         능금  그는 그리움에 산다.\\n그리움은 익어서 \\n스스로도 견디기 어려운\\n빛깔이 되고 향...   \n",
              "4  김춘수       부두에서  바다에 굽힌 사나이들\\n하루의 노동을 끝낸\\n저 사나이들의 억센 팔에 안긴\\n깨지지...   \n",
              "\n",
              "                키워드 전체 키워드1 키워드2 키워드3 키워드4 키워드5  \n",
              "0   강물, 처녀, 나무, 가문, 기도   강물   처녀   나무   가문   기도  \n",
              "1   어둠, 신부, 울음, 짐승, 추억   어둠   신부   울음   짐승   추억  \n",
              "2   향기, 무엇, 빛깔, 모두, 눈짓   향기   무엇   빛깔   모두   눈짓  \n",
              "3  그리움, 축제, 충실, 향기, 바다  그리움   축제   충실   향기   바다  \n",
              "4   상어, 노동, 온전, 바다, 물개   상어   노동   온전   바다   물개  "
            ]
          },
          "execution_count": 8,
          "metadata": {},
          "output_type": "execute_result"
        }
      ],
      "source": [
        "df.head()"
      ]
    },
    {
      "cell_type": "code",
      "execution_count": 7,
      "metadata": {
        "id": "6TBDatyawk-y"
      },
      "outputs": [],
      "source": [
        "train_dataset = df"
      ]
    },
    {
      "cell_type": "markdown",
      "metadata": {
        "id": "iLQuMdpUvNZr"
      },
      "source": [
        "# 3. Load Tokenizer & GPT3 Model"
      ]
    },
    {
      "cell_type": "code",
      "execution_count": 8,
      "metadata": {
        "colab": {
          "base_uri": "https://localhost:8080/",
          "height": 145,
          "referenced_widgets": [
            "071947996c7144d68cd29e0df219420d",
            "1c317184a5234da78c3296e26b1b4e71",
            "8d8a0f9147b94d5aa7570de828f66073",
            "f406442fdd55487ea8aa3f1b26cf9bc8",
            "1196418ef32a4ab085e7c28b95e703be",
            "7da6262334504978bb80277cc839f648",
            "c30a52fc646b4eb0ac558dfb56c125ca",
            "bc66d64f0d2b47b384c160f6eb3c7167",
            "2d80bfa709ae4ef8ba618e0b2be6d69b",
            "2e21bccf81614e10ba80d3b6cb1e5289",
            "7abe62f8c31e431080de77426910b26f",
            "a2dbb77c83bb437cb8d65e8e6413dacc",
            "5c4b9fbaa2b8461d9f51dede492d2af2",
            "ae4f6c87944647c683af8abb845e9d45",
            "62a30e8dd64744bfaebbd953ace987d2",
            "5ff54fbaa2634a6295a21f7b47b56353",
            "1e5762cb540a4c0d939c5bbb0a026b6d",
            "b502c29ebf6742f5b15f4bdc380e1e31",
            "46506174d0244020b3544c622771e41d",
            "8a0ae50e41fb42d686cb15437a20a76c",
            "e325309f37bf40d98ee3bad1446680c2",
            "9e4cd3860f214b7a9008dd9d81085c28",
            "726e668f73c3421aaf610c9db3fb2fde",
            "b78794d27da44d30b1921e558218fccd",
            "7d95f2ce3d854af39e7f65a427778c1a",
            "43b8400204ea4f5bb641e9b3447fdaea",
            "3a2dad1f88de4d2ebbda55639cceaa43",
            "fdcf19d314e04f7c931c7e0ce853ea64",
            "ca5a89808b1b499b9be907c266a068f2",
            "a399a24bbcc54d78badf406ca764e3ff",
            "d4480e74161942f28aa73c8a3ed323b3",
            "8221a187c9ea46e2bddf3f08b3fcaf97",
            "02cb311abd4b4680af11215efe222f48",
            "e01e39090e604d519d7b7b95436faf03",
            "ce0ec01f3c0b4f0fb37b5203630e2c34",
            "d62ba5f3e54b43a1bd42b4653d2f8370",
            "56b5c4034a63460b86cddec8f4d938c8",
            "1734c9358deb4f109d768213e16f7212",
            "aabf14eaef8341dca06dfd3380b42630",
            "cf528f7375e74ab09d2ce1745fa2ad6e",
            "0ca6c7d48134451f9857359d2cc63e7c",
            "16bd8f7d84af4c72ba4c74f361c585b9",
            "620ec1a2e2384a33ac206cbc74650673",
            "ea0d02dd70404960a5e4cba4d0f3d7f6"
          ]
        },
        "id": "HL2KwfXxxcWY",
        "outputId": "706718a9-d899-4999-91d4-041a1bf5ef6c"
      },
      "outputs": [
        {
          "output_type": "display_data",
          "data": {
            "text/plain": [
              "Downloading tokenizer_config.json:   0%|          | 0.00/2.00 [00:00<?, ?B/s]"
            ],
            "application/vnd.jupyter.widget-view+json": {
              "version_major": 2,
              "version_minor": 0,
              "model_id": "071947996c7144d68cd29e0df219420d"
            }
          },
          "metadata": {}
        },
        {
          "output_type": "display_data",
          "data": {
            "text/plain": [
              "Downloading config.json:   0%|          | 0.00/731 [00:00<?, ?B/s]"
            ],
            "application/vnd.jupyter.widget-view+json": {
              "version_major": 2,
              "version_minor": 0,
              "model_id": "a2dbb77c83bb437cb8d65e8e6413dacc"
            }
          },
          "metadata": {}
        },
        {
          "output_type": "display_data",
          "data": {
            "text/plain": [
              "Downloading tokenizer.json:   0%|          | 0.00/1.00M [00:00<?, ?B/s]"
            ],
            "application/vnd.jupyter.widget-view+json": {
              "version_major": 2,
              "version_minor": 0,
              "model_id": "726e668f73c3421aaf610c9db3fb2fde"
            }
          },
          "metadata": {}
        },
        {
          "output_type": "display_data",
          "data": {
            "text/plain": [
              "Downloading special_tokens_map.json:   0%|          | 0.00/109 [00:00<?, ?B/s]"
            ],
            "application/vnd.jupyter.widget-view+json": {
              "version_major": 2,
              "version_minor": 0,
              "model_id": "e01e39090e604d519d7b7b95436faf03"
            }
          },
          "metadata": {}
        }
      ],
      "source": [
        "from transformers import AutoTokenizer, TFAutoModelForCausalLM\n",
        "\n",
        "tokenizer = AutoTokenizer.from_pretrained(\"skt/ko-gpt-trinity-1.2B-v0.5\", bos_token='</s>', eos_token='</s>', pad_token='<pad>')\n",
        "# gpt3_model = TFAutoModelForCausalLM.from_pretrained(\"skt/ko-gpt-trinity-1.2B-v0.5\", from_pt=True)"
      ]
    },
    {
      "cell_type": "code",
      "execution_count": 9,
      "metadata": {
        "id": "noVSOdjnvhFw",
        "colab": {
          "base_uri": "https://localhost:8080/"
        },
        "outputId": "3c51e61b-0c8e-476d-92a2-01de18bd1a21"
      },
      "outputs": [
        {
          "output_type": "stream",
          "name": "stderr",
          "text": [
            "All model checkpoint layers were used when initializing TFGPT2LMHeadModel.\n",
            "\n",
            "All the layers of TFGPT2LMHeadModel were initialized from the model checkpoint at /gdrive/MyDrive/Colab Notebooks/sw-project/SW-Project/skt-ko-gpt-trinity-1.2B-v0.5-new-2/.\n",
            "If your task is similar to the task the model of the checkpoint was trained on, you can already use TFGPT2LMHeadModel for predictions without further training.\n"
          ]
        }
      ],
      "source": [
        "gpt3_model = TFAutoModelForCausalLM.from_pretrained('/gdrive/MyDrive/Colab Notebooks/sw-project/SW-Project/skt-ko-gpt-trinity-1.2B-v0.5-new-2/')"
      ]
    },
    {
      "cell_type": "code",
      "execution_count": null,
      "metadata": {
        "colab": {
          "base_uri": "https://localhost:8080/"
        },
        "id": "iZbQZtNEtqcD",
        "outputId": "49e944c3-53dc-4d94-896a-8c68e6052e9b"
      },
      "outputs": [
        {
          "name": "stdout",
          "output_type": "stream",
          "text": [
            "[31171, 36238, 30726, 33577, 30298, 376, 18792, 22688, 30696, 30198, 31634, 21068, 50647, 35706, 21788, 30005, 25624, 30417, 30697, 30397, 32051, 25512, 30279, 34310, 376, 25624, 42027, 30044, 42027, 30031, 31366, 42859, 51138, 30298, 30005, 376, 29880, 31570, 33401, 24196, 30121, 22692, 20160, 25404, 376, 25960, 32086, 31241, 37797, 30092, 34682, 39172, 376, 26213, 25768, 32051, 46222, 50272, 30312, 35673, 30005, 25260, 34551, 30865, 40981, 37254, 23272, 34509, 25628, 47102, 35306, 20476, 30298, 30005, 376, 36225, 19968, 30328, 31203, 376, 23280, 21956, 31082, 21900, 30589, 23028, 24784, 565, 24471, 25820, 30164, 35031, 34264, 376, 24224, 31517, 30093, 36902, 37556, 48481, 21076, 19016, 34179, 30005, 376, 22324, 30284, 40624, 41204, 43205, 25428, 376, 25960, 30093, 30288, 32767, 40659, 29880, 30688, 30134, 21956, 31082, 34257, 29152, 24644, 24644, 31793, 24644, 24644, 30093, 32198, 30248, 42859, 30023, 30441, 376, 25492, 31296, 40455, 29979, 27588, 376, 20091, 19016, 43308, 31891, 21956, 30027, 31768]\n",
            "['▁우리가', '▁물이', '▁되어', '▁만난', '다면', '\\n', '가', '문', '▁어느', '▁집', '에선', '들', '▁좋아하지', '▁않으', '랴', '.\\n', '우', '리가', '▁키', '▁큰', '▁나무', '와', '▁함께', '▁서서', '\\n', '우', '르르', '▁우', '르르', '▁비', '오는', '▁소리로', '▁흐른', '다면', '.\\n', '\\n', '흐', '르고', '▁흘러', '서', '▁저', '물', '녘', '엔', '\\n', '저', '▁혼자', '▁깊', '어지는', '▁강', '물에', '▁누워', '\\n', '죽', '은', '▁나무', '▁뿌리를', '▁적시', '기도', '▁한다면', '.\\n', '아', '아,', '▁아직', '▁처녀', '인\\n', '부', '끄러', '운', '▁바다에', '▁닿', '는', '다면', '.\\n', '\\n', '그러', '나', '▁지금', '▁우리는', '\\n', '불', '로', '▁만나', '려', '▁한다.\\n', '벌', '써', '▁', '숯', '이', '▁된', '▁뼈', '▁하나가', '\\n', '세', '상에', '▁불', '타는', '▁것들을', '▁쓰다', '듬', '고', '▁있으니', '.\\n', '\\n', '만', '▁리', '▁밖에서', '▁기다리는', '▁그대', '여', '\\n', '저', '▁불', '▁지난', '▁뒤에', '▁\\n', '흐', '르는', '▁물', '로', '▁만나', '자.\\n', '푸', '시', '시', '▁푸', '시', '시', '▁불', '▁꺼', '지는', '▁소리로', '▁말', '하면서', '\\n', '올', '▁때는', '▁인적', '▁그', '친', '\\n', '넓', '고', '▁깨끗한', '▁하늘', '로', '▁오', '라.']\n",
            "우리가 물이 되어 만난다면\n",
            "가문 어느 집에선들 좋아하지 않으랴.\n",
            "우리가 키 큰 나무와 함께 서서\n",
            "우르르 우르르 비오는 소리로 흐른다면.\n",
            "\n",
            "흐르고 흘러서 저물녘엔\n",
            "저 혼자 깊어지는 강물에 누워\n",
            "죽은 나무 뿌리를 적시기도 한다면.\n",
            "아아, 아직 처녀인\n",
            "부끄러운 바다에 닿는다면.\n",
            "\n",
            "그러나 지금 우리는\n",
            "불로 만나려 한다.\n",
            "벌써 숯이 된 뼈 하나가\n",
            "세상에 불타는 것들을 쓰다듬고 있으니.\n",
            "\n",
            "만 리 밖에서 기다리는 그대여\n",
            "저 불 지난 뒤에 \n",
            "흐르는 물로 만나자.\n",
            "푸시시 푸시시 불 꺼지는 소리로 말하면서\n",
            "올 때는 인적 그친\n",
            "넓고 깨끗한 하늘로 오라.\n"
          ]
        }
      ],
      "source": [
        "print(tokenizer.encode(df['시'].loc[0]))\n",
        "print(tokenizer.tokenize(df['시'].loc[0]))\n",
        "print(tokenizer.decode(tokenizer.encode(df['시'].loc[0])))"
      ]
    },
    {
      "cell_type": "markdown",
      "metadata": {
        "id": "tPxlXIdovUk8"
      },
      "source": [
        "# 4. Tokenize Keywords & Poems"
      ]
    },
    {
      "cell_type": "code",
      "execution_count": 10,
      "metadata": {
        "id": "g7Z9_jg8uxbw"
      },
      "outputs": [],
      "source": [
        "max_seq_len = 180"
      ]
    },
    {
      "cell_type": "code",
      "execution_count": 11,
      "metadata": {
        "id": "MAGtVbqLu0kf"
      },
      "outputs": [],
      "source": [
        "from tqdm import tqdm\n",
        "from tensorflow.keras.preprocessing.sequence import pad_sequences\n",
        "import numpy as np\n",
        "\n",
        "def convert_examples_to_features(examples, labels, max_seq_len, tokenizer):\n",
        "\n",
        "    input_ids, data_labels = [], []\n",
        "    \n",
        "    for example, label in tqdm(zip(examples, labels), total=len(examples)):\n",
        "\n",
        "        bos_token = [tokenizer.bos_token]\n",
        "        eos_token = [tokenizer.eos_token]\n",
        "        \n",
        "        tokens = bos_token + tokenizer.tokenize(example) + eos_token\n",
        "        input_id = tokenizer.convert_tokens_to_ids(tokens)\n",
        "        input_id = pad_sequences([input_id], maxlen=180, value=tokenizer.pad_token_id, padding='post')[0]\n",
        "\n",
        "        output_tokens = bos_token + tokenizer.tokenize(label) + eos_token\n",
        "        output_id = tokenizer.convert_tokens_to_ids(output_tokens)\n",
        "        output_id = pad_sequences([output_id], maxlen=max_seq_len, value=tokenizer.pad_token_id, padding='post')[0]\n",
        "        \n",
        "        assert len(input_id) == 180, \"Error with inpxut length {} vs {}\".format(len(input_id), max_seq_len)\n",
        "        input_ids.append(input_id)\n",
        "        data_labels.append(output_id)\n",
        "\n",
        "    input_ids = np.array(input_ids, dtype=int)\n",
        "    data_labels = np.array(data_labels, dtype=int)\n",
        "    # data_labels = np.array(data_labels, dtype=int).reshape((-1,1))\n",
        "\n",
        "\n",
        "    return input_ids, data_labels"
      ]
    },
    {
      "cell_type": "markdown",
      "metadata": {
        "id": "lNkGCSdXvqAk"
      },
      "source": [
        "# 5. Set Train Data"
      ]
    },
    {
      "cell_type": "code",
      "execution_count": 12,
      "metadata": {
        "colab": {
          "base_uri": "https://localhost:8080/"
        },
        "id": "ylKyeyNBvUPW",
        "outputId": "08ddb39a-5cb5-4fc3-8ed2-6c6f597ca667"
      },
      "outputs": [
        {
          "output_type": "stream",
          "name": "stderr",
          "text": [
            "100%|██████████| 328/328 [00:00<00:00, 1473.05it/s]\n"
          ]
        }
      ],
      "source": [
        "train_X_1, train_y = convert_examples_to_features(train_dataset['키워드1'], train_dataset['시'], max_seq_len=max_seq_len, tokenizer=tokenizer)"
      ]
    },
    {
      "cell_type": "code",
      "execution_count": 47,
      "metadata": {
        "colab": {
          "base_uri": "https://localhost:8080/"
        },
        "id": "MrRnKZrRbF8o",
        "outputId": "4b3b48aa-d546-4e82-8eac-570a8ff827cb"
      },
      "outputs": [
        {
          "output_type": "stream",
          "name": "stderr",
          "text": [
            "100%|██████████| 328/328 [00:00<00:00, 1574.92it/s]\n"
          ]
        }
      ],
      "source": [
        "train_X_2, train_y = convert_examples_to_features(train_dataset['키워드2'], train_dataset['시'], max_seq_len=max_seq_len, tokenizer=tokenizer)"
      ]
    },
    {
      "cell_type": "code",
      "execution_count": 93,
      "metadata": {
        "colab": {
          "base_uri": "https://localhost:8080/"
        },
        "id": "_S1AB3BTbRE9",
        "outputId": "1eb5dedf-29a1-4add-eba2-d0112eca10a8"
      },
      "outputs": [
        {
          "output_type": "stream",
          "name": "stderr",
          "text": [
            "100%|██████████| 328/328 [00:00<00:00, 1576.98it/s]\n"
          ]
        }
      ],
      "source": [
        "train_X_3, train_y = convert_examples_to_features(train_dataset['키워드3'], train_dataset['시'], max_seq_len=max_seq_len, tokenizer=tokenizer)"
      ]
    },
    {
      "cell_type": "code",
      "execution_count": 94,
      "metadata": {
        "colab": {
          "base_uri": "https://localhost:8080/"
        },
        "id": "nPm14TRAb0zm",
        "outputId": "dd6764dc-ddcb-4188-b567-7006f56be9d6"
      },
      "outputs": [
        {
          "output_type": "stream",
          "name": "stderr",
          "text": [
            "100%|██████████| 328/328 [00:00<00:00, 1613.80it/s]\n"
          ]
        }
      ],
      "source": [
        "train_X_4, train_y = convert_examples_to_features(train_dataset['키워드4'], train_dataset['시'], max_seq_len=max_seq_len, tokenizer=tokenizer)"
      ]
    },
    {
      "cell_type": "code",
      "execution_count": 95,
      "metadata": {
        "colab": {
          "base_uri": "https://localhost:8080/"
        },
        "id": "8sj70ND5b4_l",
        "outputId": "39041070-66d6-4c67-9659-e4fafbaf0014"
      },
      "outputs": [
        {
          "output_type": "stream",
          "name": "stderr",
          "text": [
            "100%|██████████| 328/328 [00:00<00:00, 1563.21it/s]\n"
          ]
        }
      ],
      "source": [
        "train_X_5, train_y = convert_examples_to_features(train_dataset['키워드5'], train_dataset['시'], max_seq_len=max_seq_len, tokenizer=tokenizer)"
      ]
    },
    {
      "cell_type": "markdown",
      "metadata": {
        "id": "dwh_1fRkv4ly"
      },
      "source": [
        "# 6. Freeze part of GPT3 Model"
      ]
    },
    {
      "cell_type": "code",
      "execution_count": 13,
      "metadata": {
        "id": "KFwp1uX5d_WM"
      },
      "outputs": [],
      "source": [
        "gpt3_model.transformer.wte.trainable = False"
      ]
    },
    {
      "cell_type": "code",
      "execution_count": 14,
      "metadata": {
        "id": "zM31rsq3CQPr"
      },
      "outputs": [],
      "source": [
        "gpt3_model.transformer.h[0].trainable = False\n",
        "gpt3_model.transformer.h[1].trainable = False\n",
        "gpt3_model.transformer.h[2].trainable = False\n",
        "gpt3_model.transformer.h[3].trainable = False\n",
        "gpt3_model.transformer.h[4].trainable = False\n",
        "gpt3_model.transformer.h[5].trainable = False\n",
        "gpt3_model.transformer.h[6].trainable = False\n",
        "gpt3_model.transformer.h[7].trainable = False\n",
        "gpt3_model.transformer.h[8].trainable = False\n",
        "gpt3_model.transformer.h[9].trainable = False\n",
        "gpt3_model.transformer.h[10].trainable = False\n",
        "gpt3_model.transformer.h[11].trainable = False\n",
        "gpt3_model.transformer.h[12].trainable = False\n",
        "gpt3_model.transformer.h[13].trainable = False\n",
        "gpt3_model.transformer.h[14].trainable = False\n",
        "gpt3_model.transformer.h[15].trainable = False\n",
        "gpt3_model.transformer.h[16].trainable = False\n",
        "gpt3_model.transformer.h[17].trainable = False\n",
        "gpt3_model.transformer.h[18].trainable = False\n",
        "gpt3_model.transformer.h[19].trainable = False\n",
        "gpt3_model.transformer.h[20].trainable = False\n",
        "gpt3_model.transformer.h[21].trainable = False\n",
        "gpt3_model.transformer.h[22].trainable = False"
      ]
    },
    {
      "cell_type": "code",
      "execution_count": null,
      "metadata": {
        "colab": {
          "base_uri": "https://localhost:8080/"
        },
        "id": "qDdKuh6A2lSn",
        "outputId": "4aa8ae7e-86bb-4af4-bde3-d99c20d5f89d"
      },
      "outputs": [
        {
          "output_type": "stream",
          "name": "stdout",
          "text": [
            "Model: \"tfgpt2lm_head_model\"\n",
            "_________________________________________________________________\n",
            " Layer (type)                Output Shape              Param #   \n",
            "=================================================================\n",
            " transformer (TFGPT2MainLaye  multiple                 1162556160\n",
            " r)                                                              \n",
            "                                                                 \n",
            "=================================================================\n",
            "Total params: 1,162,556,160\n",
            "Trainable params: 46,231,680\n",
            "Non-trainable params: 1,116,324,480\n",
            "_________________________________________________________________\n"
          ]
        }
      ],
      "source": [
        "gpt3_model.summary()"
      ]
    },
    {
      "cell_type": "markdown",
      "metadata": {
        "id": "qvoJF36ywI0I"
      },
      "source": [
        "# 8. Memory Management"
      ]
    },
    {
      "cell_type": "code",
      "execution_count": 49,
      "metadata": {
        "id": "EcoHvTjxytYj"
      },
      "outputs": [],
      "source": [
        "import torch\n",
        "torch.cuda.empty_cache()"
      ]
    },
    {
      "cell_type": "code",
      "execution_count": 48,
      "metadata": {
        "colab": {
          "base_uri": "https://localhost:8080/"
        },
        "id": "QHAAQ30oLNL7",
        "outputId": "1fc73571-002d-4a6c-c90a-4d550d33885f"
      },
      "outputs": [
        {
          "output_type": "execute_result",
          "data": {
            "text/plain": [
              "4"
            ]
          },
          "metadata": {},
          "execution_count": 48
        }
      ],
      "source": [
        "import gc\n",
        "gc.collect()"
      ]
    },
    {
      "cell_type": "markdown",
      "metadata": {
        "id": "_l1Owol4wCwy"
      },
      "source": [
        "# 7. Model Compile"
      ]
    },
    {
      "cell_type": "code",
      "execution_count": 44,
      "metadata": {
        "id": "QA2wRPUR9p7B",
        "colab": {
          "base_uri": "https://localhost:8080/"
        },
        "outputId": "7ec538e5-e3e6-4e47-b0de-5c3defe76906"
      },
      "outputs": [
        {
          "output_type": "stream",
          "name": "stderr",
          "text": [
            "/usr/local/lib/python3.7/dist-packages/keras/optimizer_v2/adagrad.py:74: UserWarning: The `lr` argument is deprecated, use `learning_rate` instead.\n",
            "  super(Adagrad, self).__init__(name, **kwargs)\n"
          ]
        }
      ],
      "source": [
        "import tensorflow as tf\n",
        "optimizer = tf.keras.optimizers.Adagrad(lr=0.01)\n",
        "loss = tf.keras.losses.SparseCategoricalCrossentropy(from_logits=True, reduction='none')\n",
        "gpt3_model.compile(optimizer=optimizer, loss=loss)"
      ]
    },
    {
      "cell_type": "markdown",
      "metadata": {
        "id": "Apwtcl-XVqNS"
      },
      "source": [
        "# callbacks"
      ]
    },
    {
      "cell_type": "code",
      "execution_count": 18,
      "metadata": {
        "id": "Cges58GuO-v3"
      },
      "outputs": [],
      "source": [
        "import matplotlib.pyplot as plt\n",
        "\n",
        "\n",
        "from IPython.display import clear_output\n",
        "from tensorflow.keras.callbacks import Callback\n",
        "\n",
        "class PlotLosses(Callback):\n",
        "\n",
        "  def on_train_begin(self, logs={}):\n",
        "    self.epochs = []\n",
        "    self.losses = []\n",
        "    self.val_losses = []\n",
        "    self.logs = []\n",
        "    self.fig = plt.figure()\n",
        "\n",
        "\n",
        "  def on_epoch_end(self, epoch, logs={}):\n",
        "\n",
        "    self.epochs.append(epoch)\n",
        "    self.losses.append(logs.get('loss'))\n",
        "    self.val_losses.append(logs.get('val_loss'))\n",
        "\n",
        "    clear_output(wait=True)\n",
        "    plt.plot(self.epochs, self.losses, label=\"loss\")\n",
        "    plt.plot(self.epochs, self.val_losses, label=\"val_loss\")\n",
        "    plt.legend()\n",
        "    plt.show();\n",
        "    print(\"loss = \", self.losses[-1], \", val_loss = \", self.val_losses[-1])\n",
        "\n",
        "plot_losses = PlotLosses()"
      ]
    },
    {
      "cell_type": "code",
      "execution_count": 45,
      "metadata": {
        "id": "lQgddZ2vx5Qr"
      },
      "outputs": [],
      "source": [
        "def scheduler(epoch, lr):\n",
        "\n",
        "  if epoch == 100:\n",
        "    lr = lr*0.1\n",
        "    print(\"learning rate changed at epcoh {} as {}\".format(epoch, lr))\n",
        "  if epoch == 175:\n",
        "    lr = lr*0.1\n",
        "    print(\"learning rate changed at epcoh {} as {}\".format(epoch, lr))\n",
        "  return lr\n",
        "\n",
        "from tensorflow.keras.callbacks import LearningRateScheduler\n",
        "\n",
        "lr_scheduler = LearningRateScheduler(scheduler)"
      ]
    },
    {
      "cell_type": "markdown",
      "metadata": {
        "id": "eIqHbjEDwMuS"
      },
      "source": [
        "# 9. Train Model"
      ]
    },
    {
      "cell_type": "code",
      "execution_count": 20,
      "metadata": {
        "colab": {
          "base_uri": "https://localhost:8080/",
          "height": 320
        },
        "id": "l1e1wDhbvJQe",
        "outputId": "687d3d85-da8f-47da-9e75-281b452bd3d1"
      },
      "outputs": [
        {
          "output_type": "display_data",
          "data": {
            "text/plain": [
              "<Figure size 432x288 with 1 Axes>"
            ],
            "image/png": "[encoded data removed]"
          },
          "metadata": {
            "needs_background": "light"
          }
        },
        {
          "output_type": "stream",
          "name": "stdout",
          "text": [
            "loss =  3.876978635787964 , val_loss =  None\n",
            "\b\b\b\b\b\b\b\b\b\b\b\b\b\b\b\b\b\b\b\b\b\b\b\b\b\b\b\b\b\b\b\b\b\b\b\b\b\b\b\b\b\b\b\b\b\b\b\b\b\b\b\b\b\b\b\b\b\b\b\b\b\b\b\r82/82 [==============================] - 53s 652ms/step - loss: 3.8770 - lr: 1.0000e-04\n"
          ]
        },
        {
          "output_type": "execute_result",
          "data": {
            "text/plain": [
              "<keras.callbacks.History at 0x7f60a0328950>"
            ]
          },
          "metadata": {},
          "execution_count": 20
        }
      ],
      "source": [
        "gpt3_model.fit(train_X_1, train_y, epochs=200, batch_size=4, callbacks=[plot_losses, lr_scheduler])"
      ]
    },
    {
      "cell_type": "code",
      "execution_count": null,
      "metadata": {
        "colab": {
          "base_uri": "https://localhost:8080/",
          "height": 338
        },
        "id": "V-x0H1cPS_M2",
        "outputId": "a8b0cd52-4ac0-4a49-dae5-fdc8513972c3"
      },
      "outputs": [
        {
          "output_type": "display_data",
          "data": {
            "text/plain": [
              "<Figure size 432x288 with 1 Axes>"
            ],
            "image/png": "[encoded data removed]"
          },
          "metadata": {
            "needs_background": "light"
          }
        },
        {
          "output_type": "stream",
          "name": "stdout",
          "text": [
            "loss =  0.7640930414199829 , val_loss =  None\n",
            "\b\b\b\b\b\b\b\b\b\b\b\b\b\b\b\b\b\b\b\b\b\b\b\b\b\b\b\b\b\b\b\b\b\b\b\b\b\b\b\b\b\b\b\b\b\b\b\b\b\b\b\b\b\b\b\b\b\b\b\b\b\b\b\r82/82 [==============================] - 53s 651ms/step - loss: 0.7641 - lr: 1.0000e-03\n",
            "Epoch 134/200\n",
            "43/82 [==============>...............] - ETA: 25s - loss: 0.8017"
          ]
        }
      ],
      "source": [
        "gpt3_model.fit(train_X_2, train_y, epochs=200, batch_size=4, callbacks=[plot_losses, lr_scheduler])"
      ]
    },
    {
      "cell_type": "code",
      "source": [
        "gpt3_model.fit(train_X_3, train_y, epochs=200, batch_size=4, callbacks=[plot_losses, lr_scheduler])"
      ],
      "metadata": {
        "id": "twpha76VhDiq"
      },
      "execution_count": null,
      "outputs": []
    },
    {
      "cell_type": "code",
      "execution_count": null,
      "metadata": {
        "colab": {
          "base_uri": "https://localhost:8080/",
          "height": 320
        },
        "id": "hM0lBeyRpeJB",
        "outputId": "d5ba3b77-8fb5-46d1-817c-eaa427eb53c9"
      },
      "outputs": [
        {
          "output_type": "display_data",
          "data": {
            "text/plain": [
              "<Figure size 432x288 with 1 Axes>"
            ],
            "image/png": "[encoded data removed]"
          },
          "metadata": {
            "needs_background": "light"
          }
        },
        {
          "output_type": "stream",
          "name": "stdout",
          "text": [
            "loss =  6.0083208084106445 , val_loss =  None\n",
            "\b\b\b\b\b\b\b\b\b\b\b\b\b\b\b\b\b\b\b\b\b\b\b\b\b\b\b\b\b\b\b\b\b\b\b\b\b\b\b\b\b\b\b\b\b\b\b\b\b\b\b\b\b\b\b\b\b\b\b\b\b\b\b\r82/82 [==============================] - 54s 654ms/step - loss: 6.0083 - lr: 1.0000e-03\n"
          ]
        },
        {
          "output_type": "execute_result",
          "data": {
            "text/plain": [
              "<keras.callbacks.History at 0x7ff65cad9410>"
            ]
          },
          "metadata": {},
          "execution_count": 30
        }
      ],
      "source": [
        "gpt3_model.fit(train_X_4, train_y, epochs=200, batch_size=4, callbacks=[plot_losses, lr_scheduler])"
      ]
    },
    {
      "cell_type": "code",
      "execution_count": null,
      "metadata": {
        "colab": {
          "base_uri": "https://localhost:8080/",
          "height": 320
        },
        "id": "7M-vIIPdA8V6",
        "outputId": "e395bfae-11ac-41cc-a645-b141d8d0b3e9"
      },
      "outputs": [
        {
          "output_type": "display_data",
          "data": {
            "text/plain": [
              "<Figure size 432x288 with 1 Axes>"
            ],
            "image/png": "[encoded data removed]"
          },
          "metadata": {
            "needs_background": "light"
          }
        },
        {
          "output_type": "stream",
          "name": "stdout",
          "text": [
            "loss =  6.028957366943359 , val_loss =  None\n",
            "\b\b\b\b\b\b\b\b\b\b\b\b\b\b\b\b\b\b\b\b\b\b\b\b\b\b\b\b\b\b\b\b\b\b\b\b\b\b\b\b\b\b\b\b\b\b\b\b\b\b\b\b\b\b\b\b\b\b\b\b\b\b\b\r82/82 [==============================] - 54s 655ms/step - loss: 6.0290 - lr: 1.0000e-03\n"
          ]
        },
        {
          "output_type": "execute_result",
          "data": {
            "text/plain": [
              "<keras.callbacks.History at 0x7ff82581ee90>"
            ]
          },
          "metadata": {},
          "execution_count": 33
        }
      ],
      "source": [
        "gpt3_model.fit(train_X_5, train_y, epochs=100, batch_size=4, validation_split=0.1, callbacks=[plot_losses, lr_scheduler])"
      ]
    },
    {
      "cell_type": "markdown",
      "metadata": {
        "id": "IMrk-qSTwQy4"
      },
      "source": [
        "# 10. Tokenize Test Input"
      ]
    },
    {
      "cell_type": "code",
      "source": [
        "# max_key_len=180"
      ],
      "metadata": {
        "id": "6n6Mg0H2jn0_"
      },
      "execution_count": null,
      "outputs": []
    },
    {
      "cell_type": "code",
      "source": [
        "keyword = \"여름\"\n",
        "input_id = tokenizer.encode(keyword, return_tensors='pt')\n",
        "# bos_token = [tokenizer.bos_token]\n",
        "# eos_token = [tokenizer.eos_token]\n",
        "\n",
        "# tokens = bos_token + tokenizer.tokenize(keyword) + eos_token\n",
        "# input_id = tokenizer.convert_tokens_to_ids(tokens)\n",
        "# input_id = pad_sequences([input_id], maxlen=max_key_len, value=tokenizer.pad_token_id, padding='post')[0]\n",
        "\n",
        "# input_id = np.array(input_id, dtype=int).reshape((-1,1))\n",
        "\n",
        "# input_ids1 = tokenizer(keyword, return_tensors='pt').input_ids\n",
        "#input_ids1.unsqueeze(0)"
      ],
      "metadata": {
        "id": "W3vjaTwTlXph"
      },
      "execution_count": 39,
      "outputs": []
    },
    {
      "cell_type": "markdown",
      "metadata": {
        "id": "YkYkFmjqwdaI"
      },
      "source": [
        "# 11. Generate Poem"
      ]
    },
    {
      "cell_type": "code",
      "execution_count": 40,
      "metadata": {
        "id": "NH9JFkjgpvm7"
      },
      "outputs": [],
      "source": [
        "with torch.no_grad():\n",
        "  gen_id = gpt3_model.generate(input_id, \n",
        "                               min_length = 5, \n",
        "                               max_length=180, \n",
        "                               pad_token_id=tokenizer.pad_token_id, \n",
        "                               eos_token_id=tokenizer.eos_token_id, \n",
        "                               bos_token_id=tokenizer.bos_token_id, \n",
        "                               repetition_penalty=2.0, \n",
        "                               top_k=50, \n",
        "                               top_p=0.92,\n",
        "                               temperature=0.1, \n",
        "                               no_repeat_ngram_size=3)\n",
        "  gen_text = tokenizer.batch_decode(gen_id, skip_special_tokens=True)"
      ]
    },
    {
      "cell_type": "code",
      "execution_count": 41,
      "metadata": {
        "id": "mCoD_5Ty-KpA",
        "colab": {
          "base_uri": "https://localhost:8080/"
        },
        "outputId": "97b27ed6-ed7c-40a7-82e2-920a929ebdd3"
      },
      "outputs": [
        {
          "output_type": "execute_result",
          "data": {
            "text/plain": [
              "['여름\\n 무료 처음부터까 서가\\n은\\n이\\n은이오\\n \\n 한빛어진 난 꽃이,,\\n 하나하\\n나는 지키고워지고 지는 가한하 살아하나.\\n 것은 없는 없 지워 없어 묻힌게처럼을고아미조꽃 이웁 잊내 태어나 않는 청히옥로래 건 악 꽃 선 꽃을 게 저외로운 아름다운미\\n붉국운문문\\n문의훈글어미한마래도의절문에에절로그나보다 못 메기도혀 누 음 네꾸 현상 만든진모으어서는 날려인 사마른']"
            ]
          },
          "metadata": {},
          "execution_count": 41
        }
      ],
      "source": [
        "gen_text"
      ]
    },
    {
      "cell_type": "code",
      "source": [
        "  gen_id = gpt3_model.generate(input_id, min_length = 5, max_length=180, temperature=0.9, pad_token_id=tokenizer.pad_token_id, eos_token_id=tokenizer.eos_token_id, bos_token_id=tokenizer.bos_token_id, repetition_penalty=2.0, top_k=50)\n"
      ],
      "metadata": {
        "id": "uSX_iqwR9oW2"
      },
      "execution_count": null,
      "outputs": []
    },
    {
      "cell_type": "markdown",
      "metadata": {
        "id": "YCGexs8Dwn5A"
      },
      "source": [
        "# 12. Model Save"
      ]
    },
    {
      "cell_type": "code",
      "execution_count": 33,
      "metadata": {
        "id": "0U_V8OtIvjVI"
      },
      "outputs": [],
      "source": [
        "import os\n",
        "model_name = \"skt-ko-gpt-trinity-1.2B-v0.5-new-3\"\n",
        "save_path = os.path.join('/gdrive/MyDrive/Colab Notebooks/sw-project/SW-Project/', model_name)\n",
        "os.makedirs(save_path)\n",
        "gpt3_model.save_pretrained(save_path)"
      ]
    },
    {
      "cell_type": "code",
      "source": [],
      "metadata": {
        "id": "bGbDcSoKkbpi"
      },
      "execution_count": null,
      "outputs": []
    }
  ],
  "metadata": {
    "accelerator": "GPU",
    "colab": {
      "collapsed_sections": [],
      "machine_shape": "hm",
      "provenance": [],
      "mount_file_id": "1WrfhcOjDpKiRWNCv0bObT6dVbWI83Gw9",
      "authorship_tag": "ABX9TyOPpMOWQXUsHiWPG/ChMOW+",
      "include_colab_link": true
    },
    "gpuClass": "standard",
    "kernelspec": {
      "display_name": "Python 3",
      "name": "python3"
    },
    "language_info": {
      "name": "python"
    },
    "widgets": {
      "application/vnd.jupyter.widget-state+json": {
        "071947996c7144d68cd29e0df219420d": {
          "model_module": "@jupyter-widgets/controls",
          "model_name": "HBoxModel",
          "model_module_version": "1.5.0",
          "state": {
            "_dom_classes": [],
            "_model_module": "@jupyter-widgets/controls",
            "_model_module_version": "1.5.0",
            "_model_name": "HBoxModel",
            "_view_count": null,
            "_view_module": "@jupyter-widgets/controls",
            "_view_module_version": "1.5.0",
            "_view_name": "HBoxView",
            "box_style": "",
            "children": [
              "IPY_MODEL_1c317184a5234da78c3296e26b1b4e71",
              "IPY_MODEL_8d8a0f9147b94d5aa7570de828f66073",
              "IPY_MODEL_f406442fdd55487ea8aa3f1b26cf9bc8"
            ],
            "layout": "IPY_MODEL_1196418ef32a4ab085e7c28b95e703be"
          }
        },
        "1c317184a5234da78c3296e26b1b4e71": {
          "model_module": "@jupyter-widgets/controls",
          "model_name": "HTMLModel",
          "model_module_version": "1.5.0",
          "state": {
            "_dom_classes": [],
            "_model_module": "@jupyter-widgets/controls",
            "_model_module_version": "1.5.0",
            "_model_name": "HTMLModel",
            "_view_count": null,
            "_view_module": "@jupyter-widgets/controls",
            "_view_module_version": "1.5.0",
            "_view_name": "HTMLView",
            "description": "",
            "description_tooltip": null,
            "layout": "IPY_MODEL_7da6262334504978bb80277cc839f648",
            "placeholder": "​",
            "style": "IPY_MODEL_c30a52fc646b4eb0ac558dfb56c125ca",
            "value": "Downloading tokenizer_config.json: 100%"
          }
        },
        "8d8a0f9147b94d5aa7570de828f66073": {
          "model_module": "@jupyter-widgets/controls",
          "model_name": "FloatProgressModel",
          "model_module_version": "1.5.0",
          "state": {
            "_dom_classes": [],
            "_model_module": "@jupyter-widgets/controls",
            "_model_module_version": "1.5.0",
            "_model_name": "FloatProgressModel",
            "_view_count": null,
            "_view_module": "@jupyter-widgets/controls",
            "_view_module_version": "1.5.0",
            "_view_name": "ProgressView",
            "bar_style": "success",
            "description": "",
            "description_tooltip": null,
            "layout": "IPY_MODEL_bc66d64f0d2b47b384c160f6eb3c7167",
            "max": 2,
            "min": 0,
            "orientation": "horizontal",
            "style": "IPY_MODEL_2d80bfa709ae4ef8ba618e0b2be6d69b",
            "value": 2
          }
        },
        "f406442fdd55487ea8aa3f1b26cf9bc8": {
          "model_module": "@jupyter-widgets/controls",
          "model_name": "HTMLModel",
          "model_module_version": "1.5.0",
          "state": {
            "_dom_classes": [],
            "_model_module": "@jupyter-widgets/controls",
            "_model_module_version": "1.5.0",
            "_model_name": "HTMLModel",
            "_view_count": null,
            "_view_module": "@jupyter-widgets/controls",
            "_view_module_version": "1.5.0",
            "_view_name": "HTMLView",
            "description": "",
            "description_tooltip": null,
            "layout": "IPY_MODEL_2e21bccf81614e10ba80d3b6cb1e5289",
            "placeholder": "​",
            "style": "IPY_MODEL_7abe62f8c31e431080de77426910b26f",
            "value": " 2.00/2.00 [00:00&lt;00:00, 64.0B/s]"
          }
        },
        "1196418ef32a4ab085e7c28b95e703be": {
          "model_module": "@jupyter-widgets/base",
          "model_name": "LayoutModel",
          "model_module_version": "1.2.0",
          "state": {
            "_model_module": "@jupyter-widgets/base",
            "_model_module_version": "1.2.0",
            "_model_name": "LayoutModel",
            "_view_count": null,
            "_view_module": "@jupyter-widgets/base",
            "_view_module_version": "1.2.0",
            "_view_name": "LayoutView",
            "align_content": null,
            "align_items": null,
            "align_self": null,
            "border": null,
            "bottom": null,
            "display": null,
            "flex": null,
            "flex_flow": null,
            "grid_area": null,
            "grid_auto_columns": null,
            "grid_auto_flow": null,
            "grid_auto_rows": null,
            "grid_column": null,
            "grid_gap": null,
            "grid_row": null,
            "grid_template_areas": null,
            "grid_template_columns": null,
            "grid_template_rows": null,
            "height": null,
            "justify_content": null,
            "justify_items": null,
            "left": null,
            "margin": null,
            "max_height": null,
            "max_width": null,
            "min_height": null,
            "min_width": null,
            "object_fit": null,
            "object_position": null,
            "order": null,
            "overflow": null,
            "overflow_x": null,
            "overflow_y": null,
            "padding": null,
            "right": null,
            "top": null,
            "visibility": null,
            "width": null
          }
        },
        "7da6262334504978bb80277cc839f648": {
          "model_module": "@jupyter-widgets/base",
          "model_name": "LayoutModel",
          "model_module_version": "1.2.0",
          "state": {
            "_model_module": "@jupyter-widgets/base",
            "_model_module_version": "1.2.0",
            "_model_name": "LayoutModel",
            "_view_count": null,
            "_view_module": "@jupyter-widgets/base",
            "_view_module_version": "1.2.0",
            "_view_name": "LayoutView",
            "align_content": null,
            "align_items": null,
            "align_self": null,
            "border": null,
            "bottom": null,
            "display": null,
            "flex": null,
            "flex_flow": null,
            "grid_area": null,
            "grid_auto_columns": null,
            "grid_auto_flow": null,
            "grid_auto_rows": null,
            "grid_column": null,
            "grid_gap": null,
            "grid_row": null,
            "grid_template_areas": null,
            "grid_template_columns": null,
            "grid_template_rows": null,
            "height": null,
            "justify_content": null,
            "justify_items": null,
            "left": null,
            "margin": null,
            "max_height": null,
            "max_width": null,
            "min_height": null,
            "min_width": null,
            "object_fit": null,
            "object_position": null,
            "order": null,
            "overflow": null,
            "overflow_x": null,
            "overflow_y": null,
            "padding": null,
            "right": null,
            "top": null,
            "visibility": null,
            "width": null
          }
        },
        "c30a52fc646b4eb0ac558dfb56c125ca": {
          "model_module": "@jupyter-widgets/controls",
          "model_name": "DescriptionStyleModel",
          "model_module_version": "1.5.0",
          "state": {
            "_model_module": "@jupyter-widgets/controls",
            "_model_module_version": "1.5.0",
            "_model_name": "DescriptionStyleModel",
            "_view_count": null,
            "_view_module": "@jupyter-widgets/base",
            "_view_module_version": "1.2.0",
            "_view_name": "StyleView",
            "description_width": ""
          }
        },
        "bc66d64f0d2b47b384c160f6eb3c7167": {
          "model_module": "@jupyter-widgets/base",
          "model_name": "LayoutModel",
          "model_module_version": "1.2.0",
          "state": {
            "_model_module": "@jupyter-widgets/base",
            "_model_module_version": "1.2.0",
            "_model_name": "LayoutModel",
            "_view_count": null,
            "_view_module": "@jupyter-widgets/base",
            "_view_module_version": "1.2.0",
            "_view_name": "LayoutView",
            "align_content": null,
            "align_items": null,
            "align_self": null,
            "border": null,
            "bottom": null,
            "display": null,
            "flex": null,
            "flex_flow": null,
            "grid_area": null,
            "grid_auto_columns": null,
            "grid_auto_flow": null,
            "grid_auto_rows": null,
            "grid_column": null,
            "grid_gap": null,
            "grid_row": null,
            "grid_template_areas": null,
            "grid_template_columns": null,
            "grid_template_rows": null,
            "height": null,
            "justify_content": null,
            "justify_items": null,
            "left": null,
            "margin": null,
            "max_height": null,
            "max_width": null,
            "min_height": null,
            "min_width": null,
            "object_fit": null,
            "object_position": null,
            "order": null,
            "overflow": null,
            "overflow_x": null,
            "overflow_y": null,
            "padding": null,
            "right": null,
            "top": null,
            "visibility": null,
            "width": null
          }
        },
        "2d80bfa709ae4ef8ba618e0b2be6d69b": {
          "model_module": "@jupyter-widgets/controls",
          "model_name": "ProgressStyleModel",
          "model_module_version": "1.5.0",
          "state": {
            "_model_module": "@jupyter-widgets/controls",
            "_model_module_version": "1.5.0",
            "_model_name": "ProgressStyleModel",
            "_view_count": null,
            "_view_module": "@jupyter-widgets/base",
            "_view_module_version": "1.2.0",
            "_view_name": "StyleView",
            "bar_color": null,
            "description_width": ""
          }
        },
        "2e21bccf81614e10ba80d3b6cb1e5289": {
          "model_module": "@jupyter-widgets/base",
          "model_name": "LayoutModel",
          "model_module_version": "1.2.0",
          "state": {
            "_model_module": "@jupyter-widgets/base",
            "_model_module_version": "1.2.0",
            "_model_name": "LayoutModel",
            "_view_count": null,
            "_view_module": "@jupyter-widgets/base",
            "_view_module_version": "1.2.0",
            "_view_name": "LayoutView",
            "align_content": null,
            "align_items": null,
            "align_self": null,
            "border": null,
            "bottom": null,
            "display": null,
            "flex": null,
            "flex_flow": null,
            "grid_area": null,
            "grid_auto_columns": null,
            "grid_auto_flow": null,
            "grid_auto_rows": null,
            "grid_column": null,
            "grid_gap": null,
            "grid_row": null,
            "grid_template_areas": null,
            "grid_template_columns": null,
            "grid_template_rows": null,
            "height": null,
            "justify_content": null,
            "justify_items": null,
            "left": null,
            "margin": null,
            "max_height": null,
            "max_width": null,
            "min_height": null,
            "min_width": null,
            "object_fit": null,
            "object_position": null,
            "order": null,
            "overflow": null,
            "overflow_x": null,
            "overflow_y": null,
            "padding": null,
            "right": null,
            "top": null,
            "visibility": null,
            "width": null
          }
        },
        "7abe62f8c31e431080de77426910b26f": {
          "model_module": "@jupyter-widgets/controls",
          "model_name": "DescriptionStyleModel",
          "model_module_version": "1.5.0",
          "state": {
            "_model_module": "@jupyter-widgets/controls",
            "_model_module_version": "1.5.0",
            "_model_name": "DescriptionStyleModel",
            "_view_count": null,
            "_view_module": "@jupyter-widgets/base",
            "_view_module_version": "1.2.0",
            "_view_name": "StyleView",
            "description_width": ""
          }
        },
        "a2dbb77c83bb437cb8d65e8e6413dacc": {
          "model_module": "@jupyter-widgets/controls",
          "model_name": "HBoxModel",
          "model_module_version": "1.5.0",
          "state": {
            "_dom_classes": [],
            "_model_module": "@jupyter-widgets/controls",
            "_model_module_version": "1.5.0",
            "_model_name": "HBoxModel",
            "_view_count": null,
            "_view_module": "@jupyter-widgets/controls",
            "_view_module_version": "1.5.0",
            "_view_name": "HBoxView",
            "box_style": "",
            "children": [
              "IPY_MODEL_5c4b9fbaa2b8461d9f51dede492d2af2",
              "IPY_MODEL_ae4f6c87944647c683af8abb845e9d45",
              "IPY_MODEL_62a30e8dd64744bfaebbd953ace987d2"
            ],
            "layout": "IPY_MODEL_5ff54fbaa2634a6295a21f7b47b56353"
          }
        },
        "5c4b9fbaa2b8461d9f51dede492d2af2": {
          "model_module": "@jupyter-widgets/controls",
          "model_name": "HTMLModel",
          "model_module_version": "1.5.0",
          "state": {
            "_dom_classes": [],
            "_model_module": "@jupyter-widgets/controls",
            "_model_module_version": "1.5.0",
            "_model_name": "HTMLModel",
            "_view_count": null,
            "_view_module": "@jupyter-widgets/controls",
            "_view_module_version": "1.5.0",
            "_view_name": "HTMLView",
            "description": "",
            "description_tooltip": null,
            "layout": "IPY_MODEL_1e5762cb540a4c0d939c5bbb0a026b6d",
            "placeholder": "​",
            "style": "IPY_MODEL_b502c29ebf6742f5b15f4bdc380e1e31",
            "value": "Downloading config.json: 100%"
          }
        },
        "ae4f6c87944647c683af8abb845e9d45": {
          "model_module": "@jupyter-widgets/controls",
          "model_name": "FloatProgressModel",
          "model_module_version": "1.5.0",
          "state": {
            "_dom_classes": [],
            "_model_module": "@jupyter-widgets/controls",
            "_model_module_version": "1.5.0",
            "_model_name": "FloatProgressModel",
            "_view_count": null,
            "_view_module": "@jupyter-widgets/controls",
            "_view_module_version": "1.5.0",
            "_view_name": "ProgressView",
            "bar_style": "success",
            "description": "",
            "description_tooltip": null,
            "layout": "IPY_MODEL_46506174d0244020b3544c622771e41d",
            "max": 731,
            "min": 0,
            "orientation": "horizontal",
            "style": "IPY_MODEL_8a0ae50e41fb42d686cb15437a20a76c",
            "value": 731
          }
        },
        "62a30e8dd64744bfaebbd953ace987d2": {
          "model_module": "@jupyter-widgets/controls",
          "model_name": "HTMLModel",
          "model_module_version": "1.5.0",
          "state": {
            "_dom_classes": [],
            "_model_module": "@jupyter-widgets/controls",
            "_model_module_version": "1.5.0",
            "_model_name": "HTMLModel",
            "_view_count": null,
            "_view_module": "@jupyter-widgets/controls",
            "_view_module_version": "1.5.0",
            "_view_name": "HTMLView",
            "description": "",
            "description_tooltip": null,
            "layout": "IPY_MODEL_e325309f37bf40d98ee3bad1446680c2",
            "placeholder": "​",
            "style": "IPY_MODEL_9e4cd3860f214b7a9008dd9d81085c28",
            "value": " 731/731 [00:00&lt;00:00, 29.5kB/s]"
          }
        },
        "5ff54fbaa2634a6295a21f7b47b56353": {
          "model_module": "@jupyter-widgets/base",
          "model_name": "LayoutModel",
          "model_module_version": "1.2.0",
          "state": {
            "_model_module": "@jupyter-widgets/base",
            "_model_module_version": "1.2.0",
            "_model_name": "LayoutModel",
            "_view_count": null,
            "_view_module": "@jupyter-widgets/base",
            "_view_module_version": "1.2.0",
            "_view_name": "LayoutView",
            "align_content": null,
            "align_items": null,
            "align_self": null,
            "border": null,
            "bottom": null,
            "display": null,
            "flex": null,
            "flex_flow": null,
            "grid_area": null,
            "grid_auto_columns": null,
            "grid_auto_flow": null,
            "grid_auto_rows": null,
            "grid_column": null,
            "grid_gap": null,
            "grid_row": null,
            "grid_template_areas": null,
            "grid_template_columns": null,
            "grid_template_rows": null,
            "height": null,
            "justify_content": null,
            "justify_items": null,
            "left": null,
            "margin": null,
            "max_height": null,
            "max_width": null,
            "min_height": null,
            "min_width": null,
            "object_fit": null,
            "object_position": null,
            "order": null,
            "overflow": null,
            "overflow_x": null,
            "overflow_y": null,
            "padding": null,
            "right": null,
            "top": null,
            "visibility": null,
            "width": null
          }
        },
        "1e5762cb540a4c0d939c5bbb0a026b6d": {
          "model_module": "@jupyter-widgets/base",
          "model_name": "LayoutModel",
          "model_module_version": "1.2.0",
          "state": {
            "_model_module": "@jupyter-widgets/base",
            "_model_module_version": "1.2.0",
            "_model_name": "LayoutModel",
            "_view_count": null,
            "_view_module": "@jupyter-widgets/base",
            "_view_module_version": "1.2.0",
            "_view_name": "LayoutView",
            "align_content": null,
            "align_items": null,
            "align_self": null,
            "border": null,
            "bottom": null,
            "display": null,
            "flex": null,
            "flex_flow": null,
            "grid_area": null,
            "grid_auto_columns": null,
            "grid_auto_flow": null,
            "grid_auto_rows": null,
            "grid_column": null,
            "grid_gap": null,
            "grid_row": null,
            "grid_template_areas": null,
            "grid_template_columns": null,
            "grid_template_rows": null,
            "height": null,
            "justify_content": null,
            "justify_items": null,
            "left": null,
            "margin": null,
            "max_height": null,
            "max_width": null,
            "min_height": null,
            "min_width": null,
            "object_fit": null,
            "object_position": null,
            "order": null,
            "overflow": null,
            "overflow_x": null,
            "overflow_y": null,
            "padding": null,
            "right": null,
            "top": null,
            "visibility": null,
            "width": null
          }
        },
        "b502c29ebf6742f5b15f4bdc380e1e31": {
          "model_module": "@jupyter-widgets/controls",
          "model_name": "DescriptionStyleModel",
          "model_module_version": "1.5.0",
          "state": {
            "_model_module": "@jupyter-widgets/controls",
            "_model_module_version": "1.5.0",
            "_model_name": "DescriptionStyleModel",
            "_view_count": null,
            "_view_module": "@jupyter-widgets/base",
            "_view_module_version": "1.2.0",
            "_view_name": "StyleView",
            "description_width": ""
          }
        },
        "46506174d0244020b3544c622771e41d": {
          "model_module": "@jupyter-widgets/base",
          "model_name": "LayoutModel",
          "model_module_version": "1.2.0",
          "state": {
            "_model_module": "@jupyter-widgets/base",
            "_model_module_version": "1.2.0",
            "_model_name": "LayoutModel",
            "_view_count": null,
            "_view_module": "@jupyter-widgets/base",
            "_view_module_version": "1.2.0",
            "_view_name": "LayoutView",
            "align_content": null,
            "align_items": null,
            "align_self": null,
            "border": null,
            "bottom": null,
            "display": null,
            "flex": null,
            "flex_flow": null,
            "grid_area": null,
            "grid_auto_columns": null,
            "grid_auto_flow": null,
            "grid_auto_rows": null,
            "grid_column": null,
            "grid_gap": null,
            "grid_row": null,
            "grid_template_areas": null,
            "grid_template_columns": null,
            "grid_template_rows": null,
            "height": null,
            "justify_content": null,
            "justify_items": null,
            "left": null,
            "margin": null,
            "max_height": null,
            "max_width": null,
            "min_height": null,
            "min_width": null,
            "object_fit": null,
            "object_position": null,
            "order": null,
            "overflow": null,
            "overflow_x": null,
            "overflow_y": null,
            "padding": null,
            "right": null,
            "top": null,
            "visibility": null,
            "width": null
          }
        },
        "8a0ae50e41fb42d686cb15437a20a76c": {
          "model_module": "@jupyter-widgets/controls",
          "model_name": "ProgressStyleModel",
          "model_module_version": "1.5.0",
          "state": {
            "_model_module": "@jupyter-widgets/controls",
            "_model_module_version": "1.5.0",
            "_model_name": "ProgressStyleModel",
            "_view_count": null,
            "_view_module": "@jupyter-widgets/base",
            "_view_module_version": "1.2.0",
            "_view_name": "StyleView",
            "bar_color": null,
            "description_width": ""
          }
        },
        "e325309f37bf40d98ee3bad1446680c2": {
          "model_module": "@jupyter-widgets/base",
          "model_name": "LayoutModel",
          "model_module_version": "1.2.0",
          "state": {
            "_model_module": "@jupyter-widgets/base",
            "_model_module_version": "1.2.0",
            "_model_name": "LayoutModel",
            "_view_count": null,
            "_view_module": "@jupyter-widgets/base",
            "_view_module_version": "1.2.0",
            "_view_name": "LayoutView",
            "align_content": null,
            "align_items": null,
            "align_self": null,
            "border": null,
            "bottom": null,
            "display": null,
            "flex": null,
            "flex_flow": null,
            "grid_area": null,
            "grid_auto_columns": null,
            "grid_auto_flow": null,
            "grid_auto_rows": null,
            "grid_column": null,
            "grid_gap": null,
            "grid_row": null,
            "grid_template_areas": null,
            "grid_template_columns": null,
            "grid_template_rows": null,
            "height": null,
            "justify_content": null,
            "justify_items": null,
            "left": null,
            "margin": null,
            "max_height": null,
            "max_width": null,
            "min_height": null,
            "min_width": null,
            "object_fit": null,
            "object_position": null,
            "order": null,
            "overflow": null,
            "overflow_x": null,
            "overflow_y": null,
            "padding": null,
            "right": null,
            "top": null,
            "visibility": null,
            "width": null
          }
        },
        "9e4cd3860f214b7a9008dd9d81085c28": {
          "model_module": "@jupyter-widgets/controls",
          "model_name": "DescriptionStyleModel",
          "model_module_version": "1.5.0",
          "state": {
            "_model_module": "@jupyter-widgets/controls",
            "_model_module_version": "1.5.0",
            "_model_name": "DescriptionStyleModel",
            "_view_count": null,
            "_view_module": "@jupyter-widgets/base",
            "_view_module_version": "1.2.0",
            "_view_name": "StyleView",
            "description_width": ""
          }
        },
        "726e668f73c3421aaf610c9db3fb2fde": {
          "model_module": "@jupyter-widgets/controls",
          "model_name": "HBoxModel",
          "model_module_version": "1.5.0",
          "state": {
            "_dom_classes": [],
            "_model_module": "@jupyter-widgets/controls",
            "_model_module_version": "1.5.0",
            "_model_name": "HBoxModel",
            "_view_count": null,
            "_view_module": "@jupyter-widgets/controls",
            "_view_module_version": "1.5.0",
            "_view_name": "HBoxView",
            "box_style": "",
            "children": [
              "IPY_MODEL_b78794d27da44d30b1921e558218fccd",
              "IPY_MODEL_7d95f2ce3d854af39e7f65a427778c1a",
              "IPY_MODEL_43b8400204ea4f5bb641e9b3447fdaea"
            ],
            "layout": "IPY_MODEL_3a2dad1f88de4d2ebbda55639cceaa43"
          }
        },
        "b78794d27da44d30b1921e558218fccd": {
          "model_module": "@jupyter-widgets/controls",
          "model_name": "HTMLModel",
          "model_module_version": "1.5.0",
          "state": {
            "_dom_classes": [],
            "_model_module": "@jupyter-widgets/controls",
            "_model_module_version": "1.5.0",
            "_model_name": "HTMLModel",
            "_view_count": null,
            "_view_module": "@jupyter-widgets/controls",
            "_view_module_version": "1.5.0",
            "_view_name": "HTMLView",
            "description": "",
            "description_tooltip": null,
            "layout": "IPY_MODEL_fdcf19d314e04f7c931c7e0ce853ea64",
            "placeholder": "​",
            "style": "IPY_MODEL_ca5a89808b1b499b9be907c266a068f2",
            "value": "Downloading tokenizer.json: 100%"
          }
        },
        "7d95f2ce3d854af39e7f65a427778c1a": {
          "model_module": "@jupyter-widgets/controls",
          "model_name": "FloatProgressModel",
          "model_module_version": "1.5.0",
          "state": {
            "_dom_classes": [],
            "_model_module": "@jupyter-widgets/controls",
            "_model_module_version": "1.5.0",
            "_model_name": "FloatProgressModel",
            "_view_count": null,
            "_view_module": "@jupyter-widgets/controls",
            "_view_module_version": "1.5.0",
            "_view_name": "ProgressView",
            "bar_style": "success",
            "description": "",
            "description_tooltip": null,
            "layout": "IPY_MODEL_a399a24bbcc54d78badf406ca764e3ff",
            "max": 1051976,
            "min": 0,
            "orientation": "horizontal",
            "style": "IPY_MODEL_d4480e74161942f28aa73c8a3ed323b3",
            "value": 1051976
          }
        },
        "43b8400204ea4f5bb641e9b3447fdaea": {
          "model_module": "@jupyter-widgets/controls",
          "model_name": "HTMLModel",
          "model_module_version": "1.5.0",
          "state": {
            "_dom_classes": [],
            "_model_module": "@jupyter-widgets/controls",
            "_model_module_version": "1.5.0",
            "_model_name": "HTMLModel",
            "_view_count": null,
            "_view_module": "@jupyter-widgets/controls",
            "_view_module_version": "1.5.0",
            "_view_name": "HTMLView",
            "description": "",
            "description_tooltip": null,
            "layout": "IPY_MODEL_8221a187c9ea46e2bddf3f08b3fcaf97",
            "placeholder": "​",
            "style": "IPY_MODEL_02cb311abd4b4680af11215efe222f48",
            "value": " 1.00M/1.00M [00:00&lt;00:00, 2.83MB/s]"
          }
        },
        "3a2dad1f88de4d2ebbda55639cceaa43": {
          "model_module": "@jupyter-widgets/base",
          "model_name": "LayoutModel",
          "model_module_version": "1.2.0",
          "state": {
            "_model_module": "@jupyter-widgets/base",
            "_model_module_version": "1.2.0",
            "_model_name": "LayoutModel",
            "_view_count": null,
            "_view_module": "@jupyter-widgets/base",
            "_view_module_version": "1.2.0",
            "_view_name": "LayoutView",
            "align_content": null,
            "align_items": null,
            "align_self": null,
            "border": null,
            "bottom": null,
            "display": null,
            "flex": null,
            "flex_flow": null,
            "grid_area": null,
            "grid_auto_columns": null,
            "grid_auto_flow": null,
            "grid_auto_rows": null,
            "grid_column": null,
            "grid_gap": null,
            "grid_row": null,
            "grid_template_areas": null,
            "grid_template_columns": null,
            "grid_template_rows": null,
            "height": null,
            "justify_content": null,
            "justify_items": null,
            "left": null,
            "margin": null,
            "max_height": null,
            "max_width": null,
            "min_height": null,
            "min_width": null,
            "object_fit": null,
            "object_position": null,
            "order": null,
            "overflow": null,
            "overflow_x": null,
            "overflow_y": null,
            "padding": null,
            "right": null,
            "top": null,
            "visibility": null,
            "width": null
          }
        },
        "fdcf19d314e04f7c931c7e0ce853ea64": {
          "model_module": "@jupyter-widgets/base",
          "model_name": "LayoutModel",
          "model_module_version": "1.2.0",
          "state": {
            "_model_module": "@jupyter-widgets/base",
            "_model_module_version": "1.2.0",
            "_model_name": "LayoutModel",
            "_view_count": null,
            "_view_module": "@jupyter-widgets/base",
            "_view_module_version": "1.2.0",
            "_view_name": "LayoutView",
            "align_content": null,
            "align_items": null,
            "align_self": null,
            "border": null,
            "bottom": null,
            "display": null,
            "flex": null,
            "flex_flow": null,
            "grid_area": null,
            "grid_auto_columns": null,
            "grid_auto_flow": null,
            "grid_auto_rows": null,
            "grid_column": null,
            "grid_gap": null,
            "grid_row": null,
            "grid_template_areas": null,
            "grid_template_columns": null,
            "grid_template_rows": null,
            "height": null,
            "justify_content": null,
            "justify_items": null,
            "left": null,
            "margin": null,
            "max_height": null,
            "max_width": null,
            "min_height": null,
            "min_width": null,
            "object_fit": null,
            "object_position": null,
            "order": null,
            "overflow": null,
            "overflow_x": null,
            "overflow_y": null,
            "padding": null,
            "right": null,
            "top": null,
            "visibility": null,
            "width": null
          }
        },
        "ca5a89808b1b499b9be907c266a068f2": {
          "model_module": "@jupyter-widgets/controls",
          "model_name": "DescriptionStyleModel",
          "model_module_version": "1.5.0",
          "state": {
            "_model_module": "@jupyter-widgets/controls",
            "_model_module_version": "1.5.0",
            "_model_name": "DescriptionStyleModel",
            "_view_count": null,
            "_view_module": "@jupyter-widgets/base",
            "_view_module_version": "1.2.0",
            "_view_name": "StyleView",
            "description_width": ""
          }
        },
        "a399a24bbcc54d78badf406ca764e3ff": {
          "model_module": "@jupyter-widgets/base",
          "model_name": "LayoutModel",
          "model_module_version": "1.2.0",
          "state": {
            "_model_module": "@jupyter-widgets/base",
            "_model_module_version": "1.2.0",
            "_model_name": "LayoutModel",
            "_view_count": null,
            "_view_module": "@jupyter-widgets/base",
            "_view_module_version": "1.2.0",
            "_view_name": "LayoutView",
            "align_content": null,
            "align_items": null,
            "align_self": null,
            "border": null,
            "bottom": null,
            "display": null,
            "flex": null,
            "flex_flow": null,
            "grid_area": null,
            "grid_auto_columns": null,
            "grid_auto_flow": null,
            "grid_auto_rows": null,
            "grid_column": null,
            "grid_gap": null,
            "grid_row": null,
            "grid_template_areas": null,
            "grid_template_columns": null,
            "grid_template_rows": null,
            "height": null,
            "justify_content": null,
            "justify_items": null,
            "left": null,
            "margin": null,
            "max_height": null,
            "max_width": null,
            "min_height": null,
            "min_width": null,
            "object_fit": null,
            "object_position": null,
            "order": null,
            "overflow": null,
            "overflow_x": null,
            "overflow_y": null,
            "padding": null,
            "right": null,
            "top": null,
            "visibility": null,
            "width": null
          }
        },
        "d4480e74161942f28aa73c8a3ed323b3": {
          "model_module": "@jupyter-widgets/controls",
          "model_name": "ProgressStyleModel",
          "model_module_version": "1.5.0",
          "state": {
            "_model_module": "@jupyter-widgets/controls",
            "_model_module_version": "1.5.0",
            "_model_name": "ProgressStyleModel",
            "_view_count": null,
            "_view_module": "@jupyter-widgets/base",
            "_view_module_version": "1.2.0",
            "_view_name": "StyleView",
            "bar_color": null,
            "description_width": ""
          }
        },
        "8221a187c9ea46e2bddf3f08b3fcaf97": {
          "model_module": "@jupyter-widgets/base",
          "model_name": "LayoutModel",
          "model_module_version": "1.2.0",
          "state": {
            "_model_module": "@jupyter-widgets/base",
            "_model_module_version": "1.2.0",
            "_model_name": "LayoutModel",
            "_view_count": null,
            "_view_module": "@jupyter-widgets/base",
            "_view_module_version": "1.2.0",
            "_view_name": "LayoutView",
            "align_content": null,
            "align_items": null,
            "align_self": null,
            "border": null,
            "bottom": null,
            "display": null,
            "flex": null,
            "flex_flow": null,
            "grid_area": null,
            "grid_auto_columns": null,
            "grid_auto_flow": null,
            "grid_auto_rows": null,
            "grid_column": null,
            "grid_gap": null,
            "grid_row": null,
            "grid_template_areas": null,
            "grid_template_columns": null,
            "grid_template_rows": null,
            "height": null,
            "justify_content": null,
            "justify_items": null,
            "left": null,
            "margin": null,
            "max_height": null,
            "max_width": null,
            "min_height": null,
            "min_width": null,
            "object_fit": null,
            "object_position": null,
            "order": null,
            "overflow": null,
            "overflow_x": null,
            "overflow_y": null,
            "padding": null,
            "right": null,
            "top": null,
            "visibility": null,
            "width": null
          }
        },
        "02cb311abd4b4680af11215efe222f48": {
          "model_module": "@jupyter-widgets/controls",
          "model_name": "DescriptionStyleModel",
          "model_module_version": "1.5.0",
          "state": {
            "_model_module": "@jupyter-widgets/controls",
            "_model_module_version": "1.5.0",
            "_model_name": "DescriptionStyleModel",
            "_view_count": null,
            "_view_module": "@jupyter-widgets/base",
            "_view_module_version": "1.2.0",
            "_view_name": "StyleView",
            "description_width": ""
          }
        },
        "e01e39090e604d519d7b7b95436faf03": {
          "model_module": "@jupyter-widgets/controls",
          "model_name": "HBoxModel",
          "model_module_version": "1.5.0",
          "state": {
            "_dom_classes": [],
            "_model_module": "@jupyter-widgets/controls",
            "_model_module_version": "1.5.0",
            "_model_name": "HBoxModel",
            "_view_count": null,
            "_view_module": "@jupyter-widgets/controls",
            "_view_module_version": "1.5.0",
            "_view_name": "HBoxView",
            "box_style": "",
            "children": [
              "IPY_MODEL_ce0ec01f3c0b4f0fb37b5203630e2c34",
              "IPY_MODEL_d62ba5f3e54b43a1bd42b4653d2f8370",
              "IPY_MODEL_56b5c4034a63460b86cddec8f4d938c8"
            ],
            "layout": "IPY_MODEL_1734c9358deb4f109d768213e16f7212"
          }
        },
        "ce0ec01f3c0b4f0fb37b5203630e2c34": {
          "model_module": "@jupyter-widgets/controls",
          "model_name": "HTMLModel",
          "model_module_version": "1.5.0",
          "state": {
            "_dom_classes": [],
            "_model_module": "@jupyter-widgets/controls",
            "_model_module_version": "1.5.0",
            "_model_name": "HTMLModel",
            "_view_count": null,
            "_view_module": "@jupyter-widgets/controls",
            "_view_module_version": "1.5.0",
            "_view_name": "HTMLView",
            "description": "",
            "description_tooltip": null,
            "layout": "IPY_MODEL_aabf14eaef8341dca06dfd3380b42630",
            "placeholder": "​",
            "style": "IPY_MODEL_cf528f7375e74ab09d2ce1745fa2ad6e",
            "value": "Downloading special_tokens_map.json: 100%"
          }
        },
        "d62ba5f3e54b43a1bd42b4653d2f8370": {
          "model_module": "@jupyter-widgets/controls",
          "model_name": "FloatProgressModel",
          "model_module_version": "1.5.0",
          "state": {
            "_dom_classes": [],
            "_model_module": "@jupyter-widgets/controls",
            "_model_module_version": "1.5.0",
            "_model_name": "FloatProgressModel",
            "_view_count": null,
            "_view_module": "@jupyter-widgets/controls",
            "_view_module_version": "1.5.0",
            "_view_name": "ProgressView",
            "bar_style": "success",
            "description": "",
            "description_tooltip": null,
            "layout": "IPY_MODEL_0ca6c7d48134451f9857359d2cc63e7c",
            "max": 109,
            "min": 0,
            "orientation": "horizontal",
            "style": "IPY_MODEL_16bd8f7d84af4c72ba4c74f361c585b9",
            "value": 109
          }
        },
        "56b5c4034a63460b86cddec8f4d938c8": {
          "model_module": "@jupyter-widgets/controls",
          "model_name": "HTMLModel",
          "model_module_version": "1.5.0",
          "state": {
            "_dom_classes": [],
            "_model_module": "@jupyter-widgets/controls",
            "_model_module_version": "1.5.0",
            "_model_name": "HTMLModel",
            "_view_count": null,
            "_view_module": "@jupyter-widgets/controls",
            "_view_module_version": "1.5.0",
            "_view_name": "HTMLView",
            "description": "",
            "description_tooltip": null,
            "layout": "IPY_MODEL_620ec1a2e2384a33ac206cbc74650673",
            "placeholder": "​",
            "style": "IPY_MODEL_ea0d02dd70404960a5e4cba4d0f3d7f6",
            "value": " 109/109 [00:00&lt;00:00, 4.04kB/s]"
          }
        },
        "1734c9358deb4f109d768213e16f7212": {
          "model_module": "@jupyter-widgets/base",
          "model_name": "LayoutModel",
          "model_module_version": "1.2.0",
          "state": {
            "_model_module": "@jupyter-widgets/base",
            "_model_module_version": "1.2.0",
            "_model_name": "LayoutModel",
            "_view_count": null,
            "_view_module": "@jupyter-widgets/base",
            "_view_module_version": "1.2.0",
            "_view_name": "LayoutView",
            "align_content": null,
            "align_items": null,
            "align_self": null,
            "border": null,
            "bottom": null,
            "display": null,
            "flex": null,
            "flex_flow": null,
            "grid_area": null,
            "grid_auto_columns": null,
            "grid_auto_flow": null,
            "grid_auto_rows": null,
            "grid_column": null,
            "grid_gap": null,
            "grid_row": null,
            "grid_template_areas": null,
            "grid_template_columns": null,
            "grid_template_rows": null,
            "height": null,
            "justify_content": null,
            "justify_items": null,
            "left": null,
            "margin": null,
            "max_height": null,
            "max_width": null,
            "min_height": null,
            "min_width": null,
            "object_fit": null,
            "object_position": null,
            "order": null,
            "overflow": null,
            "overflow_x": null,
            "overflow_y": null,
            "padding": null,
            "right": null,
            "top": null,
            "visibility": null,
            "width": null
          }
        },
        "aabf14eaef8341dca06dfd3380b42630": {
          "model_module": "@jupyter-widgets/base",
          "model_name": "LayoutModel",
          "model_module_version": "1.2.0",
          "state": {
            "_model_module": "@jupyter-widgets/base",
            "_model_module_version": "1.2.0",
            "_model_name": "LayoutModel",
            "_view_count": null,
            "_view_module": "@jupyter-widgets/base",
            "_view_module_version": "1.2.0",
            "_view_name": "LayoutView",
            "align_content": null,
            "align_items": null,
            "align_self": null,
            "border": null,
            "bottom": null,
            "display": null,
            "flex": null,
            "flex_flow": null,
            "grid_area": null,
            "grid_auto_columns": null,
            "grid_auto_flow": null,
            "grid_auto_rows": null,
            "grid_column": null,
            "grid_gap": null,
            "grid_row": null,
            "grid_template_areas": null,
            "grid_template_columns": null,
            "grid_template_rows": null,
            "height": null,
            "justify_content": null,
            "justify_items": null,
            "left": null,
            "margin": null,
            "max_height": null,
            "max_width": null,
            "min_height": null,
            "min_width": null,
            "object_fit": null,
            "object_position": null,
            "order": null,
            "overflow": null,
            "overflow_x": null,
            "overflow_y": null,
            "padding": null,
            "right": null,
            "top": null,
            "visibility": null,
            "width": null
          }
        },
        "cf528f7375e74ab09d2ce1745fa2ad6e": {
          "model_module": "@jupyter-widgets/controls",
          "model_name": "DescriptionStyleModel",
          "model_module_version": "1.5.0",
          "state": {
            "_model_module": "@jupyter-widgets/controls",
            "_model_module_version": "1.5.0",
            "_model_name": "DescriptionStyleModel",
            "_view_count": null,
            "_view_module": "@jupyter-widgets/base",
            "_view_module_version": "1.2.0",
            "_view_name": "StyleView",
            "description_width": ""
          }
        },
        "0ca6c7d48134451f9857359d2cc63e7c": {
          "model_module": "@jupyter-widgets/base",
          "model_name": "LayoutModel",
          "model_module_version": "1.2.0",
          "state": {
            "_model_module": "@jupyter-widgets/base",
            "_model_module_version": "1.2.0",
            "_model_name": "LayoutModel",
            "_view_count": null,
            "_view_module": "@jupyter-widgets/base",
            "_view_module_version": "1.2.0",
            "_view_name": "LayoutView",
            "align_content": null,
            "align_items": null,
            "align_self": null,
            "border": null,
            "bottom": null,
            "display": null,
            "flex": null,
            "flex_flow": null,
            "grid_area": null,
            "grid_auto_columns": null,
            "grid_auto_flow": null,
            "grid_auto_rows": null,
            "grid_column": null,
            "grid_gap": null,
            "grid_row": null,
            "grid_template_areas": null,
            "grid_template_columns": null,
            "grid_template_rows": null,
            "height": null,
            "justify_content": null,
            "justify_items": null,
            "left": null,
            "margin": null,
            "max_height": null,
            "max_width": null,
            "min_height": null,
            "min_width": null,
            "object_fit": null,
            "object_position": null,
            "order": null,
            "overflow": null,
            "overflow_x": null,
            "overflow_y": null,
            "padding": null,
            "right": null,
            "top": null,
            "visibility": null,
            "width": null
          }
        },
        "16bd8f7d84af4c72ba4c74f361c585b9": {
          "model_module": "@jupyter-widgets/controls",
          "model_name": "ProgressStyleModel",
          "model_module_version": "1.5.0",
          "state": {
            "_model_module": "@jupyter-widgets/controls",
            "_model_module_version": "1.5.0",
            "_model_name": "ProgressStyleModel",
            "_view_count": null,
            "_view_module": "@jupyter-widgets/base",
            "_view_module_version": "1.2.0",
            "_view_name": "StyleView",
            "bar_color": null,
            "description_width": ""
          }
        },
        "620ec1a2e2384a33ac206cbc74650673": {
          "model_module": "@jupyter-widgets/base",
          "model_name": "LayoutModel",
          "model_module_version": "1.2.0",
          "state": {
            "_model_module": "@jupyter-widgets/base",
            "_model_module_version": "1.2.0",
            "_model_name": "LayoutModel",
            "_view_count": null,
            "_view_module": "@jupyter-widgets/base",
            "_view_module_version": "1.2.0",
            "_view_name": "LayoutView",
            "align_content": null,
            "align_items": null,
            "align_self": null,
            "border": null,
            "bottom": null,
            "display": null,
            "flex": null,
            "flex_flow": null,
            "grid_area": null,
            "grid_auto_columns": null,
            "grid_auto_flow": null,
            "grid_auto_rows": null,
            "grid_column": null,
            "grid_gap": null,
            "grid_row": null,
            "grid_template_areas": null,
            "grid_template_columns": null,
            "grid_template_rows": null,
            "height": null,
            "justify_content": null,
            "justify_items": null,
            "left": null,
            "margin": null,
            "max_height": null,
            "max_width": null,
            "min_height": null,
            "min_width": null,
            "object_fit": null,
            "object_position": null,
            "order": null,
            "overflow": null,
            "overflow_x": null,
            "overflow_y": null,
            "padding": null,
            "right": null,
            "top": null,
            "visibility": null,
            "width": null
          }
        },
        "ea0d02dd70404960a5e4cba4d0f3d7f6": {
          "model_module": "@jupyter-widgets/controls",
          "model_name": "DescriptionStyleModel",
          "model_module_version": "1.5.0",
          "state": {
            "_model_module": "@jupyter-widgets/controls",
            "_model_module_version": "1.5.0",
            "_model_name": "DescriptionStyleModel",
            "_view_count": null,
            "_view_module": "@jupyter-widgets/base",
            "_view_module_version": "1.2.0",
            "_view_name": "StyleView",
            "description_width": ""
          }
        }
      }
    }
  },
  "nbformat": 4,
  "nbformat_minor": 0
}