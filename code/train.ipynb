{
  "cells": [
    {
      "cell_type": "markdown",
      "metadata": {
        "id": "view-in-github",
        "colab_type": "text"
      },
      "source": [
        "<a href=\"https://colab.research.google.com/github/MJ199999/SW-Project/blob/master/train.ipynb\" target=\"_parent\"><img src=\"https://colab.research.google.com/assets/colab-badge.svg\" alt=\"Open In Colab\"/></a>"
      ]
    },
    {
      "cell_type": "code",
      "source": [
        "from google.colab import drive\n",
        "drive.mount('/gdrive')"
      ],
      "metadata": {
        "colab": {
          "base_uri": "https://localhost:8080/"
        },
        "id": "LzpVhjBy-TyU",
        "outputId": "a1637103-bddb-417a-94be-1d9b93397450"
      },
      "execution_count": 1,
      "outputs": [
        {
          "output_type": "stream",
          "name": "stdout",
          "text": [
            "Mounted at /gdrive\n"
          ]
        }
      ]
    },
    {
      "cell_type": "code",
      "execution_count": 2,
      "metadata": {
        "id": "ncVu4X79wc-y",
        "colab": {
          "base_uri": "https://localhost:8080/"
        },
        "outputId": "20be3126-5b7e-496f-cea4-d9aa991e5ee9"
      },
      "outputs": [
        {
          "output_type": "stream",
          "name": "stdout",
          "text": [
            "Looking in indexes: https://pypi.org/simple, https://us-python.pkg.dev/colab-wheels/public/simple/\n",
            "Collecting transformers\n",
            "  Downloading transformers-4.21.2-py3-none-any.whl (4.7 MB)\n",
            "\u001b[K     |████████████████████████████████| 4.7 MB 9.8 MB/s \n",
            "\u001b[?25hRequirement already satisfied: numpy>=1.17 in /usr/local/lib/python3.7/dist-packages (from transformers) (1.21.6)\n",
            "Requirement already satisfied: pyyaml>=5.1 in /usr/local/lib/python3.7/dist-packages (from transformers) (6.0)\n",
            "Requirement already satisfied: regex!=2019.12.17 in /usr/local/lib/python3.7/dist-packages (from transformers) (2022.6.2)\n",
            "Requirement already satisfied: requests in /usr/local/lib/python3.7/dist-packages (from transformers) (2.23.0)\n",
            "Collecting huggingface-hub<1.0,>=0.1.0\n",
            "  Downloading huggingface_hub-0.9.1-py3-none-any.whl (120 kB)\n",
            "\u001b[K     |████████████████████████████████| 120 kB 65.2 MB/s \n",
            "\u001b[?25hCollecting tokenizers!=0.11.3,<0.13,>=0.11.1\n",
            "  Downloading tokenizers-0.12.1-cp37-cp37m-manylinux_2_12_x86_64.manylinux2010_x86_64.whl (6.6 MB)\n",
            "\u001b[K     |████████████████████████████████| 6.6 MB 53.6 MB/s \n",
            "\u001b[?25hRequirement already satisfied: tqdm>=4.27 in /usr/local/lib/python3.7/dist-packages (from transformers) (4.64.0)\n",
            "Requirement already satisfied: packaging>=20.0 in /usr/local/lib/python3.7/dist-packages (from transformers) (21.3)\n",
            "Requirement already satisfied: filelock in /usr/local/lib/python3.7/dist-packages (from transformers) (3.8.0)\n",
            "Requirement already satisfied: importlib-metadata in /usr/local/lib/python3.7/dist-packages (from transformers) (4.12.0)\n",
            "Requirement already satisfied: typing-extensions>=3.7.4.3 in /usr/local/lib/python3.7/dist-packages (from huggingface-hub<1.0,>=0.1.0->transformers) (4.1.1)\n",
            "Requirement already satisfied: pyparsing!=3.0.5,>=2.0.2 in /usr/local/lib/python3.7/dist-packages (from packaging>=20.0->transformers) (3.0.9)\n",
            "Requirement already satisfied: zipp>=0.5 in /usr/local/lib/python3.7/dist-packages (from importlib-metadata->transformers) (3.8.1)\n",
            "Requirement already satisfied: certifi>=2017.4.17 in /usr/local/lib/python3.7/dist-packages (from requests->transformers) (2022.6.15)\n",
            "Requirement already satisfied: urllib3!=1.25.0,!=1.25.1,<1.26,>=1.21.1 in /usr/local/lib/python3.7/dist-packages (from requests->transformers) (1.24.3)\n",
            "Requirement already satisfied: chardet<4,>=3.0.2 in /usr/local/lib/python3.7/dist-packages (from requests->transformers) (3.0.4)\n",
            "Requirement already satisfied: idna<3,>=2.5 in /usr/local/lib/python3.7/dist-packages (from requests->transformers) (2.10)\n",
            "Installing collected packages: tokenizers, huggingface-hub, transformers\n",
            "Successfully installed huggingface-hub-0.9.1 tokenizers-0.12.1 transformers-4.21.2\n"
          ]
        }
      ],
      "source": [
        "!pip install transformers"
      ]
    },
    {
      "cell_type": "code",
      "execution_count": 3,
      "metadata": {
        "id": "3kKfitLzwsC_"
      },
      "outputs": [],
      "source": [
        "import pandas as pd\n",
        "\n",
        "df = pd.read_excel('/gdrive/MyDrive/Colab Notebooks/sw-project/SW-Project/poem_key.xlsx')"
      ]
    },
    {
      "cell_type": "code",
      "source": [
        "df.info()"
      ],
      "metadata": {
        "colab": {
          "base_uri": "https://localhost:8080/"
        },
        "id": "Lj2i1m8BjB1k",
        "outputId": "6c19ddd5-5f0e-4884-8df1-796b83284241"
      },
      "execution_count": 4,
      "outputs": [
        {
          "output_type": "stream",
          "name": "stdout",
          "text": [
            "<class 'pandas.core.frame.DataFrame'>\n",
            "RangeIndex: 292 entries, 0 to 291\n",
            "Data columns (total 10 columns):\n",
            " #   Column      Non-Null Count  Dtype \n",
            "---  ------      --------------  ----- \n",
            " 0   Unnamed: 0  292 non-null    int64 \n",
            " 1   시인          292 non-null    object\n",
            " 2   제목          292 non-null    object\n",
            " 3   시           292 non-null    object\n",
            " 4   키워드 전체      290 non-null    object\n",
            " 5   키워드1        290 non-null    object\n",
            " 6   키워드2        290 non-null    object\n",
            " 7   키워드3        290 non-null    object\n",
            " 8   키워드4        290 non-null    object\n",
            " 9   키워드5        290 non-null    object\n",
            "dtypes: int64(1), object(9)\n",
            "memory usage: 22.9+ KB\n"
          ]
        }
      ]
    },
    {
      "cell_type": "code",
      "source": [
        "df.drop('Unnamed: 0', axis=1)"
      ],
      "metadata": {
        "colab": {
          "base_uri": "https://localhost:8080/",
          "height": 659
        },
        "id": "FaOWk3ejZdkH",
        "outputId": "d2662416-23cf-402c-e890-53d4589424b2"
      },
      "execution_count": 5,
      "outputs": [
        {
          "output_type": "execute_result",
          "data": {
            "text/plain": [
              "      시인         제목                                                  시  \\\n",
              "0    강은교  우리가 물이 되어  우리가 물이 되어 만난다면\\n가문 어느 집에선들 좋아하지 않으랴.\\n우리가 키 큰 ...   \n",
              "1    김춘수   꽃을 위한 서시  나는 시방 위험한 짐승이다.\\n나의 손이 닿으면 너는 \\n미지의 까마득한 어둠이 된...   \n",
              "2    김춘수          꽃  내가 그의 이름을 불러 주기 전에는\\n그는 다만\\n하나의 몸짓에 지나지 않았다. \\...   \n",
              "3    김춘수         능금  그는 그리움에 산다.\\n그리움은 익어서 \\n스스로도 견디기 어려운\\n빛깔이 되고 향...   \n",
              "4    김춘수       부두에서  바다에 굽힌 사나이들\\n하루의 노동을 끝낸\\n저 사나이들의 억센 팔에 안긴\\n깨지지...   \n",
              "..   ...        ...                                                ...   \n",
              "287  신석정        전아사  포옹할 꽃 한 송이 없는 세월을\\n얼룩진 역사의 찢긴 자락에 매달려\\n그대로 소스라...   \n",
              "288  신석정     대바람 소리  대바람 소리\\n들리더니\\n소소한 대바람 소리\\n창을 흔들더니\\n\\n소설 지낸 하늘을...   \n",
              "289  송명희          나  나, 가진 재물 없으나\\n나, 남이 가진 지식 없으나\\n나, 남에게 있는 건강 있지...   \n",
              "290  송수권    산문에 기대어  누이야\\n가을 산 그리메에 빠진 눈썹 두어 낱을\\n지금도 살아서 보는가\\n정정한 눈...   \n",
              "291   송욱       하여지향  솜덩이 같은 몸뚱아리에\\n쇳덩이처럼 무거운 집을\\n달팽이처럼 지고,\\n먼동이 아니라...   \n",
              "\n",
              "                   키워드 전체 키워드1 키워드2 키워드3 키워드4 키워드5  \n",
              "0      강물, 처녀, 나무, 가문, 기도   강물   처녀   나무   가문   기도  \n",
              "1      어둠, 신부, 울음, 짐승, 추억   어둠   신부   울음   짐승   추억  \n",
              "2      향기, 무엇, 빛깔, 모두, 눈짓   향기   무엇   빛깔   모두   눈짓  \n",
              "3     그리움, 축제, 충실, 향기, 바다  그리움   축제   충실   향기   바다  \n",
              "4      상어, 노동, 온전, 바다, 물개   상어   노동   온전   바다   물개  \n",
              "..                    ...  ...  ...  ...  ...  ...  \n",
              "287   어둠, 억만, 가을비, 포옹, 음악   어둠   억만  가을비   포옹   음악  \n",
              "288    구름, 소설, 제왕, 향기, 금은   구름   소설   제왕   향기   금은  \n",
              "289   사랑, 지식, 하나님, 재물, 음성   사랑   지식  하나님   재물   음성  \n",
              "290  물방울, 눈물, 고뇌, 가을, 물고기  물방울   눈물   고뇌   가을  물고기  \n",
              "291  달팽이, 눈초리, 두통, 자살, 거미  달팽이  눈초리   두통   자살   거미  \n",
              "\n",
              "[292 rows x 9 columns]"
            ],
            "text/html": [
              "\n",
              "  <div id=\"df-86f266b6-cb3f-4226-bd13-170224585c9d\">\n",
              "    <div class=\"colab-df-container\">\n",
              "      <div>\n",
              "<style scoped>\n",
              "    .dataframe tbody tr th:only-of-type {\n",
              "        vertical-align: middle;\n",
              "    }\n",
              "\n",
              "    .dataframe tbody tr th {\n",
              "        vertical-align: top;\n",
              "    }\n",
              "\n",
              "    .dataframe thead th {\n",
              "        text-align: right;\n",
              "    }\n",
              "</style>\n",
              "<table border=\"1\" class=\"dataframe\">\n",
              "  <thead>\n",
              "    <tr style=\"text-align: right;\">\n",
              "      <th></th>\n",
              "      <th>시인</th>\n",
              "      <th>제목</th>\n",
              "      <th>시</th>\n",
              "      <th>키워드 전체</th>\n",
              "      <th>키워드1</th>\n",
              "      <th>키워드2</th>\n",
              "      <th>키워드3</th>\n",
              "      <th>키워드4</th>\n",
              "      <th>키워드5</th>\n",
              "    </tr>\n",
              "  </thead>\n",
              "  <tbody>\n",
              "    <tr>\n",
              "      <th>0</th>\n",
              "      <td>강은교</td>\n",
              "      <td>우리가 물이 되어</td>\n",
              "      <td>우리가 물이 되어 만난다면\\n가문 어느 집에선들 좋아하지 않으랴.\\n우리가 키 큰 ...</td>\n",
              "      <td>강물, 처녀, 나무, 가문, 기도</td>\n",
              "      <td>강물</td>\n",
              "      <td>처녀</td>\n",
              "      <td>나무</td>\n",
              "      <td>가문</td>\n",
              "      <td>기도</td>\n",
              "    </tr>\n",
              "    <tr>\n",
              "      <th>1</th>\n",
              "      <td>김춘수</td>\n",
              "      <td>꽃을 위한 서시</td>\n",
              "      <td>나는 시방 위험한 짐승이다.\\n나의 손이 닿으면 너는 \\n미지의 까마득한 어둠이 된...</td>\n",
              "      <td>어둠, 신부, 울음, 짐승, 추억</td>\n",
              "      <td>어둠</td>\n",
              "      <td>신부</td>\n",
              "      <td>울음</td>\n",
              "      <td>짐승</td>\n",
              "      <td>추억</td>\n",
              "    </tr>\n",
              "    <tr>\n",
              "      <th>2</th>\n",
              "      <td>김춘수</td>\n",
              "      <td>꽃</td>\n",
              "      <td>내가 그의 이름을 불러 주기 전에는\\n그는 다만\\n하나의 몸짓에 지나지 않았다. \\...</td>\n",
              "      <td>향기, 무엇, 빛깔, 모두, 눈짓</td>\n",
              "      <td>향기</td>\n",
              "      <td>무엇</td>\n",
              "      <td>빛깔</td>\n",
              "      <td>모두</td>\n",
              "      <td>눈짓</td>\n",
              "    </tr>\n",
              "    <tr>\n",
              "      <th>3</th>\n",
              "      <td>김춘수</td>\n",
              "      <td>능금</td>\n",
              "      <td>그는 그리움에 산다.\\n그리움은 익어서 \\n스스로도 견디기 어려운\\n빛깔이 되고 향...</td>\n",
              "      <td>그리움, 축제, 충실, 향기, 바다</td>\n",
              "      <td>그리움</td>\n",
              "      <td>축제</td>\n",
              "      <td>충실</td>\n",
              "      <td>향기</td>\n",
              "      <td>바다</td>\n",
              "    </tr>\n",
              "    <tr>\n",
              "      <th>4</th>\n",
              "      <td>김춘수</td>\n",
              "      <td>부두에서</td>\n",
              "      <td>바다에 굽힌 사나이들\\n하루의 노동을 끝낸\\n저 사나이들의 억센 팔에 안긴\\n깨지지...</td>\n",
              "      <td>상어, 노동, 온전, 바다, 물개</td>\n",
              "      <td>상어</td>\n",
              "      <td>노동</td>\n",
              "      <td>온전</td>\n",
              "      <td>바다</td>\n",
              "      <td>물개</td>\n",
              "    </tr>\n",
              "    <tr>\n",
              "      <th>...</th>\n",
              "      <td>...</td>\n",
              "      <td>...</td>\n",
              "      <td>...</td>\n",
              "      <td>...</td>\n",
              "      <td>...</td>\n",
              "      <td>...</td>\n",
              "      <td>...</td>\n",
              "      <td>...</td>\n",
              "      <td>...</td>\n",
              "    </tr>\n",
              "    <tr>\n",
              "      <th>287</th>\n",
              "      <td>신석정</td>\n",
              "      <td>전아사</td>\n",
              "      <td>포옹할 꽃 한 송이 없는 세월을\\n얼룩진 역사의 찢긴 자락에 매달려\\n그대로 소스라...</td>\n",
              "      <td>어둠, 억만, 가을비, 포옹, 음악</td>\n",
              "      <td>어둠</td>\n",
              "      <td>억만</td>\n",
              "      <td>가을비</td>\n",
              "      <td>포옹</td>\n",
              "      <td>음악</td>\n",
              "    </tr>\n",
              "    <tr>\n",
              "      <th>288</th>\n",
              "      <td>신석정</td>\n",
              "      <td>대바람 소리</td>\n",
              "      <td>대바람 소리\\n들리더니\\n소소한 대바람 소리\\n창을 흔들더니\\n\\n소설 지낸 하늘을...</td>\n",
              "      <td>구름, 소설, 제왕, 향기, 금은</td>\n",
              "      <td>구름</td>\n",
              "      <td>소설</td>\n",
              "      <td>제왕</td>\n",
              "      <td>향기</td>\n",
              "      <td>금은</td>\n",
              "    </tr>\n",
              "    <tr>\n",
              "      <th>289</th>\n",
              "      <td>송명희</td>\n",
              "      <td>나</td>\n",
              "      <td>나, 가진 재물 없으나\\n나, 남이 가진 지식 없으나\\n나, 남에게 있는 건강 있지...</td>\n",
              "      <td>사랑, 지식, 하나님, 재물, 음성</td>\n",
              "      <td>사랑</td>\n",
              "      <td>지식</td>\n",
              "      <td>하나님</td>\n",
              "      <td>재물</td>\n",
              "      <td>음성</td>\n",
              "    </tr>\n",
              "    <tr>\n",
              "      <th>290</th>\n",
              "      <td>송수권</td>\n",
              "      <td>산문에 기대어</td>\n",
              "      <td>누이야\\n가을 산 그리메에 빠진 눈썹 두어 낱을\\n지금도 살아서 보는가\\n정정한 눈...</td>\n",
              "      <td>물방울, 눈물, 고뇌, 가을, 물고기</td>\n",
              "      <td>물방울</td>\n",
              "      <td>눈물</td>\n",
              "      <td>고뇌</td>\n",
              "      <td>가을</td>\n",
              "      <td>물고기</td>\n",
              "    </tr>\n",
              "    <tr>\n",
              "      <th>291</th>\n",
              "      <td>송욱</td>\n",
              "      <td>하여지향</td>\n",
              "      <td>솜덩이 같은 몸뚱아리에\\n쇳덩이처럼 무거운 집을\\n달팽이처럼 지고,\\n먼동이 아니라...</td>\n",
              "      <td>달팽이, 눈초리, 두통, 자살, 거미</td>\n",
              "      <td>달팽이</td>\n",
              "      <td>눈초리</td>\n",
              "      <td>두통</td>\n",
              "      <td>자살</td>\n",
              "      <td>거미</td>\n",
              "    </tr>\n",
              "  </tbody>\n",
              "</table>\n",
              "<p>292 rows × 9 columns</p>\n",
              "</div>\n",
              "      <button class=\"colab-df-convert\" onclick=\"convertToInteractive('df-86f266b6-cb3f-4226-bd13-170224585c9d')\"\n",
              "              title=\"Convert this dataframe to an interactive table.\"\n",
              "              style=\"display:none;\">\n",
              "        \n",
              "  <svg xmlns=\"http://www.w3.org/2000/svg\" height=\"24px\"viewBox=\"0 0 24 24\"\n",
              "       width=\"24px\">\n",
              "    <path d=\"M0 0h24v24H0V0z\" fill=\"none\"/>\n",
              "    <path d=\"M18.56 5.44l.94 2.06.94-2.06 2.06-.94-2.06-.94-.94-2.06-.94 2.06-2.06.94zm-11 1L8.5 8.5l.94-2.06 2.06-.94-2.06-.94L8.5 2.5l-.94 2.06-2.06.94zm10 10l.94 2.06.94-2.06 2.06-.94-2.06-.94-.94-2.06-.94 2.06-2.06.94z\"/><path d=\"M17.41 7.96l-1.37-1.37c-.4-.4-.92-.59-1.43-.59-.52 0-1.04.2-1.43.59L10.3 9.45l-7.72 7.72c-.78.78-.78 2.05 0 2.83L4 21.41c.39.39.9.59 1.41.59.51 0 1.02-.2 1.41-.59l7.78-7.78 2.81-2.81c.8-.78.8-2.07 0-2.86zM5.41 20L4 18.59l7.72-7.72 1.47 1.35L5.41 20z\"/>\n",
              "  </svg>\n",
              "      </button>\n",
              "      \n",
              "  <style>\n",
              "    .colab-df-container {\n",
              "      display:flex;\n",
              "      flex-wrap:wrap;\n",
              "      gap: 12px;\n",
              "    }\n",
              "\n",
              "    .colab-df-convert {\n",
              "      background-color: #E8F0FE;\n",
              "      border: none;\n",
              "      border-radius: 50%;\n",
              "      cursor: pointer;\n",
              "      display: none;\n",
              "      fill: #1967D2;\n",
              "      height: 32px;\n",
              "      padding: 0 0 0 0;\n",
              "      width: 32px;\n",
              "    }\n",
              "\n",
              "    .colab-df-convert:hover {\n",
              "      background-color: #E2EBFA;\n",
              "      box-shadow: 0px 1px 2px rgba(60, 64, 67, 0.3), 0px 1px 3px 1px rgba(60, 64, 67, 0.15);\n",
              "      fill: #174EA6;\n",
              "    }\n",
              "\n",
              "    [theme=dark] .colab-df-convert {\n",
              "      background-color: #3B4455;\n",
              "      fill: #D2E3FC;\n",
              "    }\n",
              "\n",
              "    [theme=dark] .colab-df-convert:hover {\n",
              "      background-color: #434B5C;\n",
              "      box-shadow: 0px 1px 3px 1px rgba(0, 0, 0, 0.15);\n",
              "      filter: drop-shadow(0px 1px 2px rgba(0, 0, 0, 0.3));\n",
              "      fill: #FFFFFF;\n",
              "    }\n",
              "  </style>\n",
              "\n",
              "      <script>\n",
              "        const buttonEl =\n",
              "          document.querySelector('#df-86f266b6-cb3f-4226-bd13-170224585c9d button.colab-df-convert');\n",
              "        buttonEl.style.display =\n",
              "          google.colab.kernel.accessAllowed ? 'block' : 'none';\n",
              "\n",
              "        async function convertToInteractive(key) {\n",
              "          const element = document.querySelector('#df-86f266b6-cb3f-4226-bd13-170224585c9d');\n",
              "          const dataTable =\n",
              "            await google.colab.kernel.invokeFunction('convertToInteractive',\n",
              "                                                     [key], {});\n",
              "          if (!dataTable) return;\n",
              "\n",
              "          const docLinkHtml = 'Like what you see? Visit the ' +\n",
              "            '<a target=\"_blank\" href=https://colab.research.google.com/notebooks/data_table.ipynb>data table notebook</a>'\n",
              "            + ' to learn more about interactive tables.';\n",
              "          element.innerHTML = '';\n",
              "          dataTable['output_type'] = 'display_data';\n",
              "          await google.colab.output.renderOutput(dataTable, element);\n",
              "          const docLink = document.createElement('div');\n",
              "          docLink.innerHTML = docLinkHtml;\n",
              "          element.appendChild(docLink);\n",
              "        }\n",
              "      </script>\n",
              "    </div>\n",
              "  </div>\n",
              "  "
            ]
          },
          "metadata": {},
          "execution_count": 5
        }
      ]
    },
    {
      "cell_type": "code",
      "source": [
        "df = df.dropna()"
      ],
      "metadata": {
        "id": "D6vS5gMCiywC"
      },
      "execution_count": 6,
      "outputs": []
    },
    {
      "cell_type": "code",
      "execution_count": 7,
      "metadata": {
        "id": "6TBDatyawk-y"
      },
      "outputs": [],
      "source": [
        "train_dataset = df\n",
        "# train_dataset = df[0:int(len(df)*0.9)]\n",
        "# val_dataset = df[int(len(df)*0.9):]"
      ]
    },
    {
      "cell_type": "code",
      "execution_count": 8,
      "metadata": {
        "id": "HL2KwfXxxcWY",
        "colab": {
          "base_uri": "https://localhost:8080/",
          "height": 289,
          "referenced_widgets": [
            "3a9f969ea8ec40a8af33c233025e59d8",
            "ff6cc0a694de4369a89a8526663268c8",
            "f1e3f6807c1f48c4947b80d8d5ef4522",
            "1cd4a6fdb02c449988fd853c54c8d3ac",
            "9c1dacdd5bed40dfabff20d1894d091d",
            "ec92f4c84bcd4c8a9427f0ed4304e2da",
            "959e43c2e7f14374bf6891f8ac7f8490",
            "27fa8a5e01a841eb8680e505ed59dbb2",
            "9061b543b1fb4e0e853d6187f52918f3",
            "4fca94b10dcb40a78d5ab8269d0ef974",
            "e58164a469894c14947a0e5cf9e9d10c",
            "95ad2294e5e847ac9f88349964193cb8",
            "e6c9f0372212470c9d5172eed5bcc2f8",
            "e3cc16914bb84094be640edc04db3a07",
            "e79bec30be7d44f397e4d4b269f824e4",
            "e223a46d8c9244fc9b21db6e56275cf8",
            "230b489311434bf090d344f5c514f40a",
            "feb0210e751f483a8adf8205f9fecbf9",
            "a4c636bb229a4bd890e2e5c63cbfe32a",
            "fef8cb9b06e24c1f8b6f97d1001f157f",
            "765c9a9fe0504a8dabb83cf3366f5a49",
            "536537be7b79496ea1d5dcd7a7c42b75",
            "536c9aa8b7e749a786b1905e6ca73d5e",
            "c5f51325ed9b4316ba3c875e9a2af64d",
            "8059745071ae4dfe945cdd75115286be",
            "8be74085e1d44ec69c3c1e187810c7b0",
            "0c90212517064fc996cba082208bb24a",
            "78373100ac5548f29b28ac6fac7bebc5",
            "e94b0a8853414060a67d43ab10456849",
            "9cd277ef9db14b739a126f54a0552702",
            "67feb246ec38415abb5a409e1f830d67",
            "5918669799ad409395f9c187308b3ae8",
            "2c83d6161a39448ab4aad322e3e9e8ad",
            "683d7f475ade490293359a55ea20ab20",
            "e5517703052d4c94970e296b64c114e4",
            "bcb058b8fe8946feab1a0973a3501357",
            "e5fb4e1d7e4e4750bd92dc328df5c9db",
            "f9f88536b3e7403fa07349e9168dcbc9",
            "1b660f272ca74a9fbe99298f5dbc6edd",
            "9c12061c5d924ed3ba1d1cd83f15bfeb",
            "da399e33a1134c588b524cf3ba776bbb",
            "da8a1fbba29944a98994b82193e35422",
            "7eddb8aadc35437fac33a7880395900d",
            "ecc5cbffbc8b43a99481c5d21b569c3f",
            "98e330ffd19b43198505304e37d4e410",
            "ff78eba58e3f4298873526f2026e0a1d",
            "d35db5ad85844707aba06c53cad74f58",
            "4502d78c12874751b4a8b95bab8ecaae",
            "a7caa17d062f4e81b3e54bf747ccdb1c",
            "45d4a326a71d431db4d91878f37707c6",
            "31e06fd2e10b4c4d9338ca1fe56ce160",
            "b1e8d9bf53054eacb37fee74bc36c9b9",
            "534595c4f54b4469abfad9d934387b85",
            "f87829fdb7c3495584185239c00f614a",
            "d8438a5ac0bd465c9d6642fe45b1c114"
          ]
        },
        "outputId": "92df9b47-e9a6-4df4-8f42-fd3f7419262a"
      },
      "outputs": [
        {
          "output_type": "display_data",
          "data": {
            "text/plain": [
              "Downloading tokenizer_config.json:   0%|          | 0.00/2.00 [00:00<?, ?B/s]"
            ],
            "application/vnd.jupyter.widget-view+json": {
              "version_major": 2,
              "version_minor": 0,
              "model_id": "3a9f969ea8ec40a8af33c233025e59d8"
            }
          },
          "metadata": {}
        },
        {
          "output_type": "display_data",
          "data": {
            "text/plain": [
              "Downloading config.json:   0%|          | 0.00/731 [00:00<?, ?B/s]"
            ],
            "application/vnd.jupyter.widget-view+json": {
              "version_major": 2,
              "version_minor": 0,
              "model_id": "95ad2294e5e847ac9f88349964193cb8"
            }
          },
          "metadata": {}
        },
        {
          "output_type": "display_data",
          "data": {
            "text/plain": [
              "Downloading tokenizer.json:   0%|          | 0.00/1.00M [00:00<?, ?B/s]"
            ],
            "application/vnd.jupyter.widget-view+json": {
              "version_major": 2,
              "version_minor": 0,
              "model_id": "536c9aa8b7e749a786b1905e6ca73d5e"
            }
          },
          "metadata": {}
        },
        {
          "output_type": "display_data",
          "data": {
            "text/plain": [
              "Downloading special_tokens_map.json:   0%|          | 0.00/109 [00:00<?, ?B/s]"
            ],
            "application/vnd.jupyter.widget-view+json": {
              "version_major": 2,
              "version_minor": 0,
              "model_id": "683d7f475ade490293359a55ea20ab20"
            }
          },
          "metadata": {}
        },
        {
          "output_type": "display_data",
          "data": {
            "text/plain": [
              "Downloading pytorch_model.bin:   0%|          | 0.00/4.35G [00:00<?, ?B/s]"
            ],
            "application/vnd.jupyter.widget-view+json": {
              "version_major": 2,
              "version_minor": 0,
              "model_id": "98e330ffd19b43198505304e37d4e410"
            }
          },
          "metadata": {}
        },
        {
          "output_type": "stream",
          "name": "stderr",
          "text": [
            "Some weights of the PyTorch model were not used when initializing the TF 2.0 model TFGPT2LMHeadModel: ['transformer.h.10.attn.masked_bias', 'transformer.h.11.attn.masked_bias', 'transformer.h.2.attn.masked_bias', 'transformer.h.13.attn.masked_bias', 'transformer.h.12.attn.masked_bias', 'transformer.h.19.attn.masked_bias', 'transformer.h.9.attn.masked_bias', 'transformer.h.1.attn.masked_bias', 'transformer.h.20.attn.masked_bias', 'transformer.h.4.attn.masked_bias', 'transformer.h.6.attn.masked_bias', 'transformer.h.18.attn.masked_bias', 'transformer.h.7.attn.masked_bias', 'transformer.h.22.attn.masked_bias', 'transformer.h.5.attn.masked_bias', 'transformer.h.8.attn.masked_bias', 'transformer.h.16.attn.masked_bias', 'transformer.h.17.attn.masked_bias', 'transformer.h.0.attn.masked_bias', 'transformer.h.23.attn.masked_bias', 'transformer.h.15.attn.masked_bias', 'lm_head.weight', 'transformer.h.14.attn.masked_bias', 'transformer.h.3.attn.masked_bias', 'transformer.h.21.attn.masked_bias']\n",
            "- This IS expected if you are initializing TFGPT2LMHeadModel from a PyTorch model trained on another task or with another architecture (e.g. initializing a TFBertForSequenceClassification model from a BertForPreTraining model).\n",
            "- This IS NOT expected if you are initializing TFGPT2LMHeadModel from a PyTorch model that you expect to be exactly identical (e.g. initializing a TFBertForSequenceClassification model from a BertForSequenceClassification model).\n",
            "All the weights of TFGPT2LMHeadModel were initialized from the PyTorch model.\n",
            "If your task is similar to the task the model of the checkpoint was trained on, you can already use TFGPT2LMHeadModel for predictions without further training.\n"
          ]
        }
      ],
      "source": [
        "from transformers import AutoTokenizer, TFAutoModelForCausalLM\n",
        "\n",
        "tokenizer = AutoTokenizer.from_pretrained(\"skt/ko-gpt-trinity-1.2B-v0.5\", bos_token='</s>', eos_token='</s>', pad_token='<pad>')\n",
        "gpt3_model = TFAutoModelForCausalLM.from_pretrained(\"skt/ko-gpt-trinity-1.2B-v0.5\", from_pt=True)"
      ]
    },
    {
      "cell_type": "code",
      "execution_count": 9,
      "metadata": {
        "colab": {
          "base_uri": "https://localhost:8080/"
        },
        "id": "iZbQZtNEtqcD",
        "outputId": "8886a6e2-f752-4887-f8c5-c4282fb14318"
      },
      "outputs": [
        {
          "output_type": "stream",
          "name": "stdout",
          "text": [
            "[31171, 36238, 30726, 33577, 30298, 376, 18792, 22688, 30696, 30198, 31634, 21068, 50647, 35706, 21788, 30005, 25624, 30417, 30697, 30397, 32051, 25512, 30279, 34310, 376, 25624, 42027, 30044, 42027, 30031, 31366, 42859, 51138, 30298, 30005, 376, 29880, 31570, 33401, 24196, 30121, 22692, 20160, 25404, 376, 25960, 32086, 31241, 37797, 30092, 34682, 39172, 376, 26213, 25768, 32051, 46222, 50272, 30312, 35673, 30005, 25260, 34551, 30865, 40981, 37254, 23272, 34509, 25628, 47102, 35306, 20476, 30298, 30005, 376, 36225, 19968, 30328, 31203, 376, 23280, 21956, 31082, 21900, 30589, 23028, 24784, 565, 24471, 25820, 30164, 35031, 34264, 376, 24224, 31517, 30093, 36902, 37556, 48481, 21076, 19016, 37563, 20528, 30005, 376, 22324, 30284, 40624, 41204, 43205, 25428, 376, 25960, 30093, 30288, 32767, 40659, 29880, 30688, 30134, 21956, 31082, 34257, 29152, 24644, 24644, 31793, 24644, 24644, 30093, 32198, 30248, 42859, 30023, 30441, 376, 25492, 31296, 40455, 29979, 27588, 376, 20091, 19016, 43308, 31891, 21956, 30027, 31768]\n",
            "['▁우리가', '▁물이', '▁되어', '▁만난', '다면', '\\n', '가', '문', '▁어느', '▁집', '에선', '들', '▁좋아하지', '▁않으', '랴', '.\\n', '우', '리가', '▁키', '▁큰', '▁나무', '와', '▁함께', '▁서서', '\\n', '우', '르르', '▁우', '르르', '▁비', '오는', '▁소리로', '▁흐른', '다면', '.\\n', '\\n', '흐', '르고', '▁흘러', '서', '▁저', '물', '녘', '엔', '\\n', '저', '▁혼자', '▁깊', '어지는', '▁강', '물에', '▁누워', '\\n', '죽', '은', '▁나무', '▁뿌리를', '▁적시', '기도', '▁한다면', '.\\n', '아', '아,', '▁아직', '▁처녀', '인\\n', '부', '끄러', '운', '▁바다에', '▁닿', '는', '다면', '.\\n', '\\n', '그러', '나', '▁지금', '▁우리는', '\\n', '불', '로', '▁만나', '려', '▁한다.\\n', '벌', '써', '▁', '숯', '이', '▁된', '▁뼈', '▁하나가', '\\n', '세', '상에', '▁불', '타는', '▁것들을', '▁쓰다', '듬', '고', '▁있나', '니', '.\\n', '\\n', '만', '▁리', '▁밖에서', '▁기다리는', '▁그대', '여', '\\n', '저', '▁불', '▁지난', '▁뒤에', '▁\\n', '흐', '르는', '▁물', '로', '▁만나', '자.\\n', '푸', '시', '시', '▁푸', '시', '시', '▁불', '▁꺼', '지는', '▁소리로', '▁말', '하면서', '\\n', '올', '▁때는', '▁인적', '▁그', '친', '\\n', '넓', '고', '▁깨끗한', '▁하늘', '로', '▁오', '라.']\n",
            "우리가 물이 되어 만난다면\n",
            "가문 어느 집에선들 좋아하지 않으랴.\n",
            "우리가 키 큰 나무와 함께 서서\n",
            "우르르 우르르 비오는 소리로 흐른다면.\n",
            "\n",
            "흐르고 흘러서 저물녘엔\n",
            "저 혼자 깊어지는 강물에 누워\n",
            "죽은 나무 뿌리를 적시기도 한다면.\n",
            "아아, 아직 처녀인\n",
            "부끄러운 바다에 닿는다면.\n",
            "\n",
            "그러나 지금 우리는\n",
            "불로 만나려 한다.\n",
            "벌써 숯이 된 뼈 하나가\n",
            "세상에 불타는 것들을 쓰다듬고 있나니.\n",
            "\n",
            "만 리 밖에서 기다리는 그대여\n",
            "저 불 지난 뒤에 \n",
            "흐르는 물로 만나자.\n",
            "푸시시 푸시시 불 꺼지는 소리로 말하면서\n",
            "올 때는 인적 그친\n",
            "넓고 깨끗한 하늘로 오라.\n"
          ]
        }
      ],
      "source": [
        "print(tokenizer.encode(df['시'].loc[0]))\n",
        "print(tokenizer.tokenize(df['시'].loc[0]))\n",
        "print(tokenizer.decode(tokenizer.encode(df['시'].loc[0])))"
      ]
    },
    {
      "cell_type": "code",
      "execution_count": 10,
      "metadata": {
        "id": "g7Z9_jg8uxbw"
      },
      "outputs": [],
      "source": [
        "max_seq_len = 200"
      ]
    },
    {
      "cell_type": "code",
      "execution_count": 11,
      "metadata": {
        "id": "MAGtVbqLu0kf"
      },
      "outputs": [],
      "source": [
        "from tqdm import tqdm\n",
        "from tensorflow.keras.preprocessing.sequence import pad_sequences\n",
        "import numpy as np\n",
        "\n",
        "def convert_examples_to_features(examples, labels, max_seq_len, tokenizer):\n",
        "\n",
        "    input_ids, data_labels = [], []\n",
        "    \n",
        "    for example, label in tqdm(zip(examples, labels), total=len(examples)):\n",
        "\n",
        "        bos_token = [tokenizer.bos_token]\n",
        "        eos_token = [tokenizer.eos_token]\n",
        "        \n",
        "        tokens = bos_token + tokenizer.tokenize(example) + eos_token\n",
        "        input_id = tokenizer.convert_tokens_to_ids(tokens)\n",
        "        input_id = pad_sequences([input_id], maxlen=5, value=tokenizer.pad_token_id, padding='post')[0]\n",
        "\n",
        "        output_tokens = bos_token + tokenizer.tokenize(label) + eos_token\n",
        "        output_id = tokenizer.convert_tokens_to_ids(output_tokens)\n",
        "        output_id = pad_sequences([output_id], maxlen=max_seq_len, value=tokenizer.pad_token_id, padding='post')[0]\n",
        "        \n",
        "        assert len(input_id) == 5, \"Error with inpxut length {} vs {}\".format(len(input_id), max_seq_len)\n",
        "        input_ids.append(input_id)\n",
        "        data_labels.append(output_id)\n",
        "\n",
        "    input_ids = np.array(input_ids, dtype=int).reshape((-1,1))\n",
        "    data_labels = np.array(data_labels, dtype=int).reshape((-1,1))\n",
        "\n",
        "    return input_ids, data_labels"
      ]
    },
    {
      "cell_type": "code",
      "execution_count": 12,
      "metadata": {
        "colab": {
          "base_uri": "https://localhost:8080/"
        },
        "id": "ylKyeyNBvUPW",
        "outputId": "e38a27b5-abb7-4538-f9e4-1d3b3be57fd9"
      },
      "outputs": [
        {
          "output_type": "stream",
          "name": "stderr",
          "text": [
            "100%|██████████| 290/290 [00:00<00:00, 1142.80it/s]\n"
          ]
        }
      ],
      "source": [
        "train_X_1, train_y = convert_examples_to_features(train_dataset['키워드1'], train_dataset['시'], max_seq_len=max_seq_len, tokenizer=tokenizer)"
      ]
    },
    {
      "cell_type": "code",
      "source": [
        "train_X_2, train_y = convert_examples_to_features(train_dataset['키워드2'], train_dataset['시'], max_seq_len=max_seq_len, tokenizer=tokenizer)"
      ],
      "metadata": {
        "colab": {
          "base_uri": "https://localhost:8080/"
        },
        "id": "MrRnKZrRbF8o",
        "outputId": "b1834e1e-31ae-4839-eb7a-e3ab8aab809d"
      },
      "execution_count": 13,
      "outputs": [
        {
          "output_type": "stream",
          "name": "stderr",
          "text": [
            "100%|██████████| 290/290 [00:00<00:00, 1192.58it/s]\n"
          ]
        }
      ]
    },
    {
      "cell_type": "code",
      "source": [
        "train_X_3, train_y = convert_examples_to_features(train_dataset['키워드3'], train_dataset['시'], max_seq_len=max_seq_len, tokenizer=tokenizer)"
      ],
      "metadata": {
        "colab": {
          "base_uri": "https://localhost:8080/"
        },
        "id": "_S1AB3BTbRE9",
        "outputId": "54f0ced5-8b93-4c04-8dfd-29a28149dba0"
      },
      "execution_count": 14,
      "outputs": [
        {
          "output_type": "stream",
          "name": "stderr",
          "text": [
            "100%|██████████| 290/290 [00:00<00:00, 1209.15it/s]\n"
          ]
        }
      ]
    },
    {
      "cell_type": "code",
      "source": [
        "train_X_4, train_y = convert_examples_to_features(train_dataset['키워드4'], train_dataset['시'], max_seq_len=max_seq_len, tokenizer=tokenizer)"
      ],
      "metadata": {
        "colab": {
          "base_uri": "https://localhost:8080/"
        },
        "id": "nPm14TRAb0zm",
        "outputId": "79ce5bdf-01d8-4ef3-abdf-40da3372c1c2"
      },
      "execution_count": 15,
      "outputs": [
        {
          "output_type": "stream",
          "name": "stderr",
          "text": [
            "100%|██████████| 290/290 [00:00<00:00, 1262.76it/s]\n"
          ]
        }
      ]
    },
    {
      "cell_type": "code",
      "source": [
        "train_X_5, train_y = convert_examples_to_features(train_dataset['키워드5'], train_dataset['시'], max_seq_len=max_seq_len, tokenizer=tokenizer)"
      ],
      "metadata": {
        "colab": {
          "base_uri": "https://localhost:8080/"
        },
        "id": "8sj70ND5b4_l",
        "outputId": "89bd0e54-aae8-4d17-cdbc-6807c9d7f27f"
      },
      "execution_count": 16,
      "outputs": [
        {
          "output_type": "stream",
          "name": "stderr",
          "text": [
            "100%|██████████| 290/290 [00:00<00:00, 1207.49it/s]\n"
          ]
        }
      ]
    },
    {
      "cell_type": "code",
      "execution_count": 17,
      "metadata": {
        "id": "KFwp1uX5d_WM"
      },
      "outputs": [],
      "source": [
        "gpt3_model.transformer.wte.trainable = False"
      ]
    },
    {
      "cell_type": "code",
      "source": [
        "gpt3_model.transformer.h[0].trainable = False\n",
        "gpt3_model.transformer.h[1].trainable = False\n",
        "gpt3_model.transformer.h[2].trainable = False\n",
        "gpt3_model.transformer.h[3].trainable = False\n",
        "gpt3_model.transformer.h[4].trainable = False\n",
        "gpt3_model.transformer.h[5].trainable = False\n",
        "gpt3_model.transformer.h[6].trainable = False\n",
        "gpt3_model.transformer.h[7].trainable = False\n",
        "gpt3_model.transformer.h[8].trainable = False\n",
        "gpt3_model.transformer.h[9].trainable = False\n",
        "gpt3_model.transformer.h[10].trainable = False"
      ],
      "metadata": {
        "id": "zM31rsq3CQPr"
      },
      "execution_count": 18,
      "outputs": []
    },
    {
      "cell_type": "code",
      "execution_count": 19,
      "metadata": {
        "id": "QA2wRPUR9p7B",
        "colab": {
          "base_uri": "https://localhost:8080/"
        },
        "outputId": "dbb87360-d0c6-4c1b-ebba-7f26d7945fb3"
      },
      "outputs": [
        {
          "output_type": "stream",
          "name": "stderr",
          "text": [
            "/usr/local/lib/python3.7/dist-packages/keras/optimizer_v2/adagrad.py:74: UserWarning: The `lr` argument is deprecated, use `learning_rate` instead.\n",
            "  super(Adagrad, self).__init__(name, **kwargs)\n"
          ]
        }
      ],
      "source": [
        "import tensorflow as tf\n",
        "optimizer = tf.keras.optimizers.Adagrad(lr=0.01)\n",
        "loss = tf.keras.losses.SparseCategoricalCrossentropy(from_logits=True, reduction='none')\n",
        "gpt3_model.compile(optimizer=optimizer, loss=loss)"
      ]
    },
    {
      "cell_type": "code",
      "execution_count": 20,
      "metadata": {
        "colab": {
          "base_uri": "https://localhost:8080/"
        },
        "id": "qDdKuh6A2lSn",
        "outputId": "e5508fbf-322d-4925-f567-19df4048b88b"
      },
      "outputs": [
        {
          "output_type": "stream",
          "name": "stdout",
          "text": [
            "Model: \"tfgpt2lm_head_model\"\n",
            "_________________________________________________________________\n",
            " Layer (type)                Output Shape              Param #   \n",
            "=================================================================\n",
            " transformer (TFGPT2MainLaye  multiple                 1162556160\n",
            " r)                                                              \n",
            "                                                                 \n",
            "=================================================================\n",
            "Total params: 1,162,556,160\n",
            "Trainable params: 577,372,800\n",
            "Non-trainable params: 585,183,360\n",
            "_________________________________________________________________\n"
          ]
        }
      ],
      "source": [
        "gpt3_model.summary()"
      ]
    },
    {
      "cell_type": "code",
      "execution_count": 21,
      "metadata": {
        "id": "EcoHvTjxytYj"
      },
      "outputs": [],
      "source": [
        "import torch\n",
        "torch.cuda.empty_cache()"
      ]
    },
    {
      "cell_type": "code",
      "execution_count": 22,
      "metadata": {
        "id": "QHAAQ30oLNL7",
        "colab": {
          "base_uri": "https://localhost:8080/"
        },
        "outputId": "c73ea792-c310-405d-cc8f-4c4e177e3801"
      },
      "outputs": [
        {
          "output_type": "execute_result",
          "data": {
            "text/plain": [
              "64"
            ]
          },
          "metadata": {},
          "execution_count": 22
        }
      ],
      "source": [
        "import gc\n",
        "gc.collect()"
      ]
    },
    {
      "cell_type": "markdown",
      "source": [
        "# callbacks"
      ],
      "metadata": {
        "id": "Apwtcl-XVqNS"
      }
    },
    {
      "cell_type": "code",
      "source": [
        "from tensorflow.keras.callbacks import ReduceLROnPlateau\n",
        "reduce_lr = ReduceLROnPlateau(\n",
        "    monitor='val_loss', # 모니터링 대상\n",
        "    patience=3,        # 대상 기간동안 유지\n",
        "    factor=0.5,         # 줄이는 양  \n",
        "    verbose=1,                            \n",
        "    min_learning_rate=0.00001)     # 최소 학습율\n"
      ],
      "metadata": {
        "id": "2HUO-UCGuVHv"
      },
      "execution_count": 23,
      "outputs": []
    },
    {
      "cell_type": "code",
      "source": [
        "from tensorflow.keras.callbacks import EarlyStopping\n",
        "\n",
        "early_stopping = EarlyStopping(monitor='val_loss', patience=10)"
      ],
      "metadata": {
        "id": "Mtb96oxGVpux"
      },
      "execution_count": 24,
      "outputs": []
    },
    {
      "cell_type": "code",
      "execution_count": 25,
      "metadata": {
        "colab": {
          "base_uri": "https://localhost:8080/"
        },
        "id": "l1e1wDhbvJQe",
        "outputId": "3f9352d9-a017-4a14-fcb2-916916650099"
      },
      "outputs": [
        {
          "output_type": "stream",
          "name": "stdout",
          "text": [
            "Epoch 1/100\n",
            "327/327 [==============================] - 75s 114ms/step - loss: 5.6625 - val_loss: 3.9115 - lr: 0.0100\n",
            "Epoch 2/100\n",
            "327/327 [==============================] - 31s 95ms/step - loss: 4.9849 - val_loss: 3.6901 - lr: 0.0100\n",
            "Epoch 3/100\n",
            "327/327 [==============================] - 31s 95ms/step - loss: 4.8490 - val_loss: 3.5631 - lr: 0.0100\n",
            "Epoch 4/100\n",
            "327/327 [==============================] - 31s 95ms/step - loss: 4.7685 - val_loss: 3.4290 - lr: 0.0100\n",
            "Epoch 5/100\n",
            "327/327 [==============================] - 31s 94ms/step - loss: 4.7119 - val_loss: 3.5820 - lr: 0.0100\n",
            "Epoch 6/100\n",
            "327/327 [==============================] - 31s 95ms/step - loss: 4.6740 - val_loss: 3.4599 - lr: 0.0100\n",
            "Epoch 7/100\n",
            "327/327 [==============================] - ETA: 0s - loss: 4.6356\n",
            "Epoch 7: ReduceLROnPlateau reducing learning rate to 0.004999999888241291.\n",
            "327/327 [==============================] - 31s 95ms/step - loss: 4.6356 - val_loss: 3.6376 - lr: 0.0100\n",
            "Epoch 8/100\n",
            "327/327 [==============================] - 31s 96ms/step - loss: 4.5314 - val_loss: 3.6167 - lr: 0.0050\n",
            "Epoch 9/100\n",
            "327/327 [==============================] - 31s 95ms/step - loss: 4.5175 - val_loss: 3.6663 - lr: 0.0050\n",
            "Epoch 10/100\n",
            "327/327 [==============================] - ETA: 0s - loss: 4.5178\n",
            "Epoch 10: ReduceLROnPlateau reducing learning rate to 0.0024999999441206455.\n",
            "327/327 [==============================] - 31s 95ms/step - loss: 4.5178 - val_loss: 3.5577 - lr: 0.0050\n",
            "Epoch 11/100\n",
            "327/327 [==============================] - 31s 95ms/step - loss: 4.4576 - val_loss: 3.5831 - lr: 0.0025\n",
            "Epoch 12/100\n",
            "327/327 [==============================] - 31s 95ms/step - loss: 4.4493 - val_loss: 3.5941 - lr: 0.0025\n",
            "Epoch 13/100\n",
            "327/327 [==============================] - ETA: 0s - loss: 4.4500\n",
            "Epoch 13: ReduceLROnPlateau reducing learning rate to 0.0012499999720603228.\n",
            "327/327 [==============================] - 31s 95ms/step - loss: 4.4500 - val_loss: 3.5413 - lr: 0.0025\n",
            "Epoch 14/100\n",
            "327/327 [==============================] - 31s 95ms/step - loss: 4.4176 - val_loss: 3.5517 - lr: 0.0012\n",
            "Epoch 1/100\n",
            "327/327 [==============================] - 31s 95ms/step - loss: 4.4130 - val_loss: 3.5615 - lr: 0.0012\n",
            "Epoch 2/100\n",
            "327/327 [==============================] - 31s 95ms/step - loss: 4.4102 - val_loss: 3.6253 - lr: 0.0012\n",
            "Epoch 3/100\n",
            "327/327 [==============================] - 31s 95ms/step - loss: 4.4064 - val_loss: 3.5842 - lr: 0.0012\n",
            "Epoch 4/100\n",
            "327/327 [==============================] - ETA: 0s - loss: 4.4060\n",
            "Epoch 4: ReduceLROnPlateau reducing learning rate to 0.0006249999860301614.\n",
            "327/327 [==============================] - 31s 95ms/step - loss: 4.4060 - val_loss: 3.5805 - lr: 0.0012\n",
            "Epoch 5/100\n",
            "327/327 [==============================] - 31s 95ms/step - loss: 4.3919 - val_loss: 3.5598 - lr: 6.2500e-04\n",
            "Epoch 6/100\n",
            "327/327 [==============================] - 31s 95ms/step - loss: 4.3952 - val_loss: 3.5864 - lr: 6.2500e-04\n",
            "Epoch 7/100\n",
            "327/327 [==============================] - 31s 95ms/step - loss: 4.3878 - val_loss: 3.5876 - lr: 6.2500e-04\n",
            "Epoch 8/100\n",
            "327/327 [==============================] - ETA: 0s - loss: 4.3965\n",
            "Epoch 8: ReduceLROnPlateau reducing learning rate to 0.0003124999930150807.\n",
            "327/327 [==============================] - 31s 95ms/step - loss: 4.3965 - val_loss: 3.6149 - lr: 6.2500e-04\n",
            "Epoch 9/100\n",
            "327/327 [==============================] - 31s 95ms/step - loss: 4.3806 - val_loss: 3.5927 - lr: 3.1250e-04\n",
            "Epoch 10/100\n",
            "327/327 [==============================] - 31s 95ms/step - loss: 4.3777 - val_loss: 3.5803 - lr: 3.1250e-04\n",
            "Epoch 11/100\n",
            "327/327 [==============================] - ETA: 0s - loss: 4.3834\n",
            "Epoch 11: ReduceLROnPlateau reducing learning rate to 0.00015624999650754035.\n",
            "327/327 [==============================] - 31s 95ms/step - loss: 4.3834 - val_loss: 3.6084 - lr: 3.1250e-04\n",
            "Epoch 12/100\n",
            "327/327 [==============================] - 31s 96ms/step - loss: 4.3771 - val_loss: 3.5916 - lr: 1.5625e-04\n",
            "Epoch 13/100\n",
            "327/327 [==============================] - 31s 96ms/step - loss: 4.3721 - val_loss: 3.5941 - lr: 1.5625e-04\n",
            "Epoch 14/100\n",
            "327/327 [==============================] - ETA: 0s - loss: 4.3794\n",
            "Epoch 14: ReduceLROnPlateau reducing learning rate to 7.812499825377017e-05.\n",
            "327/327 [==============================] - 31s 95ms/step - loss: 4.3794 - val_loss: 3.5894 - lr: 1.5625e-04\n",
            "Epoch 15/100\n",
            "327/327 [==============================] - 31s 95ms/step - loss: 4.3791 - val_loss: 3.5887 - lr: 7.8125e-05\n",
            "Epoch 1/100\n",
            "327/327 [==============================] - 31s 95ms/step - loss: 4.3667 - val_loss: 3.5929 - lr: 7.8125e-05\n",
            "Epoch 2/100\n",
            "327/327 [==============================] - 31s 95ms/step - loss: 4.3712 - val_loss: 3.5928 - lr: 7.8125e-05\n",
            "Epoch 3/100\n",
            "327/327 [==============================] - 31s 96ms/step - loss: 4.3793 - val_loss: 3.5946 - lr: 7.8125e-05\n",
            "Epoch 4/100\n",
            "327/327 [==============================] - 31s 95ms/step - loss: 4.3703 - val_loss: 3.5926 - lr: 7.8125e-05\n",
            "Epoch 5/100\n",
            "327/327 [==============================] - 31s 95ms/step - loss: 4.3698 - val_loss: 3.5905 - lr: 7.8125e-05\n",
            "Epoch 6/100\n",
            "327/327 [==============================] - 31s 95ms/step - loss: 4.3762 - val_loss: 3.5912 - lr: 7.8125e-05\n",
            "Epoch 7/100\n",
            "327/327 [==============================] - 31s 95ms/step - loss: 4.3723 - val_loss: 3.5911 - lr: 7.8125e-05\n",
            "Epoch 8/100\n",
            "327/327 [==============================] - ETA: 0s - loss: 4.3667\n",
            "Epoch 8: ReduceLROnPlateau reducing learning rate to 3.9062499126885086e-05.\n",
            "327/327 [==============================] - 31s 96ms/step - loss: 4.3667 - val_loss: 3.5908 - lr: 7.8125e-05\n",
            "Epoch 9/100\n",
            "327/327 [==============================] - 31s 95ms/step - loss: 4.3758 - val_loss: 3.5911 - lr: 3.9062e-05\n",
            "Epoch 10/100\n",
            "327/327 [==============================] - 31s 94ms/step - loss: 4.3745 - val_loss: 3.5907 - lr: 3.9062e-05\n",
            "Epoch 11/100\n",
            "327/327 [==============================] - ETA: 0s - loss: 4.3727\n",
            "Epoch 11: ReduceLROnPlateau reducing learning rate to 1.9531249563442543e-05.\n",
            "327/327 [==============================] - 31s 94ms/step - loss: 4.3727 - val_loss: 3.5910 - lr: 3.9062e-05\n",
            "Epoch 12/100\n",
            "327/327 [==============================] - 31s 94ms/step - loss: 4.3678 - val_loss: 3.5910 - lr: 1.9531e-05\n",
            "Epoch 13/100\n",
            "327/327 [==============================] - 31s 94ms/step - loss: 4.3760 - val_loss: 3.5910 - lr: 1.9531e-05\n",
            "Epoch 14/100\n",
            "327/327 [==============================] - ETA: 0s - loss: 4.3658\n",
            "Epoch 14: ReduceLROnPlateau reducing learning rate to 9.765624781721272e-06.\n",
            "327/327 [==============================] - 31s 94ms/step - loss: 4.3658 - val_loss: 3.5913 - lr: 1.9531e-05\n",
            "Epoch 15/100\n",
            "327/327 [==============================] - 31s 94ms/step - loss: 4.3673 - val_loss: 3.5914 - lr: 9.7656e-06\n",
            "Epoch 1/100\n",
            "327/327 [==============================] - 31s 95ms/step - loss: 4.3761 - val_loss: 3.5908 - lr: 9.7656e-06\n",
            "Epoch 2/100\n",
            "327/327 [==============================] - 31s 94ms/step - loss: 4.3784 - val_loss: 3.5908 - lr: 9.7656e-06\n",
            "Epoch 3/100\n",
            "327/327 [==============================] - 31s 94ms/step - loss: 4.3670 - val_loss: 3.5909 - lr: 9.7656e-06\n",
            "Epoch 4/100\n",
            "327/327 [==============================] - ETA: 0s - loss: 4.3676\n",
            "Epoch 4: ReduceLROnPlateau reducing learning rate to 4.882812390860636e-06.\n",
            "327/327 [==============================] - 31s 94ms/step - loss: 4.3676 - val_loss: 3.5909 - lr: 9.7656e-06\n",
            "Epoch 5/100\n",
            "327/327 [==============================] - 31s 94ms/step - loss: 4.3727 - val_loss: 3.5909 - lr: 4.8828e-06\n",
            "Epoch 6/100\n",
            "327/327 [==============================] - 31s 94ms/step - loss: 4.3681 - val_loss: 3.5909 - lr: 4.8828e-06\n",
            "Epoch 7/100\n",
            "327/327 [==============================] - ETA: 0s - loss: 4.3711\n",
            "Epoch 7: ReduceLROnPlateau reducing learning rate to 2.441406195430318e-06.\n",
            "327/327 [==============================] - 31s 94ms/step - loss: 4.3711 - val_loss: 3.5910 - lr: 4.8828e-06\n",
            "Epoch 8/100\n",
            "327/327 [==============================] - 31s 94ms/step - loss: 4.3732 - val_loss: 3.5910 - lr: 2.4414e-06\n",
            "Epoch 9/100\n",
            "327/327 [==============================] - 31s 95ms/step - loss: 4.3748 - val_loss: 3.5910 - lr: 2.4414e-06\n",
            "Epoch 10/100\n",
            "327/327 [==============================] - ETA: 0s - loss: 4.3721\n",
            "Epoch 10: ReduceLROnPlateau reducing learning rate to 1.220703097715159e-06.\n",
            "327/327 [==============================] - 31s 95ms/step - loss: 4.3721 - val_loss: 3.5910 - lr: 2.4414e-06\n",
            "Epoch 11/100\n",
            "327/327 [==============================] - 31s 95ms/step - loss: 4.3778 - val_loss: 3.5910 - lr: 1.2207e-06\n",
            "Epoch 1/100\n",
            "327/327 [==============================] - 31s 95ms/step - loss: 4.3747 - val_loss: 3.5916 - lr: 1.2207e-06\n",
            "Epoch 2/100\n",
            "327/327 [==============================] - 31s 95ms/step - loss: 4.3730 - val_loss: 3.5916 - lr: 1.2207e-06\n",
            "Epoch 3/100\n",
            "327/327 [==============================] - 31s 94ms/step - loss: 4.3682 - val_loss: 3.5917 - lr: 1.2207e-06\n",
            "Epoch 4/100\n",
            "327/327 [==============================] - ETA: 0s - loss: 4.3717\n",
            "Epoch 4: ReduceLROnPlateau reducing learning rate to 6.103515488575795e-07.\n",
            "327/327 [==============================] - 31s 95ms/step - loss: 4.3717 - val_loss: 3.5917 - lr: 1.2207e-06\n",
            "Epoch 5/100\n",
            "327/327 [==============================] - 31s 95ms/step - loss: 4.3767 - val_loss: 3.5917 - lr: 6.1035e-07\n",
            "Epoch 6/100\n",
            "327/327 [==============================] - 31s 95ms/step - loss: 4.3681 - val_loss: 3.5917 - lr: 6.1035e-07\n",
            "Epoch 7/100\n",
            "327/327 [==============================] - ETA: 0s - loss: 4.3746\n",
            "Epoch 7: ReduceLROnPlateau reducing learning rate to 3.0517577442878974e-07.\n",
            "327/327 [==============================] - 31s 95ms/step - loss: 4.3746 - val_loss: 3.5917 - lr: 6.1035e-07\n",
            "Epoch 8/100\n",
            "327/327 [==============================] - 31s 95ms/step - loss: 4.3693 - val_loss: 3.5917 - lr: 3.0518e-07\n",
            "Epoch 9/100\n",
            "327/327 [==============================] - 31s 95ms/step - loss: 4.3630 - val_loss: 3.5918 - lr: 3.0518e-07\n",
            "Epoch 10/100\n",
            "327/327 [==============================] - ETA: 0s - loss: 4.3694\n",
            "Epoch 10: ReduceLROnPlateau reducing learning rate to 1.5258788721439487e-07.\n",
            "327/327 [==============================] - 31s 95ms/step - loss: 4.3694 - val_loss: 3.5918 - lr: 3.0518e-07\n",
            "Epoch 11/100\n",
            "327/327 [==============================] - 31s 94ms/step - loss: 4.3778 - val_loss: 3.5918 - lr: 1.5259e-07\n"
          ]
        },
        {
          "output_type": "execute_result",
          "data": {
            "text/plain": [
              "<keras.callbacks.History at 0x7f45e6003450>"
            ]
          },
          "metadata": {},
          "execution_count": 25
        }
      ],
      "source": [
        "gpt3_model.fit(train_X_1, train_y, epochs=100, batch_size=4, validation_split=0.1, callbacks=[reduce_lr, early_stopping])\n",
        "gpt3_model.fit(train_X_2, train_y, epochs=100, batch_size=4, validation_split=0.1, callbacks=[reduce_lr, early_stopping])\n",
        "gpt3_model.fit(train_X_3, train_y, epochs=100, batch_size=4, validation_split=0.1, callbacks=[reduce_lr, early_stopping])\n",
        "gpt3_model.fit(train_X_4, train_y, epochs=100, batch_size=4, validation_split=0.1, callbacks=[reduce_lr, early_stopping])\n",
        "gpt3_model.fit(train_X_5, train_y, epochs=100, batch_size=4, validation_split=0.1, callbacks=[reduce_lr, early_stopping])"
      ]
    },
    {
      "cell_type": "code",
      "source": [
        "max_key_len=5"
      ],
      "metadata": {
        "id": "LQVMLcAxpyf8"
      },
      "execution_count": 26,
      "outputs": []
    },
    {
      "cell_type": "code",
      "source": [
        "keyword = \"강물\"\n",
        "\n",
        "bos_token = [tokenizer.bos_token]\n",
        "eos_token = [tokenizer.eos_token]\n",
        "\n",
        "tokens = bos_token + tokenizer.tokenize(keyword) + eos_token\n",
        "input_id = tokenizer.convert_tokens_to_ids(tokens)\n",
        "input_id = pad_sequences([input_id], maxlen=max_key_len, value=tokenizer.pad_token_id, padding='post')[0]\n",
        "\n",
        "input_id = np.array(input_id, dtype=int).reshape((-1,1))\n",
        "\n",
        "input_ids1 = tokenizer(keyword, return_tensors='pt').input_ids\n",
        "#input_ids1.unsqueeze(0)"
      ],
      "metadata": {
        "id": "_fyo2HO0qcad"
      },
      "execution_count": 27,
      "outputs": []
    },
    {
      "cell_type": "code",
      "source": [
        "gen_id = gpt3_model.generate(input_id, do_sample=False, min_length = 15, max_length=50, repetition_penalty=2.0, top_k=50, top_p=0.92,temperature=0.9, no_repeat_ngram_size=3)\n",
        "gen_text = tokenizer.batch_decode(gen_id, skip_special_tokens=True)"
      ],
      "metadata": {
        "id": "NH9JFkjgpvm7"
      },
      "execution_count": 28,
      "outputs": []
    },
    {
      "cell_type": "code",
      "source": [
        "gen_text"
      ],
      "metadata": {
        "colab": {
          "base_uri": "https://localhost:8080/"
        },
        "id": "mCoD_5Ty-KpA",
        "outputId": "0ed307b9-188a-42c5-ee6f-d40fd3a0d58b"
      },
      "execution_count": 29,
      "outputs": [
        {
          "output_type": "execute_result",
          "data": {
            "text/plain": [
              "['\\n \\n이시다.\\n.\\n의가에그로다. 그고 나의은을 이름을도아푸이다.\\n저 되고 않는깔에\\n 바한,\\n나의,\\t들운 불인다면 그의 눈여 나는 눈어월 되어 불러',\n",
              " '강\\n \\n이시다.\\n.\\n의가에그로다. 그고 나의을은 이름을도아푸이다.\\n저 되고 않는깔에\\n 바한,\\n나의,\\t들운다면 불인 그의 눈여 나는  되어 익어눈',\n",
              " '물\\n \\n이시다.\\n.\\n의가에그로다. 그고 나의은을 이름을도아푸이다.\\n저 되고 않는깔에\\n 바한,\\n나의,\\t들운다면 불인 그의 눈여 나는  익어 되어 여',\n",
              " '\\n \\n이시다.\\n.\\n의가에그로다. 그고 나의은을 이름을도아푸이다.\\n저 되고 않는깔에\\n 바한,\\n나의,\\t들운 불인다면 그의 눈여 나는 눈어월 되어 불러',\n",
              " '\\n \\n이시다.\\n.\\n의가에그로다. 그고 나의은을 이름을도아푸이다.\\n저 되고 않는깔에\\n 바한,\\n나의,\\t들운다면 불인 그의 눈여 나는 눈어월 되어 불러']"
            ]
          },
          "metadata": {},
          "execution_count": 29
        }
      ]
    },
    {
      "cell_type": "code",
      "execution_count": null,
      "metadata": {
        "id": "0U_V8OtIvjVI"
      },
      "outputs": [],
      "source": [
        "import os\n",
        "model_name = \"skt-ko-gpt-trinity-1.2B-v0.5-4\"\n",
        "save_path = os.path.join('/gdrive/MyDrive/Colab Notebooks/sw-project/SW-Project/', model_name)\n",
        "os.makedirs(save_path)\n",
        "gpt3_model.save_pretrained(save_path)"
      ]
    }
  ],
  "metadata": {
    "accelerator": "GPU",
    "colab": {
      "collapsed_sections": [],
      "machine_shape": "hm",
      "provenance": [],
      "mount_file_id": "1WrfhcOjDpKiRWNCv0bObT6dVbWI83Gw9",
      "authorship_tag": "ABX9TyO08nB66MxZ39TebidwWAj0",
      "include_colab_link": true
    },
    "gpuClass": "standard",
    "kernelspec": {
      "display_name": "Python 3",
      "name": "python3"
    },
    "language_info": {
      "name": "python"
    },
    "widgets": {
      "application/vnd.jupyter.widget-state+json": {
        "3a9f969ea8ec40a8af33c233025e59d8": {
          "model_module": "@jupyter-widgets/controls",
          "model_name": "HBoxModel",
          "model_module_version": "1.5.0",
          "state": {
            "_dom_classes": [],
            "_model_module": "@jupyter-widgets/controls",
            "_model_module_version": "1.5.0",
            "_model_name": "HBoxModel",
            "_view_count": null,
            "_view_module": "@jupyter-widgets/controls",
            "_view_module_version": "1.5.0",
            "_view_name": "HBoxView",
            "box_style": "",
            "children": [
              "IPY_MODEL_ff6cc0a694de4369a89a8526663268c8",
              "IPY_MODEL_f1e3f6807c1f48c4947b80d8d5ef4522",
              "IPY_MODEL_1cd4a6fdb02c449988fd853c54c8d3ac"
            ],
            "layout": "IPY_MODEL_9c1dacdd5bed40dfabff20d1894d091d"
          }
        },
        "ff6cc0a694de4369a89a8526663268c8": {
          "model_module": "@jupyter-widgets/controls",
          "model_name": "HTMLModel",
          "model_module_version": "1.5.0",
          "state": {
            "_dom_classes": [],
            "_model_module": "@jupyter-widgets/controls",
            "_model_module_version": "1.5.0",
            "_model_name": "HTMLModel",
            "_view_count": null,
            "_view_module": "@jupyter-widgets/controls",
            "_view_module_version": "1.5.0",
            "_view_name": "HTMLView",
            "description": "",
            "description_tooltip": null,
            "layout": "IPY_MODEL_ec92f4c84bcd4c8a9427f0ed4304e2da",
            "placeholder": "​",
            "style": "IPY_MODEL_959e43c2e7f14374bf6891f8ac7f8490",
            "value": "Downloading tokenizer_config.json: 100%"
          }
        },
        "f1e3f6807c1f48c4947b80d8d5ef4522": {
          "model_module": "@jupyter-widgets/controls",
          "model_name": "FloatProgressModel",
          "model_module_version": "1.5.0",
          "state": {
            "_dom_classes": [],
            "_model_module": "@jupyter-widgets/controls",
            "_model_module_version": "1.5.0",
            "_model_name": "FloatProgressModel",
            "_view_count": null,
            "_view_module": "@jupyter-widgets/controls",
            "_view_module_version": "1.5.0",
            "_view_name": "ProgressView",
            "bar_style": "success",
            "description": "",
            "description_tooltip": null,
            "layout": "IPY_MODEL_27fa8a5e01a841eb8680e505ed59dbb2",
            "max": 2,
            "min": 0,
            "orientation": "horizontal",
            "style": "IPY_MODEL_9061b543b1fb4e0e853d6187f52918f3",
            "value": 2
          }
        },
        "1cd4a6fdb02c449988fd853c54c8d3ac": {
          "model_module": "@jupyter-widgets/controls",
          "model_name": "HTMLModel",
          "model_module_version": "1.5.0",
          "state": {
            "_dom_classes": [],
            "_model_module": "@jupyter-widgets/controls",
            "_model_module_version": "1.5.0",
            "_model_name": "HTMLModel",
            "_view_count": null,
            "_view_module": "@jupyter-widgets/controls",
            "_view_module_version": "1.5.0",
            "_view_name": "HTMLView",
            "description": "",
            "description_tooltip": null,
            "layout": "IPY_MODEL_4fca94b10dcb40a78d5ab8269d0ef974",
            "placeholder": "​",
            "style": "IPY_MODEL_e58164a469894c14947a0e5cf9e9d10c",
            "value": " 2.00/2.00 [00:00&lt;00:00, 54.6B/s]"
          }
        },
        "9c1dacdd5bed40dfabff20d1894d091d": {
          "model_module": "@jupyter-widgets/base",
          "model_name": "LayoutModel",
          "model_module_version": "1.2.0",
          "state": {
            "_model_module": "@jupyter-widgets/base",
            "_model_module_version": "1.2.0",
            "_model_name": "LayoutModel",
            "_view_count": null,
            "_view_module": "@jupyter-widgets/base",
            "_view_module_version": "1.2.0",
            "_view_name": "LayoutView",
            "align_content": null,
            "align_items": null,
            "align_self": null,
            "border": null,
            "bottom": null,
            "display": null,
            "flex": null,
            "flex_flow": null,
            "grid_area": null,
            "grid_auto_columns": null,
            "grid_auto_flow": null,
            "grid_auto_rows": null,
            "grid_column": null,
            "grid_gap": null,
            "grid_row": null,
            "grid_template_areas": null,
            "grid_template_columns": null,
            "grid_template_rows": null,
            "height": null,
            "justify_content": null,
            "justify_items": null,
            "left": null,
            "margin": null,
            "max_height": null,
            "max_width": null,
            "min_height": null,
            "min_width": null,
            "object_fit": null,
            "object_position": null,
            "order": null,
            "overflow": null,
            "overflow_x": null,
            "overflow_y": null,
            "padding": null,
            "right": null,
            "top": null,
            "visibility": null,
            "width": null
          }
        },
        "ec92f4c84bcd4c8a9427f0ed4304e2da": {
          "model_module": "@jupyter-widgets/base",
          "model_name": "LayoutModel",
          "model_module_version": "1.2.0",
          "state": {
            "_model_module": "@jupyter-widgets/base",
            "_model_module_version": "1.2.0",
            "_model_name": "LayoutModel",
            "_view_count": null,
            "_view_module": "@jupyter-widgets/base",
            "_view_module_version": "1.2.0",
            "_view_name": "LayoutView",
            "align_content": null,
            "align_items": null,
            "align_self": null,
            "border": null,
            "bottom": null,
            "display": null,
            "flex": null,
            "flex_flow": null,
            "grid_area": null,
            "grid_auto_columns": null,
            "grid_auto_flow": null,
            "grid_auto_rows": null,
            "grid_column": null,
            "grid_gap": null,
            "grid_row": null,
            "grid_template_areas": null,
            "grid_template_columns": null,
            "grid_template_rows": null,
            "height": null,
            "justify_content": null,
            "justify_items": null,
            "left": null,
            "margin": null,
            "max_height": null,
            "max_width": null,
            "min_height": null,
            "min_width": null,
            "object_fit": null,
            "object_position": null,
            "order": null,
            "overflow": null,
            "overflow_x": null,
            "overflow_y": null,
            "padding": null,
            "right": null,
            "top": null,
            "visibility": null,
            "width": null
          }
        },
        "959e43c2e7f14374bf6891f8ac7f8490": {
          "model_module": "@jupyter-widgets/controls",
          "model_name": "DescriptionStyleModel",
          "model_module_version": "1.5.0",
          "state": {
            "_model_module": "@jupyter-widgets/controls",
            "_model_module_version": "1.5.0",
            "_model_name": "DescriptionStyleModel",
            "_view_count": null,
            "_view_module": "@jupyter-widgets/base",
            "_view_module_version": "1.2.0",
            "_view_name": "StyleView",
            "description_width": ""
          }
        },
        "27fa8a5e01a841eb8680e505ed59dbb2": {
          "model_module": "@jupyter-widgets/base",
          "model_name": "LayoutModel",
          "model_module_version": "1.2.0",
          "state": {
            "_model_module": "@jupyter-widgets/base",
            "_model_module_version": "1.2.0",
            "_model_name": "LayoutModel",
            "_view_count": null,
            "_view_module": "@jupyter-widgets/base",
            "_view_module_version": "1.2.0",
            "_view_name": "LayoutView",
            "align_content": null,
            "align_items": null,
            "align_self": null,
            "border": null,
            "bottom": null,
            "display": null,
            "flex": null,
            "flex_flow": null,
            "grid_area": null,
            "grid_auto_columns": null,
            "grid_auto_flow": null,
            "grid_auto_rows": null,
            "grid_column": null,
            "grid_gap": null,
            "grid_row": null,
            "grid_template_areas": null,
            "grid_template_columns": null,
            "grid_template_rows": null,
            "height": null,
            "justify_content": null,
            "justify_items": null,
            "left": null,
            "margin": null,
            "max_height": null,
            "max_width": null,
            "min_height": null,
            "min_width": null,
            "object_fit": null,
            "object_position": null,
            "order": null,
            "overflow": null,
            "overflow_x": null,
            "overflow_y": null,
            "padding": null,
            "right": null,
            "top": null,
            "visibility": null,
            "width": null
          }
        },
        "9061b543b1fb4e0e853d6187f52918f3": {
          "model_module": "@jupyter-widgets/controls",
          "model_name": "ProgressStyleModel",
          "model_module_version": "1.5.0",
          "state": {
            "_model_module": "@jupyter-widgets/controls",
            "_model_module_version": "1.5.0",
            "_model_name": "ProgressStyleModel",
            "_view_count": null,
            "_view_module": "@jupyter-widgets/base",
            "_view_module_version": "1.2.0",
            "_view_name": "StyleView",
            "bar_color": null,
            "description_width": ""
          }
        },
        "4fca94b10dcb40a78d5ab8269d0ef974": {
          "model_module": "@jupyter-widgets/base",
          "model_name": "LayoutModel",
          "model_module_version": "1.2.0",
          "state": {
            "_model_module": "@jupyter-widgets/base",
            "_model_module_version": "1.2.0",
            "_model_name": "LayoutModel",
            "_view_count": null,
            "_view_module": "@jupyter-widgets/base",
            "_view_module_version": "1.2.0",
            "_view_name": "LayoutView",
            "align_content": null,
            "align_items": null,
            "align_self": null,
            "border": null,
            "bottom": null,
            "display": null,
            "flex": null,
            "flex_flow": null,
            "grid_area": null,
            "grid_auto_columns": null,
            "grid_auto_flow": null,
            "grid_auto_rows": null,
            "grid_column": null,
            "grid_gap": null,
            "grid_row": null,
            "grid_template_areas": null,
            "grid_template_columns": null,
            "grid_template_rows": null,
            "height": null,
            "justify_content": null,
            "justify_items": null,
            "left": null,
            "margin": null,
            "max_height": null,
            "max_width": null,
            "min_height": null,
            "min_width": null,
            "object_fit": null,
            "object_position": null,
            "order": null,
            "overflow": null,
            "overflow_x": null,
            "overflow_y": null,
            "padding": null,
            "right": null,
            "top": null,
            "visibility": null,
            "width": null
          }
        },
        "e58164a469894c14947a0e5cf9e9d10c": {
          "model_module": "@jupyter-widgets/controls",
          "model_name": "DescriptionStyleModel",
          "model_module_version": "1.5.0",
          "state": {
            "_model_module": "@jupyter-widgets/controls",
            "_model_module_version": "1.5.0",
            "_model_name": "DescriptionStyleModel",
            "_view_count": null,
            "_view_module": "@jupyter-widgets/base",
            "_view_module_version": "1.2.0",
            "_view_name": "StyleView",
            "description_width": ""
          }
        },
        "95ad2294e5e847ac9f88349964193cb8": {
          "model_module": "@jupyter-widgets/controls",
          "model_name": "HBoxModel",
          "model_module_version": "1.5.0",
          "state": {
            "_dom_classes": [],
            "_model_module": "@jupyter-widgets/controls",
            "_model_module_version": "1.5.0",
            "_model_name": "HBoxModel",
            "_view_count": null,
            "_view_module": "@jupyter-widgets/controls",
            "_view_module_version": "1.5.0",
            "_view_name": "HBoxView",
            "box_style": "",
            "children": [
              "IPY_MODEL_e6c9f0372212470c9d5172eed5bcc2f8",
              "IPY_MODEL_e3cc16914bb84094be640edc04db3a07",
              "IPY_MODEL_e79bec30be7d44f397e4d4b269f824e4"
            ],
            "layout": "IPY_MODEL_e223a46d8c9244fc9b21db6e56275cf8"
          }
        },
        "e6c9f0372212470c9d5172eed5bcc2f8": {
          "model_module": "@jupyter-widgets/controls",
          "model_name": "HTMLModel",
          "model_module_version": "1.5.0",
          "state": {
            "_dom_classes": [],
            "_model_module": "@jupyter-widgets/controls",
            "_model_module_version": "1.5.0",
            "_model_name": "HTMLModel",
            "_view_count": null,
            "_view_module": "@jupyter-widgets/controls",
            "_view_module_version": "1.5.0",
            "_view_name": "HTMLView",
            "description": "",
            "description_tooltip": null,
            "layout": "IPY_MODEL_230b489311434bf090d344f5c514f40a",
            "placeholder": "​",
            "style": "IPY_MODEL_feb0210e751f483a8adf8205f9fecbf9",
            "value": "Downloading config.json: 100%"
          }
        },
        "e3cc16914bb84094be640edc04db3a07": {
          "model_module": "@jupyter-widgets/controls",
          "model_name": "FloatProgressModel",
          "model_module_version": "1.5.0",
          "state": {
            "_dom_classes": [],
            "_model_module": "@jupyter-widgets/controls",
            "_model_module_version": "1.5.0",
            "_model_name": "FloatProgressModel",
            "_view_count": null,
            "_view_module": "@jupyter-widgets/controls",
            "_view_module_version": "1.5.0",
            "_view_name": "ProgressView",
            "bar_style": "success",
            "description": "",
            "description_tooltip": null,
            "layout": "IPY_MODEL_a4c636bb229a4bd890e2e5c63cbfe32a",
            "max": 731,
            "min": 0,
            "orientation": "horizontal",
            "style": "IPY_MODEL_fef8cb9b06e24c1f8b6f97d1001f157f",
            "value": 731
          }
        },
        "e79bec30be7d44f397e4d4b269f824e4": {
          "model_module": "@jupyter-widgets/controls",
          "model_name": "HTMLModel",
          "model_module_version": "1.5.0",
          "state": {
            "_dom_classes": [],
            "_model_module": "@jupyter-widgets/controls",
            "_model_module_version": "1.5.0",
            "_model_name": "HTMLModel",
            "_view_count": null,
            "_view_module": "@jupyter-widgets/controls",
            "_view_module_version": "1.5.0",
            "_view_name": "HTMLView",
            "description": "",
            "description_tooltip": null,
            "layout": "IPY_MODEL_765c9a9fe0504a8dabb83cf3366f5a49",
            "placeholder": "​",
            "style": "IPY_MODEL_536537be7b79496ea1d5dcd7a7c42b75",
            "value": " 731/731 [00:00&lt;00:00, 23.6kB/s]"
          }
        },
        "e223a46d8c9244fc9b21db6e56275cf8": {
          "model_module": "@jupyter-widgets/base",
          "model_name": "LayoutModel",
          "model_module_version": "1.2.0",
          "state": {
            "_model_module": "@jupyter-widgets/base",
            "_model_module_version": "1.2.0",
            "_model_name": "LayoutModel",
            "_view_count": null,
            "_view_module": "@jupyter-widgets/base",
            "_view_module_version": "1.2.0",
            "_view_name": "LayoutView",
            "align_content": null,
            "align_items": null,
            "align_self": null,
            "border": null,
            "bottom": null,
            "display": null,
            "flex": null,
            "flex_flow": null,
            "grid_area": null,
            "grid_auto_columns": null,
            "grid_auto_flow": null,
            "grid_auto_rows": null,
            "grid_column": null,
            "grid_gap": null,
            "grid_row": null,
            "grid_template_areas": null,
            "grid_template_columns": null,
            "grid_template_rows": null,
            "height": null,
            "justify_content": null,
            "justify_items": null,
            "left": null,
            "margin": null,
            "max_height": null,
            "max_width": null,
            "min_height": null,
            "min_width": null,
            "object_fit": null,
            "object_position": null,
            "order": null,
            "overflow": null,
            "overflow_x": null,
            "overflow_y": null,
            "padding": null,
            "right": null,
            "top": null,
            "visibility": null,
            "width": null
          }
        },
        "230b489311434bf090d344f5c514f40a": {
          "model_module": "@jupyter-widgets/base",
          "model_name": "LayoutModel",
          "model_module_version": "1.2.0",
          "state": {
            "_model_module": "@jupyter-widgets/base",
            "_model_module_version": "1.2.0",
            "_model_name": "LayoutModel",
            "_view_count": null,
            "_view_module": "@jupyter-widgets/base",
            "_view_module_version": "1.2.0",
            "_view_name": "LayoutView",
            "align_content": null,
            "align_items": null,
            "align_self": null,
            "border": null,
            "bottom": null,
            "display": null,
            "flex": null,
            "flex_flow": null,
            "grid_area": null,
            "grid_auto_columns": null,
            "grid_auto_flow": null,
            "grid_auto_rows": null,
            "grid_column": null,
            "grid_gap": null,
            "grid_row": null,
            "grid_template_areas": null,
            "grid_template_columns": null,
            "grid_template_rows": null,
            "height": null,
            "justify_content": null,
            "justify_items": null,
            "left": null,
            "margin": null,
            "max_height": null,
            "max_width": null,
            "min_height": null,
            "min_width": null,
            "object_fit": null,
            "object_position": null,
            "order": null,
            "overflow": null,
            "overflow_x": null,
            "overflow_y": null,
            "padding": null,
            "right": null,
            "top": null,
            "visibility": null,
            "width": null
          }
        },
        "feb0210e751f483a8adf8205f9fecbf9": {
          "model_module": "@jupyter-widgets/controls",
          "model_name": "DescriptionStyleModel",
          "model_module_version": "1.5.0",
          "state": {
            "_model_module": "@jupyter-widgets/controls",
            "_model_module_version": "1.5.0",
            "_model_name": "DescriptionStyleModel",
            "_view_count": null,
            "_view_module": "@jupyter-widgets/base",
            "_view_module_version": "1.2.0",
            "_view_name": "StyleView",
            "description_width": ""
          }
        },
        "a4c636bb229a4bd890e2e5c63cbfe32a": {
          "model_module": "@jupyter-widgets/base",
          "model_name": "LayoutModel",
          "model_module_version": "1.2.0",
          "state": {
            "_model_module": "@jupyter-widgets/base",
            "_model_module_version": "1.2.0",
            "_model_name": "LayoutModel",
            "_view_count": null,
            "_view_module": "@jupyter-widgets/base",
            "_view_module_version": "1.2.0",
            "_view_name": "LayoutView",
            "align_content": null,
            "align_items": null,
            "align_self": null,
            "border": null,
            "bottom": null,
            "display": null,
            "flex": null,
            "flex_flow": null,
            "grid_area": null,
            "grid_auto_columns": null,
            "grid_auto_flow": null,
            "grid_auto_rows": null,
            "grid_column": null,
            "grid_gap": null,
            "grid_row": null,
            "grid_template_areas": null,
            "grid_template_columns": null,
            "grid_template_rows": null,
            "height": null,
            "justify_content": null,
            "justify_items": null,
            "left": null,
            "margin": null,
            "max_height": null,
            "max_width": null,
            "min_height": null,
            "min_width": null,
            "object_fit": null,
            "object_position": null,
            "order": null,
            "overflow": null,
            "overflow_x": null,
            "overflow_y": null,
            "padding": null,
            "right": null,
            "top": null,
            "visibility": null,
            "width": null
          }
        },
        "fef8cb9b06e24c1f8b6f97d1001f157f": {
          "model_module": "@jupyter-widgets/controls",
          "model_name": "ProgressStyleModel",
          "model_module_version": "1.5.0",
          "state": {
            "_model_module": "@jupyter-widgets/controls",
            "_model_module_version": "1.5.0",
            "_model_name": "ProgressStyleModel",
            "_view_count": null,
            "_view_module": "@jupyter-widgets/base",
            "_view_module_version": "1.2.0",
            "_view_name": "StyleView",
            "bar_color": null,
            "description_width": ""
          }
        },
        "765c9a9fe0504a8dabb83cf3366f5a49": {
          "model_module": "@jupyter-widgets/base",
          "model_name": "LayoutModel",
          "model_module_version": "1.2.0",
          "state": {
            "_model_module": "@jupyter-widgets/base",
            "_model_module_version": "1.2.0",
            "_model_name": "LayoutModel",
            "_view_count": null,
            "_view_module": "@jupyter-widgets/base",
            "_view_module_version": "1.2.0",
            "_view_name": "LayoutView",
            "align_content": null,
            "align_items": null,
            "align_self": null,
            "border": null,
            "bottom": null,
            "display": null,
            "flex": null,
            "flex_flow": null,
            "grid_area": null,
            "grid_auto_columns": null,
            "grid_auto_flow": null,
            "grid_auto_rows": null,
            "grid_column": null,
            "grid_gap": null,
            "grid_row": null,
            "grid_template_areas": null,
            "grid_template_columns": null,
            "grid_template_rows": null,
            "height": null,
            "justify_content": null,
            "justify_items": null,
            "left": null,
            "margin": null,
            "max_height": null,
            "max_width": null,
            "min_height": null,
            "min_width": null,
            "object_fit": null,
            "object_position": null,
            "order": null,
            "overflow": null,
            "overflow_x": null,
            "overflow_y": null,
            "padding": null,
            "right": null,
            "top": null,
            "visibility": null,
            "width": null
          }
        },
        "536537be7b79496ea1d5dcd7a7c42b75": {
          "model_module": "@jupyter-widgets/controls",
          "model_name": "DescriptionStyleModel",
          "model_module_version": "1.5.0",
          "state": {
            "_model_module": "@jupyter-widgets/controls",
            "_model_module_version": "1.5.0",
            "_model_name": "DescriptionStyleModel",
            "_view_count": null,
            "_view_module": "@jupyter-widgets/base",
            "_view_module_version": "1.2.0",
            "_view_name": "StyleView",
            "description_width": ""
          }
        },
        "536c9aa8b7e749a786b1905e6ca73d5e": {
          "model_module": "@jupyter-widgets/controls",
          "model_name": "HBoxModel",
          "model_module_version": "1.5.0",
          "state": {
            "_dom_classes": [],
            "_model_module": "@jupyter-widgets/controls",
            "_model_module_version": "1.5.0",
            "_model_name": "HBoxModel",
            "_view_count": null,
            "_view_module": "@jupyter-widgets/controls",
            "_view_module_version": "1.5.0",
            "_view_name": "HBoxView",
            "box_style": "",
            "children": [
              "IPY_MODEL_c5f51325ed9b4316ba3c875e9a2af64d",
              "IPY_MODEL_8059745071ae4dfe945cdd75115286be",
              "IPY_MODEL_8be74085e1d44ec69c3c1e187810c7b0"
            ],
            "layout": "IPY_MODEL_0c90212517064fc996cba082208bb24a"
          }
        },
        "c5f51325ed9b4316ba3c875e9a2af64d": {
          "model_module": "@jupyter-widgets/controls",
          "model_name": "HTMLModel",
          "model_module_version": "1.5.0",
          "state": {
            "_dom_classes": [],
            "_model_module": "@jupyter-widgets/controls",
            "_model_module_version": "1.5.0",
            "_model_name": "HTMLModel",
            "_view_count": null,
            "_view_module": "@jupyter-widgets/controls",
            "_view_module_version": "1.5.0",
            "_view_name": "HTMLView",
            "description": "",
            "description_tooltip": null,
            "layout": "IPY_MODEL_78373100ac5548f29b28ac6fac7bebc5",
            "placeholder": "​",
            "style": "IPY_MODEL_e94b0a8853414060a67d43ab10456849",
            "value": "Downloading tokenizer.json: 100%"
          }
        },
        "8059745071ae4dfe945cdd75115286be": {
          "model_module": "@jupyter-widgets/controls",
          "model_name": "FloatProgressModel",
          "model_module_version": "1.5.0",
          "state": {
            "_dom_classes": [],
            "_model_module": "@jupyter-widgets/controls",
            "_model_module_version": "1.5.0",
            "_model_name": "FloatProgressModel",
            "_view_count": null,
            "_view_module": "@jupyter-widgets/controls",
            "_view_module_version": "1.5.0",
            "_view_name": "ProgressView",
            "bar_style": "success",
            "description": "",
            "description_tooltip": null,
            "layout": "IPY_MODEL_9cd277ef9db14b739a126f54a0552702",
            "max": 1051976,
            "min": 0,
            "orientation": "horizontal",
            "style": "IPY_MODEL_67feb246ec38415abb5a409e1f830d67",
            "value": 1051976
          }
        },
        "8be74085e1d44ec69c3c1e187810c7b0": {
          "model_module": "@jupyter-widgets/controls",
          "model_name": "HTMLModel",
          "model_module_version": "1.5.0",
          "state": {
            "_dom_classes": [],
            "_model_module": "@jupyter-widgets/controls",
            "_model_module_version": "1.5.0",
            "_model_name": "HTMLModel",
            "_view_count": null,
            "_view_module": "@jupyter-widgets/controls",
            "_view_module_version": "1.5.0",
            "_view_name": "HTMLView",
            "description": "",
            "description_tooltip": null,
            "layout": "IPY_MODEL_5918669799ad409395f9c187308b3ae8",
            "placeholder": "​",
            "style": "IPY_MODEL_2c83d6161a39448ab4aad322e3e9e8ad",
            "value": " 1.00M/1.00M [00:00&lt;00:00, 2.79MB/s]"
          }
        },
        "0c90212517064fc996cba082208bb24a": {
          "model_module": "@jupyter-widgets/base",
          "model_name": "LayoutModel",
          "model_module_version": "1.2.0",
          "state": {
            "_model_module": "@jupyter-widgets/base",
            "_model_module_version": "1.2.0",
            "_model_name": "LayoutModel",
            "_view_count": null,
            "_view_module": "@jupyter-widgets/base",
            "_view_module_version": "1.2.0",
            "_view_name": "LayoutView",
            "align_content": null,
            "align_items": null,
            "align_self": null,
            "border": null,
            "bottom": null,
            "display": null,
            "flex": null,
            "flex_flow": null,
            "grid_area": null,
            "grid_auto_columns": null,
            "grid_auto_flow": null,
            "grid_auto_rows": null,
            "grid_column": null,
            "grid_gap": null,
            "grid_row": null,
            "grid_template_areas": null,
            "grid_template_columns": null,
            "grid_template_rows": null,
            "height": null,
            "justify_content": null,
            "justify_items": null,
            "left": null,
            "margin": null,
            "max_height": null,
            "max_width": null,
            "min_height": null,
            "min_width": null,
            "object_fit": null,
            "object_position": null,
            "order": null,
            "overflow": null,
            "overflow_x": null,
            "overflow_y": null,
            "padding": null,
            "right": null,
            "top": null,
            "visibility": null,
            "width": null
          }
        },
        "78373100ac5548f29b28ac6fac7bebc5": {
          "model_module": "@jupyter-widgets/base",
          "model_name": "LayoutModel",
          "model_module_version": "1.2.0",
          "state": {
            "_model_module": "@jupyter-widgets/base",
            "_model_module_version": "1.2.0",
            "_model_name": "LayoutModel",
            "_view_count": null,
            "_view_module": "@jupyter-widgets/base",
            "_view_module_version": "1.2.0",
            "_view_name": "LayoutView",
            "align_content": null,
            "align_items": null,
            "align_self": null,
            "border": null,
            "bottom": null,
            "display": null,
            "flex": null,
            "flex_flow": null,
            "grid_area": null,
            "grid_auto_columns": null,
            "grid_auto_flow": null,
            "grid_auto_rows": null,
            "grid_column": null,
            "grid_gap": null,
            "grid_row": null,
            "grid_template_areas": null,
            "grid_template_columns": null,
            "grid_template_rows": null,
            "height": null,
            "justify_content": null,
            "justify_items": null,
            "left": null,
            "margin": null,
            "max_height": null,
            "max_width": null,
            "min_height": null,
            "min_width": null,
            "object_fit": null,
            "object_position": null,
            "order": null,
            "overflow": null,
            "overflow_x": null,
            "overflow_y": null,
            "padding": null,
            "right": null,
            "top": null,
            "visibility": null,
            "width": null
          }
        },
        "e94b0a8853414060a67d43ab10456849": {
          "model_module": "@jupyter-widgets/controls",
          "model_name": "DescriptionStyleModel",
          "model_module_version": "1.5.0",
          "state": {
            "_model_module": "@jupyter-widgets/controls",
            "_model_module_version": "1.5.0",
            "_model_name": "DescriptionStyleModel",
            "_view_count": null,
            "_view_module": "@jupyter-widgets/base",
            "_view_module_version": "1.2.0",
            "_view_name": "StyleView",
            "description_width": ""
          }
        },
        "9cd277ef9db14b739a126f54a0552702": {
          "model_module": "@jupyter-widgets/base",
          "model_name": "LayoutModel",
          "model_module_version": "1.2.0",
          "state": {
            "_model_module": "@jupyter-widgets/base",
            "_model_module_version": "1.2.0",
            "_model_name": "LayoutModel",
            "_view_count": null,
            "_view_module": "@jupyter-widgets/base",
            "_view_module_version": "1.2.0",
            "_view_name": "LayoutView",
            "align_content": null,
            "align_items": null,
            "align_self": null,
            "border": null,
            "bottom": null,
            "display": null,
            "flex": null,
            "flex_flow": null,
            "grid_area": null,
            "grid_auto_columns": null,
            "grid_auto_flow": null,
            "grid_auto_rows": null,
            "grid_column": null,
            "grid_gap": null,
            "grid_row": null,
            "grid_template_areas": null,
            "grid_template_columns": null,
            "grid_template_rows": null,
            "height": null,
            "justify_content": null,
            "justify_items": null,
            "left": null,
            "margin": null,
            "max_height": null,
            "max_width": null,
            "min_height": null,
            "min_width": null,
            "object_fit": null,
            "object_position": null,
            "order": null,
            "overflow": null,
            "overflow_x": null,
            "overflow_y": null,
            "padding": null,
            "right": null,
            "top": null,
            "visibility": null,
            "width": null
          }
        },
        "67feb246ec38415abb5a409e1f830d67": {
          "model_module": "@jupyter-widgets/controls",
          "model_name": "ProgressStyleModel",
          "model_module_version": "1.5.0",
          "state": {
            "_model_module": "@jupyter-widgets/controls",
            "_model_module_version": "1.5.0",
            "_model_name": "ProgressStyleModel",
            "_view_count": null,
            "_view_module": "@jupyter-widgets/base",
            "_view_module_version": "1.2.0",
            "_view_name": "StyleView",
            "bar_color": null,
            "description_width": ""
          }
        },
        "5918669799ad409395f9c187308b3ae8": {
          "model_module": "@jupyter-widgets/base",
          "model_name": "LayoutModel",
          "model_module_version": "1.2.0",
          "state": {
            "_model_module": "@jupyter-widgets/base",
            "_model_module_version": "1.2.0",
            "_model_name": "LayoutModel",
            "_view_count": null,
            "_view_module": "@jupyter-widgets/base",
            "_view_module_version": "1.2.0",
            "_view_name": "LayoutView",
            "align_content": null,
            "align_items": null,
            "align_self": null,
            "border": null,
            "bottom": null,
            "display": null,
            "flex": null,
            "flex_flow": null,
            "grid_area": null,
            "grid_auto_columns": null,
            "grid_auto_flow": null,
            "grid_auto_rows": null,
            "grid_column": null,
            "grid_gap": null,
            "grid_row": null,
            "grid_template_areas": null,
            "grid_template_columns": null,
            "grid_template_rows": null,
            "height": null,
            "justify_content": null,
            "justify_items": null,
            "left": null,
            "margin": null,
            "max_height": null,
            "max_width": null,
            "min_height": null,
            "min_width": null,
            "object_fit": null,
            "object_position": null,
            "order": null,
            "overflow": null,
            "overflow_x": null,
            "overflow_y": null,
            "padding": null,
            "right": null,
            "top": null,
            "visibility": null,
            "width": null
          }
        },
        "2c83d6161a39448ab4aad322e3e9e8ad": {
          "model_module": "@jupyter-widgets/controls",
          "model_name": "DescriptionStyleModel",
          "model_module_version": "1.5.0",
          "state": {
            "_model_module": "@jupyter-widgets/controls",
            "_model_module_version": "1.5.0",
            "_model_name": "DescriptionStyleModel",
            "_view_count": null,
            "_view_module": "@jupyter-widgets/base",
            "_view_module_version": "1.2.0",
            "_view_name": "StyleView",
            "description_width": ""
          }
        },
        "683d7f475ade490293359a55ea20ab20": {
          "model_module": "@jupyter-widgets/controls",
          "model_name": "HBoxModel",
          "model_module_version": "1.5.0",
          "state": {
            "_dom_classes": [],
            "_model_module": "@jupyter-widgets/controls",
            "_model_module_version": "1.5.0",
            "_model_name": "HBoxModel",
            "_view_count": null,
            "_view_module": "@jupyter-widgets/controls",
            "_view_module_version": "1.5.0",
            "_view_name": "HBoxView",
            "box_style": "",
            "children": [
              "IPY_MODEL_e5517703052d4c94970e296b64c114e4",
              "IPY_MODEL_bcb058b8fe8946feab1a0973a3501357",
              "IPY_MODEL_e5fb4e1d7e4e4750bd92dc328df5c9db"
            ],
            "layout": "IPY_MODEL_f9f88536b3e7403fa07349e9168dcbc9"
          }
        },
        "e5517703052d4c94970e296b64c114e4": {
          "model_module": "@jupyter-widgets/controls",
          "model_name": "HTMLModel",
          "model_module_version": "1.5.0",
          "state": {
            "_dom_classes": [],
            "_model_module": "@jupyter-widgets/controls",
            "_model_module_version": "1.5.0",
            "_model_name": "HTMLModel",
            "_view_count": null,
            "_view_module": "@jupyter-widgets/controls",
            "_view_module_version": "1.5.0",
            "_view_name": "HTMLView",
            "description": "",
            "description_tooltip": null,
            "layout": "IPY_MODEL_1b660f272ca74a9fbe99298f5dbc6edd",
            "placeholder": "​",
            "style": "IPY_MODEL_9c12061c5d924ed3ba1d1cd83f15bfeb",
            "value": "Downloading special_tokens_map.json: 100%"
          }
        },
        "bcb058b8fe8946feab1a0973a3501357": {
          "model_module": "@jupyter-widgets/controls",
          "model_name": "FloatProgressModel",
          "model_module_version": "1.5.0",
          "state": {
            "_dom_classes": [],
            "_model_module": "@jupyter-widgets/controls",
            "_model_module_version": "1.5.0",
            "_model_name": "FloatProgressModel",
            "_view_count": null,
            "_view_module": "@jupyter-widgets/controls",
            "_view_module_version": "1.5.0",
            "_view_name": "ProgressView",
            "bar_style": "success",
            "description": "",
            "description_tooltip": null,
            "layout": "IPY_MODEL_da399e33a1134c588b524cf3ba776bbb",
            "max": 109,
            "min": 0,
            "orientation": "horizontal",
            "style": "IPY_MODEL_da8a1fbba29944a98994b82193e35422",
            "value": 109
          }
        },
        "e5fb4e1d7e4e4750bd92dc328df5c9db": {
          "model_module": "@jupyter-widgets/controls",
          "model_name": "HTMLModel",
          "model_module_version": "1.5.0",
          "state": {
            "_dom_classes": [],
            "_model_module": "@jupyter-widgets/controls",
            "_model_module_version": "1.5.0",
            "_model_name": "HTMLModel",
            "_view_count": null,
            "_view_module": "@jupyter-widgets/controls",
            "_view_module_version": "1.5.0",
            "_view_name": "HTMLView",
            "description": "",
            "description_tooltip": null,
            "layout": "IPY_MODEL_7eddb8aadc35437fac33a7880395900d",
            "placeholder": "​",
            "style": "IPY_MODEL_ecc5cbffbc8b43a99481c5d21b569c3f",
            "value": " 109/109 [00:00&lt;00:00, 3.72kB/s]"
          }
        },
        "f9f88536b3e7403fa07349e9168dcbc9": {
          "model_module": "@jupyter-widgets/base",
          "model_name": "LayoutModel",
          "model_module_version": "1.2.0",
          "state": {
            "_model_module": "@jupyter-widgets/base",
            "_model_module_version": "1.2.0",
            "_model_name": "LayoutModel",
            "_view_count": null,
            "_view_module": "@jupyter-widgets/base",
            "_view_module_version": "1.2.0",
            "_view_name": "LayoutView",
            "align_content": null,
            "align_items": null,
            "align_self": null,
            "border": null,
            "bottom": null,
            "display": null,
            "flex": null,
            "flex_flow": null,
            "grid_area": null,
            "grid_auto_columns": null,
            "grid_auto_flow": null,
            "grid_auto_rows": null,
            "grid_column": null,
            "grid_gap": null,
            "grid_row": null,
            "grid_template_areas": null,
            "grid_template_columns": null,
            "grid_template_rows": null,
            "height": null,
            "justify_content": null,
            "justify_items": null,
            "left": null,
            "margin": null,
            "max_height": null,
            "max_width": null,
            "min_height": null,
            "min_width": null,
            "object_fit": null,
            "object_position": null,
            "order": null,
            "overflow": null,
            "overflow_x": null,
            "overflow_y": null,
            "padding": null,
            "right": null,
            "top": null,
            "visibility": null,
            "width": null
          }
        },
        "1b660f272ca74a9fbe99298f5dbc6edd": {
          "model_module": "@jupyter-widgets/base",
          "model_name": "LayoutModel",
          "model_module_version": "1.2.0",
          "state": {
            "_model_module": "@jupyter-widgets/base",
            "_model_module_version": "1.2.0",
            "_model_name": "LayoutModel",
            "_view_count": null,
            "_view_module": "@jupyter-widgets/base",
            "_view_module_version": "1.2.0",
            "_view_name": "LayoutView",
            "align_content": null,
            "align_items": null,
            "align_self": null,
            "border": null,
            "bottom": null,
            "display": null,
            "flex": null,
            "flex_flow": null,
            "grid_area": null,
            "grid_auto_columns": null,
            "grid_auto_flow": null,
            "grid_auto_rows": null,
            "grid_column": null,
            "grid_gap": null,
            "grid_row": null,
            "grid_template_areas": null,
            "grid_template_columns": null,
            "grid_template_rows": null,
            "height": null,
            "justify_content": null,
            "justify_items": null,
            "left": null,
            "margin": null,
            "max_height": null,
            "max_width": null,
            "min_height": null,
            "min_width": null,
            "object_fit": null,
            "object_position": null,
            "order": null,
            "overflow": null,
            "overflow_x": null,
            "overflow_y": null,
            "padding": null,
            "right": null,
            "top": null,
            "visibility": null,
            "width": null
          }
        },
        "9c12061c5d924ed3ba1d1cd83f15bfeb": {
          "model_module": "@jupyter-widgets/controls",
          "model_name": "DescriptionStyleModel",
          "model_module_version": "1.5.0",
          "state": {
            "_model_module": "@jupyter-widgets/controls",
            "_model_module_version": "1.5.0",
            "_model_name": "DescriptionStyleModel",
            "_view_count": null,
            "_view_module": "@jupyter-widgets/base",
            "_view_module_version": "1.2.0",
            "_view_name": "StyleView",
            "description_width": ""
          }
        },
        "da399e33a1134c588b524cf3ba776bbb": {
          "model_module": "@jupyter-widgets/base",
          "model_name": "LayoutModel",
          "model_module_version": "1.2.0",
          "state": {
            "_model_module": "@jupyter-widgets/base",
            "_model_module_version": "1.2.0",
            "_model_name": "LayoutModel",
            "_view_count": null,
            "_view_module": "@jupyter-widgets/base",
            "_view_module_version": "1.2.0",
            "_view_name": "LayoutView",
            "align_content": null,
            "align_items": null,
            "align_self": null,
            "border": null,
            "bottom": null,
            "display": null,
            "flex": null,
            "flex_flow": null,
            "grid_area": null,
            "grid_auto_columns": null,
            "grid_auto_flow": null,
            "grid_auto_rows": null,
            "grid_column": null,
            "grid_gap": null,
            "grid_row": null,
            "grid_template_areas": null,
            "grid_template_columns": null,
            "grid_template_rows": null,
            "height": null,
            "justify_content": null,
            "justify_items": null,
            "left": null,
            "margin": null,
            "max_height": null,
            "max_width": null,
            "min_height": null,
            "min_width": null,
            "object_fit": null,
            "object_position": null,
            "order": null,
            "overflow": null,
            "overflow_x": null,
            "overflow_y": null,
            "padding": null,
            "right": null,
            "top": null,
            "visibility": null,
            "width": null
          }
        },
        "da8a1fbba29944a98994b82193e35422": {
          "model_module": "@jupyter-widgets/controls",
          "model_name": "ProgressStyleModel",
          "model_module_version": "1.5.0",
          "state": {
            "_model_module": "@jupyter-widgets/controls",
            "_model_module_version": "1.5.0",
            "_model_name": "ProgressStyleModel",
            "_view_count": null,
            "_view_module": "@jupyter-widgets/base",
            "_view_module_version": "1.2.0",
            "_view_name": "StyleView",
            "bar_color": null,
            "description_width": ""
          }
        },
        "7eddb8aadc35437fac33a7880395900d": {
          "model_module": "@jupyter-widgets/base",
          "model_name": "LayoutModel",
          "model_module_version": "1.2.0",
          "state": {
            "_model_module": "@jupyter-widgets/base",
            "_model_module_version": "1.2.0",
            "_model_name": "LayoutModel",
            "_view_count": null,
            "_view_module": "@jupyter-widgets/base",
            "_view_module_version": "1.2.0",
            "_view_name": "LayoutView",
            "align_content": null,
            "align_items": null,
            "align_self": null,
            "border": null,
            "bottom": null,
            "display": null,
            "flex": null,
            "flex_flow": null,
            "grid_area": null,
            "grid_auto_columns": null,
            "grid_auto_flow": null,
            "grid_auto_rows": null,
            "grid_column": null,
            "grid_gap": null,
            "grid_row": null,
            "grid_template_areas": null,
            "grid_template_columns": null,
            "grid_template_rows": null,
            "height": null,
            "justify_content": null,
            "justify_items": null,
            "left": null,
            "margin": null,
            "max_height": null,
            "max_width": null,
            "min_height": null,
            "min_width": null,
            "object_fit": null,
            "object_position": null,
            "order": null,
            "overflow": null,
            "overflow_x": null,
            "overflow_y": null,
            "padding": null,
            "right": null,
            "top": null,
            "visibility": null,
            "width": null
          }
        },
        "ecc5cbffbc8b43a99481c5d21b569c3f": {
          "model_module": "@jupyter-widgets/controls",
          "model_name": "DescriptionStyleModel",
          "model_module_version": "1.5.0",
          "state": {
            "_model_module": "@jupyter-widgets/controls",
            "_model_module_version": "1.5.0",
            "_model_name": "DescriptionStyleModel",
            "_view_count": null,
            "_view_module": "@jupyter-widgets/base",
            "_view_module_version": "1.2.0",
            "_view_name": "StyleView",
            "description_width": ""
          }
        },
        "98e330ffd19b43198505304e37d4e410": {
          "model_module": "@jupyter-widgets/controls",
          "model_name": "HBoxModel",
          "model_module_version": "1.5.0",
          "state": {
            "_dom_classes": [],
            "_model_module": "@jupyter-widgets/controls",
            "_model_module_version": "1.5.0",
            "_model_name": "HBoxModel",
            "_view_count": null,
            "_view_module": "@jupyter-widgets/controls",
            "_view_module_version": "1.5.0",
            "_view_name": "HBoxView",
            "box_style": "",
            "children": [
              "IPY_MODEL_ff78eba58e3f4298873526f2026e0a1d",
              "IPY_MODEL_d35db5ad85844707aba06c53cad74f58",
              "IPY_MODEL_4502d78c12874751b4a8b95bab8ecaae"
            ],
            "layout": "IPY_MODEL_a7caa17d062f4e81b3e54bf747ccdb1c"
          }
        },
        "ff78eba58e3f4298873526f2026e0a1d": {
          "model_module": "@jupyter-widgets/controls",
          "model_name": "HTMLModel",
          "model_module_version": "1.5.0",
          "state": {
            "_dom_classes": [],
            "_model_module": "@jupyter-widgets/controls",
            "_model_module_version": "1.5.0",
            "_model_name": "HTMLModel",
            "_view_count": null,
            "_view_module": "@jupyter-widgets/controls",
            "_view_module_version": "1.5.0",
            "_view_name": "HTMLView",
            "description": "",
            "description_tooltip": null,
            "layout": "IPY_MODEL_45d4a326a71d431db4d91878f37707c6",
            "placeholder": "​",
            "style": "IPY_MODEL_31e06fd2e10b4c4d9338ca1fe56ce160",
            "value": "Downloading pytorch_model.bin: 100%"
          }
        },
        "d35db5ad85844707aba06c53cad74f58": {
          "model_module": "@jupyter-widgets/controls",
          "model_name": "FloatProgressModel",
          "model_module_version": "1.5.0",
          "state": {
            "_dom_classes": [],
            "_model_module": "@jupyter-widgets/controls",
            "_model_module_version": "1.5.0",
            "_model_name": "FloatProgressModel",
            "_view_count": null,
            "_view_module": "@jupyter-widgets/controls",
            "_view_module_version": "1.5.0",
            "_view_name": "ProgressView",
            "bar_style": "success",
            "description": "",
            "description_tooltip": null,
            "layout": "IPY_MODEL_b1e8d9bf53054eacb37fee74bc36c9b9",
            "max": 4675508961,
            "min": 0,
            "orientation": "horizontal",
            "style": "IPY_MODEL_534595c4f54b4469abfad9d934387b85",
            "value": 4675508961
          }
        },
        "4502d78c12874751b4a8b95bab8ecaae": {
          "model_module": "@jupyter-widgets/controls",
          "model_name": "HTMLModel",
          "model_module_version": "1.5.0",
          "state": {
            "_dom_classes": [],
            "_model_module": "@jupyter-widgets/controls",
            "_model_module_version": "1.5.0",
            "_model_name": "HTMLModel",
            "_view_count": null,
            "_view_module": "@jupyter-widgets/controls",
            "_view_module_version": "1.5.0",
            "_view_name": "HTMLView",
            "description": "",
            "description_tooltip": null,
            "layout": "IPY_MODEL_f87829fdb7c3495584185239c00f614a",
            "placeholder": "​",
            "style": "IPY_MODEL_d8438a5ac0bd465c9d6642fe45b1c114",
            "value": " 4.35G/4.35G [01:49&lt;00:00, 44.5MB/s]"
          }
        },
        "a7caa17d062f4e81b3e54bf747ccdb1c": {
          "model_module": "@jupyter-widgets/base",
          "model_name": "LayoutModel",
          "model_module_version": "1.2.0",
          "state": {
            "_model_module": "@jupyter-widgets/base",
            "_model_module_version": "1.2.0",
            "_model_name": "LayoutModel",
            "_view_count": null,
            "_view_module": "@jupyter-widgets/base",
            "_view_module_version": "1.2.0",
            "_view_name": "LayoutView",
            "align_content": null,
            "align_items": null,
            "align_self": null,
            "border": null,
            "bottom": null,
            "display": null,
            "flex": null,
            "flex_flow": null,
            "grid_area": null,
            "grid_auto_columns": null,
            "grid_auto_flow": null,
            "grid_auto_rows": null,
            "grid_column": null,
            "grid_gap": null,
            "grid_row": null,
            "grid_template_areas": null,
            "grid_template_columns": null,
            "grid_template_rows": null,
            "height": null,
            "justify_content": null,
            "justify_items": null,
            "left": null,
            "margin": null,
            "max_height": null,
            "max_width": null,
            "min_height": null,
            "min_width": null,
            "object_fit": null,
            "object_position": null,
            "order": null,
            "overflow": null,
            "overflow_x": null,
            "overflow_y": null,
            "padding": null,
            "right": null,
            "top": null,
            "visibility": null,
            "width": null
          }
        },
        "45d4a326a71d431db4d91878f37707c6": {
          "model_module": "@jupyter-widgets/base",
          "model_name": "LayoutModel",
          "model_module_version": "1.2.0",
          "state": {
            "_model_module": "@jupyter-widgets/base",
            "_model_module_version": "1.2.0",
            "_model_name": "LayoutModel",
            "_view_count": null,
            "_view_module": "@jupyter-widgets/base",
            "_view_module_version": "1.2.0",
            "_view_name": "LayoutView",
            "align_content": null,
            "align_items": null,
            "align_self": null,
            "border": null,
            "bottom": null,
            "display": null,
            "flex": null,
            "flex_flow": null,
            "grid_area": null,
            "grid_auto_columns": null,
            "grid_auto_flow": null,
            "grid_auto_rows": null,
            "grid_column": null,
            "grid_gap": null,
            "grid_row": null,
            "grid_template_areas": null,
            "grid_template_columns": null,
            "grid_template_rows": null,
            "height": null,
            "justify_content": null,
            "justify_items": null,
            "left": null,
            "margin": null,
            "max_height": null,
            "max_width": null,
            "min_height": null,
            "min_width": null,
            "object_fit": null,
            "object_position": null,
            "order": null,
            "overflow": null,
            "overflow_x": null,
            "overflow_y": null,
            "padding": null,
            "right": null,
            "top": null,
            "visibility": null,
            "width": null
          }
        },
        "31e06fd2e10b4c4d9338ca1fe56ce160": {
          "model_module": "@jupyter-widgets/controls",
          "model_name": "DescriptionStyleModel",
          "model_module_version": "1.5.0",
          "state": {
            "_model_module": "@jupyter-widgets/controls",
            "_model_module_version": "1.5.0",
            "_model_name": "DescriptionStyleModel",
            "_view_count": null,
            "_view_module": "@jupyter-widgets/base",
            "_view_module_version": "1.2.0",
            "_view_name": "StyleView",
            "description_width": ""
          }
        },
        "b1e8d9bf53054eacb37fee74bc36c9b9": {
          "model_module": "@jupyter-widgets/base",
          "model_name": "LayoutModel",
          "model_module_version": "1.2.0",
          "state": {
            "_model_module": "@jupyter-widgets/base",
            "_model_module_version": "1.2.0",
            "_model_name": "LayoutModel",
            "_view_count": null,
            "_view_module": "@jupyter-widgets/base",
            "_view_module_version": "1.2.0",
            "_view_name": "LayoutView",
            "align_content": null,
            "align_items": null,
            "align_self": null,
            "border": null,
            "bottom": null,
            "display": null,
            "flex": null,
            "flex_flow": null,
            "grid_area": null,
            "grid_auto_columns": null,
            "grid_auto_flow": null,
            "grid_auto_rows": null,
            "grid_column": null,
            "grid_gap": null,
            "grid_row": null,
            "grid_template_areas": null,
            "grid_template_columns": null,
            "grid_template_rows": null,
            "height": null,
            "justify_content": null,
            "justify_items": null,
            "left": null,
            "margin": null,
            "max_height": null,
            "max_width": null,
            "min_height": null,
            "min_width": null,
            "object_fit": null,
            "object_position": null,
            "order": null,
            "overflow": null,
            "overflow_x": null,
            "overflow_y": null,
            "padding": null,
            "right": null,
            "top": null,
            "visibility": null,
            "width": null
          }
        },
        "534595c4f54b4469abfad9d934387b85": {
          "model_module": "@jupyter-widgets/controls",
          "model_name": "ProgressStyleModel",
          "model_module_version": "1.5.0",
          "state": {
            "_model_module": "@jupyter-widgets/controls",
            "_model_module_version": "1.5.0",
            "_model_name": "ProgressStyleModel",
            "_view_count": null,
            "_view_module": "@jupyter-widgets/base",
            "_view_module_version": "1.2.0",
            "_view_name": "StyleView",
            "bar_color": null,
            "description_width": ""
          }
        },
        "f87829fdb7c3495584185239c00f614a": {
          "model_module": "@jupyter-widgets/base",
          "model_name": "LayoutModel",
          "model_module_version": "1.2.0",
          "state": {
            "_model_module": "@jupyter-widgets/base",
            "_model_module_version": "1.2.0",
            "_model_name": "LayoutModel",
            "_view_count": null,
            "_view_module": "@jupyter-widgets/base",
            "_view_module_version": "1.2.0",
            "_view_name": "LayoutView",
            "align_content": null,
            "align_items": null,
            "align_self": null,
            "border": null,
            "bottom": null,
            "display": null,
            "flex": null,
            "flex_flow": null,
            "grid_area": null,
            "grid_auto_columns": null,
            "grid_auto_flow": null,
            "grid_auto_rows": null,
            "grid_column": null,
            "grid_gap": null,
            "grid_row": null,
            "grid_template_areas": null,
            "grid_template_columns": null,
            "grid_template_rows": null,
            "height": null,
            "justify_content": null,
            "justify_items": null,
            "left": null,
            "margin": null,
            "max_height": null,
            "max_width": null,
            "min_height": null,
            "min_width": null,
            "object_fit": null,
            "object_position": null,
            "order": null,
            "overflow": null,
            "overflow_x": null,
            "overflow_y": null,
            "padding": null,
            "right": null,
            "top": null,
            "visibility": null,
            "width": null
          }
        },
        "d8438a5ac0bd465c9d6642fe45b1c114": {
          "model_module": "@jupyter-widgets/controls",
          "model_name": "DescriptionStyleModel",
          "model_module_version": "1.5.0",
          "state": {
            "_model_module": "@jupyter-widgets/controls",
            "_model_module_version": "1.5.0",
            "_model_name": "DescriptionStyleModel",
            "_view_count": null,
            "_view_module": "@jupyter-widgets/base",
            "_view_module_version": "1.2.0",
            "_view_name": "StyleView",
            "description_width": ""
          }
        }
      }
    }
  },
  "nbformat": 4,
  "nbformat_minor": 0
}
